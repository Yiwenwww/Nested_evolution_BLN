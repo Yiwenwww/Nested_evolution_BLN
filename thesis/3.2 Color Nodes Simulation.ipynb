{
 "cells": [
  {
   "cell_type": "code",
   "execution_count": 2,
   "id": "7a9e93a5",
   "metadata": {
    "scrolled": true
   },
   "outputs": [
    {
     "name": "stderr",
     "output_type": "stream",
     "text": [
      "C:\\Users\\wyw25\\anaconda3\\lib\\site-packages\\scipy\\__init__.py:146: UserWarning: A NumPy version >=1.16.5 and <1.23.0 is required for this version of SciPy (detected version 1.26.2\n",
      "  warnings.warn(f\"A NumPy version >={np_minversion} and <{np_maxversion}\"\n"
     ]
    }
   ],
   "source": [
    "import networkx as nx\n",
    "import random\n",
    "import networkx as nx\n",
    "from matplotlib import pyplot, patches\n",
    "from scipy import io\n",
    "import numpy as np\n",
    "from collections import defaultdict\n",
    "import pickle\n",
    "from tqdm import tqdm\n",
    "import matplotlib.ticker as ticker\n",
    "import matplotlib.pyplot as plt "
   ]
  },
  {
   "cell_type": "code",
   "execution_count": 3,
   "id": "b285ef4b",
   "metadata": {},
   "outputs": [],
   "source": [
    "# Desgin of the Game:\n",
    "## 1. finish the model for generate the network without blocks\n",
    "## 2. simulation function of the empricial network to the model\n",
    "## 3. generate the network wih blocks\n",
    "## 4. apply simulation from empricial to the model of blcoks"
   ]
  },
  {
   "cell_type": "markdown",
   "id": "defd88ce",
   "metadata": {},
   "source": [
    "# The functions for generate network"
   ]
  },
  {
   "cell_type": "code",
   "execution_count": 762,
   "id": "840f1e11",
   "metadata": {},
   "outputs": [],
   "source": [
    "def assign_colors(Mat):\n",
    "    \n",
    "    graph=nx.from_numpy_array(np.array(Mat))\n",
    "    colors = {0: 0}  # Dictionary to store node colors\n",
    "    \n",
    "    # Create a queue with all nodes in the graph\n",
    "    node_queue = list(graph.nodes())\n",
    "\n",
    "    while node_queue:\n",
    "        # Get a list of colors already present in the graph\n",
    "        existing_colors = list(set(colors.values()))\n",
    "\n",
    "        current_node = node_queue.pop(0)  # Dequeue a node\n",
    "\n",
    "        # Check if the node should take the exit color\n",
    "        if random.random() < 0.9:\n",
    "            # Choose a random color from the existing colors in the graph\n",
    "            exit_color = random.choice(existing_colors)\n",
    "            colors[current_node] = exit_color\n",
    "          #  graph.nodes[current_node][\"label\"]= exit_color\n",
    "        else:\n",
    "            # Generate a new color (you can replace this with your own color generation logic)\n",
    "            new_color = len(colors)\n",
    "            colors[current_node] = new_color\n",
    "          #  graph.nodes[current_node][\"label\"]= new_color\n",
    "\n",
    "        # Update the queue with neighbors of the current node\n",
    "   #     node_queue.extend(neighbor for neighbor in graph.neighbors(current_node) if neighbor not in colors)\n",
    "\n",
    "    return colors"
   ]
  },
  {
   "cell_type": "code",
   "execution_count": 5,
   "id": "531a6ac1",
   "metadata": {},
   "outputs": [],
   "source": [
    "def create_label_probability_matrix(labels):\n",
    "    num_nodes = len(labels)\n",
    "    \n",
    "    # Create a square matrix of size num_nodes x num_nodes\n",
    "    matrix = np.zeros((num_nodes, num_nodes))\n",
    "\n",
    "    for i in range(num_nodes):\n",
    "        for j in range(i+1, num_nodes):  # Ensure the matrix is symmetric\n",
    "            # Set the probability for nodes i and j to connect based on their labels\n",
    "            probability = calculate_probability(labels[i], labels[j])\n",
    "            matrix[i, j] = probability\n",
    "            matrix[j, i] = probability  # Since the network is undirected, the matrix is symmetric\n",
    "\n",
    "    return matrix\n",
    "\n",
    "def calculate_probability(label_i, label_j):\n",
    "    # Example: Simple probability calculation, you can customize this based on your requirements\n",
    "    # Here, we assume a simple rule where nodes with the same label have a higher probability of connection\n",
    "    if label_i == label_j:\n",
    "        return 1  # Adjust this probability based on your specific requirements\n",
    "    else:\n",
    "        return 0"
   ]
  },
  {
   "cell_type": "code",
   "execution_count": 838,
   "id": "5026965e",
   "metadata": {},
   "outputs": [],
   "source": [
    "def Prob_links(Mat,alpha,classify_mat):\n",
    "    '''\n",
    "    This function calculate one step for the link generation\n",
    "    Mat: input matrix 0,1\n",
    "    alpha: probability for link making, 1- alpha probability for link disappear\n",
    "    '''\n",
    "    ks=100000\n",
    "    \n",
    "    N=len(Mat)\n",
    "    incr_m=[[0] * N for row in range(N)]\n",
    "    decay_m=[[0] * N for row in range(N)]\n",
    "    # degree for nodes at the beginning of the round\n",
    "    Degree=np.sum(Mat, axis=0)\n",
    "   \n",
    "    for i in range(N):\n",
    "        Value={}\n",
    "        Decline={}\n",
    "        for j in range(i+1,N):  # the node i with j\n",
    "            if Mat[i][j]==0:  # no link (possible to add a link)\n",
    "                if classify_mat[i][j]==1: # same class\n",
    "                    Value[j]= Degree[j]*2 # degree is the value     \n",
    "                else:\n",
    "                    Value[j]= Degree[j]*0.2\n",
    "                    \n",
    "            if Mat[i][j]==1:  # with link (possible to decline)\n",
    "                if classify_mat[i][j]==1: # same class\n",
    "                    Decline[j]=Degree[j]*2 # degree is the value  \n",
    "                else:\n",
    "                    Decline[j]=Degree[j]*0.2 # degree is the value\n",
    "              #  Decline[j]=Degree[j]\n",
    "                \n",
    "    #    print(Value)\n",
    "        max_keys=0\n",
    "        max_value=0\n",
    "        if len(Value) >0:\n",
    "            max_value = max(Value.values())  # maximum value\n",
    "            max_keys = [k for k, v in Value.items() if v == max_value]  # maximun keys    \n",
    "    #    print(max_keys)\n",
    "        # count the number of maxium keys for divider\n",
    "        if max_keys != 0:\n",
    "            for k in max_keys:\n",
    "         #       incr_m[i][k]= alpha/len(max_keys)\n",
    "         #       incr_m[k][i]= alpha/len(max_keys)\n",
    "               # incr_m[i][k]=  alpha/Degree[i]\n",
    "               # incr_m[k][i]=  alpha/Degree[i]\n",
    "                incr_m[i][k]=  alpha*np.exp((sum(np.array(list(Decline.values())))+max_value)/ks) / sum(np.exp((sum(np.array(list(Decline.values())))+np.array(list(Value.values())))/ks))\n",
    "                incr_m[k][i]=  alpha*np.exp((sum(np.array(list(Decline.values())))+max_value)/ks) / sum(np.exp((sum(np.array(list(Decline.values())))+np.array(list(Value.values())))/ks))\n",
    "        #        print((sum(np.array(list(Decline.values())))+max_value)/ks)\n",
    "        #        print(sum(np.exp((sum(np.array(list(Decline.values())))+np.array(list(Value.values())))/ks)))\n",
    "        #        print(incr_m[i][k])\n",
    "        #        print(alpha/len(max_keys))\n",
    "                \n",
    "        min_keys=0\n",
    "        min_value=0\n",
    "        if len(Decline) >0:\n",
    "            min_value = min(Decline.values())  # min value\n",
    "            min_keys = [k for k, v in Decline.items() if v == min_value]    # min keys    \n",
    "            \n",
    "        if min_keys != 0:\n",
    "            for k in min_keys:\n",
    "          #      decay_m[i][k]= (1 - alpha)/len(min_keys)\n",
    "          #      decay_m[k][i]= (1 - alpha)/len(min_keys) \n",
    "              #  decay_m[i][k]= (1 - alpha)/(N-Degree[i])\n",
    "              #  decay_m[k][i]= (1 - alpha)/(N-Degree[i])\n",
    "                decay_m[i][k]= (1 - alpha)*np.exp((sum(np.array(list(Value.values())))+min_value)/ks) / sum(np.exp((sum(np.array(list(Value.values())))+np.array(list(Decline.values())))/ks))\n",
    "                decay_m[k][i]= (1 - alpha)*np.exp((sum(np.array(list(Value.values())))+min_value)/ks) / sum(np.exp((sum(np.array(list(Value.values())))+np.array(list(Decline.values())))/ks))\n",
    "  #  print(incr_m)                   \n",
    "  #  print(decay_m)   \n",
    "    \n",
    "    return  incr_m, decay_m\n"
   ]
  },
  {
   "cell_type": "code",
   "execution_count": null,
   "id": "eea56007",
   "metadata": {},
   "outputs": [],
   "source": []
  },
  {
   "cell_type": "code",
   "execution_count": null,
   "id": "11e89445",
   "metadata": {},
   "outputs": [],
   "source": []
  },
  {
   "cell_type": "code",
   "execution_count": null,
   "id": "85814041",
   "metadata": {},
   "outputs": [],
   "source": []
  },
  {
   "cell_type": "code",
   "execution_count": 7,
   "id": "60e6a5b3",
   "metadata": {},
   "outputs": [],
   "source": [
    "def CreatMat(incr_m,decay_m,Mat):\n",
    "    B=np.random.rand(*np.array(incr_m).shape)\n",
    "    B_symm = (B + B.T)/2\n",
    "    incr_block=incr_m\n",
    "    decay_block=decay_m\n",
    "  #  decay_block=decay_m*(classify_mat)\n",
    "    \n",
    "    adjacency_add = B_symm  <= np.array(incr_block) # adjacency[ii, jj] is True with probability P[ii, jj]\n",
    "    adjacency_de = B_symm  <= np.array(decay_block) # adjacency[ii, jj] is True with probability P[ii, jj]\n",
    "   \n",
    "    New_Mat= Mat+ adjacency_add*1-adjacency_de*1\n",
    "           \n",
    " #   print(New_Mat)\n",
    "    return New_Mat.tolist()\n",
    "    "
   ]
  },
  {
   "cell_type": "code",
   "execution_count": 8,
   "id": "22434691",
   "metadata": {},
   "outputs": [],
   "source": [
    "def Make_stable(Mat,n,alpha,classify_mat): # define classes at beginning\n",
    "    for i in tqdm(range(n)):\n",
    "        incr_m,decay_m=Prob_links(Mat,alpha,classify_mat)\n",
    "        Mat=CreatMat(incr_m,decay_m,Mat)\n",
    "        \n",
    "    return Mat"
   ]
  },
  {
   "cell_type": "code",
   "execution_count": 520,
   "id": "c2adad08",
   "metadata": {},
   "outputs": [],
   "source": [
    "def Make_Ori_Mat(N):\n",
    "    '''\n",
    "    This function for initialize a random graph\n",
    "    '''\n",
    "    \n",
    "    MATRIX=np.random.rand(N,N)\n",
    "    np.fill_diagonal(MATRIX, 0)\n",
    "    bollmat = 0.5 <= MATRIX\n",
    "    nummat=1*bollmat\n",
    "    randmat=np.minimum( nummat, nummat.transpose() )\n",
    "    \n",
    "    return randmat.tolist()"
   ]
  },
  {
   "cell_type": "code",
   "execution_count": 10,
   "id": "90a18b35",
   "metadata": {},
   "outputs": [],
   "source": [
    "def draw_adjacency_matrix(G, node_order=None, partitions=[], colors=[]):\n",
    "    \"\"\"\n",
    "    - G is a netorkx graph\n",
    "    - node_order (optional) is a list of nodes, where each node in G\n",
    "          appears exactly once\n",
    "    - partitions is a list of node lists, where each node in G appears\n",
    "          in exactly one node list\n",
    "    - colors is a list of strings indicating what color each\n",
    "          partition should be\n",
    "    If partitions is specified, the same number of colors needs to be\n",
    "    specified.\n",
    "    \"\"\"\n",
    "    adjacency_matrix = nx.to_numpy_matrix(G, dtype=bool, nodelist=node_order)\n",
    "\n",
    "    #Plot adjacency matrix in toned-down black and white\n",
    "    fig = pyplot.figure(figsize=(10, 10)) # in inches\n",
    "    pyplot.imshow(adjacency_matrix,\n",
    "                  cmap=\"Greys\",\n",
    "                  interpolation=\"none\")\n",
    "    \n",
    "    # The rest is just if you have sorted nodes by a partition and want to\n",
    "    # highlight the module boundaries\n",
    "    assert len(partitions) == len(colors)\n",
    "    ax = pyplot.gca()\n",
    "    for partition, color in zip(partitions, colors):\n",
    "        current_idx = 0\n",
    "        for module in partition:\n",
    "            ax.add_patch(patches.Rectangle((current_idx, current_idx),\n",
    "                                          len(module), # Width\n",
    "                                          len(module), # Height\n",
    "                                          facecolor=\"none\",\n",
    "                                          edgecolor=color,\n",
    "                                          linewidth=1))\n",
    "            current_idx += len(module)"
   ]
  },
  {
   "cell_type": "code",
   "execution_count": 11,
   "id": "0448a985",
   "metadata": {},
   "outputs": [],
   "source": [
    "def Get_Order_List(community_dict,degree):\n",
    "    \n",
    "    degree_sort={k: v for k, v in sorted(degree.items(), key=lambda item: item[1], reverse=True)}\n",
    "    degree_list=list(degree_sort.keys())\n",
    "    \n",
    "    Comms = defaultdict(list)\n",
    "    for node_index, comm_id in community_dict.items():\n",
    "        Comms[comm_id].append(node_index)\n",
    "    \n",
    "    Blocks_mark = Comms.values()\n",
    "    \n",
    "    nodes_ordered=[]\n",
    "    key_node_list=[]\n",
    "    for comm_id in  Comms:\n",
    "        node_in_block=Comms[comm_id]\n",
    "        sort_degree_comm=Sort_by_degree(degree_list,node_in_block)\n",
    "        key_nodes=sort_degree_comm[0]\n",
    "        key_node_list.append(key_nodes)\n",
    "        nodes_ordered=nodes_ordered+sort_degree_comm\n",
    "        \n",
    "    return Blocks_mark,nodes_ordered,key_node_list"
   ]
  },
  {
   "cell_type": "code",
   "execution_count": 12,
   "id": "aefc4776",
   "metadata": {},
   "outputs": [],
   "source": [
    "def Sort_by_degree(degree_list,node_in_block):\n",
    "    \n",
    "    list2=list(degreeofday_new.keys())\n",
    "    result = [i for i in degree_list if i in node_in_block]\n",
    "    \n",
    "    return result"
   ]
  },
  {
   "cell_type": "code",
   "execution_count": null,
   "id": "e36b7204",
   "metadata": {},
   "outputs": [],
   "source": []
  },
  {
   "cell_type": "code",
   "execution_count": 839,
   "id": "33947666",
   "metadata": {},
   "outputs": [],
   "source": [
    "Mat=Make_Ori_Mat(100)"
   ]
  },
  {
   "cell_type": "code",
   "execution_count": 840,
   "id": "4838da4c",
   "metadata": {
    "scrolled": true
   },
   "outputs": [],
   "source": [
    "node_colors=assign_colors(Mat)\n",
    "node_labels = np.array(list(node_colors.values()))\n",
    "probability_matrix = create_label_probability_matrix(node_labels)\n"
   ]
  },
  {
   "cell_type": "code",
   "execution_count": 841,
   "id": "f7b63d74",
   "metadata": {
    "scrolled": true
   },
   "outputs": [
    {
     "name": "stderr",
     "output_type": "stream",
     "text": [
      "100%|████████████████████████████████████████████████████████████████████████████████████| 1/1 [00:00<00:00, 56.63it/s]\n"
     ]
    }
   ],
   "source": [
    "newmat=Make_stable(Mat,1,0.46,probability_matrix )"
   ]
  },
  {
   "cell_type": "code",
   "execution_count": 842,
   "id": "220bbf5a",
   "metadata": {
    "scrolled": true
   },
   "outputs": [
    {
     "name": "stderr",
     "output_type": "stream",
     "text": [
      "100%|██████████████████████████████████████████████████████████████████████████████| 4000/4000 [01:21<00:00, 49.07it/s]\n"
     ]
    }
   ],
   "source": [
    "newmat=Make_stable(newmat,4000,0.46,probability_matrix )"
   ]
  },
  {
   "cell_type": "code",
   "execution_count": 843,
   "id": "f472c322",
   "metadata": {},
   "outputs": [
    {
     "data": {
      "image/png": "[encoded data removed]",
      "text/plain": [
       "<Figure size 720x720 with 1 Axes>"
      ]
     },
     "metadata": {
      "needs_background": "light"
     },
     "output_type": "display_data"
    }
   ],
   "source": [
    "G=nx.from_numpy_matrix(np.array(newmat))\n",
    "degreeofday=dict(G.degree)\n",
    "degreeofday_new={k: v for k, v in sorted(degreeofday.items(), key=lambda item: item[1], reverse=True)}\n",
    "nodenewlist=list(degreeofday_new.keys())\n",
    "draw_adjacency_matrix(G,nodenewlist)"
   ]
  },
  {
   "cell_type": "code",
   "execution_count": 844,
   "id": "b5fc773f",
   "metadata": {},
   "outputs": [
    {
     "data": {
      "image/png": "[encoded data removed]",
      "text/plain": [
       "<Figure size 720x720 with 1 Axes>"
      ]
     },
     "metadata": {
      "needs_background": "light"
     },
     "output_type": "display_data"
    }
   ],
   "source": [
    "draw_adjacency_matrix(G)"
   ]
  },
  {
   "cell_type": "code",
   "execution_count": 845,
   "id": "be094957",
   "metadata": {},
   "outputs": [],
   "source": [
    "group_dict = node_colors\n",
    "Q_blocks_mark,Q_ordered,Q_key_node_list=Get_Order_List(group_dict,degreeofday)"
   ]
  },
  {
   "cell_type": "code",
   "execution_count": 846,
   "id": "c597e2fd",
   "metadata": {},
   "outputs": [
    {
     "data": {
      "image/png": "[encoded data removed]",
      "text/plain": [
       "<Figure size 720x720 with 1 Axes>"
      ]
     },
     "metadata": {
      "needs_background": "light"
     },
     "output_type": "display_data"
    }
   ],
   "source": [
    "draw_adjacency_matrix(G, Q_ordered,[Q_blocks_mark], [\"blue\"])"
   ]
  },
  {
   "cell_type": "code",
   "execution_count": 847,
   "id": "af94ec55",
   "metadata": {},
   "outputs": [
    {
     "data": {
      "text/plain": [
       "9"
      ]
     },
     "execution_count": 847,
     "metadata": {},
     "output_type": "execute_result"
    }
   ],
   "source": [
    "len(Q_blocks_mark)"
   ]
  },
  {
   "cell_type": "code",
   "execution_count": null,
   "id": "3dfbfb7e",
   "metadata": {},
   "outputs": [],
   "source": []
  },
  {
   "cell_type": "code",
   "execution_count": null,
   "id": "fd3ad555",
   "metadata": {},
   "outputs": [],
   "source": []
  },
  {
   "cell_type": "code",
   "execution_count": 237,
   "id": "6473de2d",
   "metadata": {},
   "outputs": [
    {
     "data": {
      "text/plain": [
       "dict_values([[0, 1, 2, 3, 10, 113, 114, 134, 195], [4, 5, 8, 12, 17, 19, 22, 23, 28, 31, 32, 34, 35, 37, 39, 40, 42, 44, 45, 46, 47, 49, 52, 54, 55, 58, 60, 61, 62, 66, 67, 70, 74, 76, 80, 81, 82, 91, 93, 97, 98, 103, 104, 107, 108, 111, 117, 118, 119, 123, 124, 125, 126, 127, 130, 131, 133, 139, 142, 143, 144, 147, 148, 150, 151, 152, 153, 154, 155, 157, 161, 163, 167, 169, 170, 171, 172, 173, 175, 176, 177, 178, 183, 187, 188, 191, 197], [6, 18, 57, 121, 184], [7, 24, 68, 190, 193], [9, 14, 116, 129, 135, 140, 166, 180, 189], [11, 43, 92, 122, 174], [13, 160, 165], [15, 87, 99, 101, 115, 120], [16, 72, 86, 96, 136], [20, 73, 138, 156], [21, 75, 109, 132, 196], [25, 64, 88, 94, 102], [26, 53, 112, 159, 182, 185, 186, 198], [27, 106, 181], [29, 38, 71, 85, 149, 162, 168], [30, 48, 65, 95, 137, 194], [33, 56, 146], [36, 78, 79, 83, 141, 164], [41, 90, 192], [50, 51, 59, 63, 110, 179, 199], [69, 84, 145, 158], [77, 89, 100, 105, 128]])"
      ]
     },
     "execution_count": 237,
     "metadata": {},
     "output_type": "execute_result"
    }
   ],
   "source": [
    "Q_blocks_mark"
   ]
  },
  {
   "cell_type": "code",
   "execution_count": 245,
   "id": "90ec4e20",
   "metadata": {},
   "outputs": [
    {
     "data": {
      "text/plain": [
       "{0: 0,\n",
       " 1: 1,\n",
       " 2: 2,\n",
       " 3: 2,\n",
       " 4: 2,\n",
       " 5: 5,\n",
       " 6: 2,\n",
       " 7: 2,\n",
       " 8: 5,\n",
       " 9: 1,\n",
       " 10: 5,\n",
       " 11: 11,\n",
       " 12: 1,\n",
       " 13: 13,\n",
       " 14: 14,\n",
       " 15: 15,\n",
       " 16: 16,\n",
       " 17: 16,\n",
       " 18: 14,\n",
       " 19: 15,\n",
       " 20: 11,\n",
       " 21: 15,\n",
       " 22: 22,\n",
       " 23: 0,\n",
       " 24: 24,\n",
       " 25: 14,\n",
       " 26: 5,\n",
       " 27: 27,\n",
       " 28: 28,\n",
       " 29: 24,\n",
       " 30: 30,\n",
       " 31: 31,\n",
       " 32: 30,\n",
       " 33: 30,\n",
       " 34: 34,\n",
       " 35: 5,\n",
       " 36: 36,\n",
       " 37: 24,\n",
       " 38: 38,\n",
       " 39: 15,\n",
       " 40: 38,\n",
       " 41: 28,\n",
       " 42: 42,\n",
       " 43: 43,\n",
       " 44: 44,\n",
       " 45: 45,\n",
       " 46: 11,\n",
       " 47: 34,\n",
       " 48: 14,\n",
       " 49: 49,\n",
       " 50: 50,\n",
       " 51: 42,\n",
       " 52: 28,\n",
       " 53: 30,\n",
       " 54: 45,\n",
       " 55: 13,\n",
       " 56: 36,\n",
       " 57: 57,\n",
       " 58: 58,\n",
       " 59: 59,\n",
       " 60: 13,\n",
       " 61: 61,\n",
       " 62: 62,\n",
       " 63: 63,\n",
       " 64: 64,\n",
       " 65: 65,\n",
       " 66: 66,\n",
       " 67: 67,\n",
       " 68: 68,\n",
       " 69: 42,\n",
       " 70: 24,\n",
       " 71: 58,\n",
       " 72: 64,\n",
       " 73: 58,\n",
       " 74: 22,\n",
       " 75: 30,\n",
       " 76: 68,\n",
       " 77: 45,\n",
       " 78: 0,\n",
       " 79: 79,\n",
       " 80: 28,\n",
       " 81: 30,\n",
       " 82: 59,\n",
       " 83: 24,\n",
       " 84: 84,\n",
       " 85: 85,\n",
       " 86: 86,\n",
       " 87: 87,\n",
       " 88: 1,\n",
       " 89: 89,\n",
       " 90: 15,\n",
       " 91: 91,\n",
       " 92: 34,\n",
       " 93: 24,\n",
       " 94: 79,\n",
       " 95: 65,\n",
       " 96: 16,\n",
       " 97: 42,\n",
       " 98: 98,\n",
       " 99: 59,\n",
       " 100: 91,\n",
       " 101: 87,\n",
       " 102: 102,\n",
       " 103: 103,\n",
       " 104: 104,\n",
       " 105: 105,\n",
       " 106: 106,\n",
       " 107: 107,\n",
       " 108: 91,\n",
       " 109: 109,\n",
       " 110: 110,\n",
       " 111: 44,\n",
       " 112: 45,\n",
       " 113: 104,\n",
       " 114: 114,\n",
       " 115: 115,\n",
       " 116: 116,\n",
       " 117: 84,\n",
       " 118: 118,\n",
       " 119: 119,\n",
       " 120: 42,\n",
       " 121: 110,\n",
       " 122: 122,\n",
       " 123: 24,\n",
       " 124: 124,\n",
       " 125: 5,\n",
       " 126: 126,\n",
       " 127: 87,\n",
       " 128: 30,\n",
       " 129: 85,\n",
       " 130: 16,\n",
       " 131: 42,\n",
       " 132: 43,\n",
       " 133: 109,\n",
       " 134: 134,\n",
       " 135: 0,\n",
       " 136: 136,\n",
       " 137: 137,\n",
       " 138: 138,\n",
       " 139: 65,\n",
       " 140: 140,\n",
       " 141: 64,\n",
       " 142: 142,\n",
       " 143: 143,\n",
       " 144: 31,\n",
       " 145: 145,\n",
       " 146: 146,\n",
       " 147: 119,\n",
       " 148: 148,\n",
       " 149: 140,\n",
       " 150: 58,\n",
       " 151: 124,\n",
       " 152: 14,\n",
       " 153: 86,\n",
       " 154: 31,\n",
       " 155: 155,\n",
       " 156: 16,\n",
       " 157: 157,\n",
       " 158: 64,\n",
       " 159: 114,\n",
       " 160: 160,\n",
       " 161: 161,\n",
       " 162: 34,\n",
       " 163: 163,\n",
       " 164: 164,\n",
       " 165: 11,\n",
       " 166: 166,\n",
       " 167: 107,\n",
       " 168: 122,\n",
       " 169: 169,\n",
       " 170: 170,\n",
       " 171: 171,\n",
       " 172: 106,\n",
       " 173: 173,\n",
       " 174: 34,\n",
       " 175: 175,\n",
       " 176: 103,\n",
       " 177: 177,\n",
       " 178: 68,\n",
       " 179: 86,\n",
       " 180: 175,\n",
       " 181: 181,\n",
       " 182: 36,\n",
       " 183: 86,\n",
       " 184: 161,\n",
       " 185: 185,\n",
       " 186: 173,\n",
       " 187: 59,\n",
       " 188: 188,\n",
       " 189: 2,\n",
       " 190: 62,\n",
       " 191: 148,\n",
       " 192: 44,\n",
       " 193: 44,\n",
       " 194: 175,\n",
       " 195: 195,\n",
       " 196: 196,\n",
       " 197: 169,\n",
       " 198: 79,\n",
       " 199: 137}"
      ]
     },
     "execution_count": 245,
     "metadata": {},
     "output_type": "execute_result"
    }
   ],
   "source": [
    "node_colors"
   ]
  },
  {
   "cell_type": "code",
   "execution_count": null,
   "id": "ea35a302",
   "metadata": {},
   "outputs": [],
   "source": []
  },
  {
   "cell_type": "code",
   "execution_count": 148,
   "id": "7aa2877e",
   "metadata": {},
   "outputs": [
    {
     "data": {
      "text/plain": [
       "[[0, 1, 1, 0, 0, 0, 0, 0, 0, 0, 0, 0, 0, 0, 0, 1, 1, 0, 1, 0],\n",
       " [1, 0, 0, 0, 0, 0, 0, 0, 0, 0, 0, 0, 0, 1, 0, 0, 0, 0, 0, 0],\n",
       " [1, 0, 0, 0, 1, 0, 0, 0, 0, 0, 1, 0, 0, 0, 0, 0, 0, 0, 0, 0],\n",
       " [0, 0, 0, 0, 1, 0, 1, 0, 1, 0, 0, 0, 0, 0, 0, 0, 0, 0, 0, 0],\n",
       " [0, 0, 1, 1, 0, 1, 0, 0, 1, 0, 0, 0, 0, 0, 0, 0, 0, 0, 0, 0],\n",
       " [0, 0, 0, 0, 1, 0, 0, 1, 1, 1, 0, 0, 0, 0, 0, 0, 0, 0, 0, 0],\n",
       " [0, 0, 0, 1, 0, 0, 0, 0, 1, 1, 0, 0, 0, 1, 1, 0, 0, 0, 0, 1],\n",
       " [0, 0, 0, 0, 0, 1, 0, 0, 1, 0, 1, 0, 0, 0, 1, 0, 0, 1, 1, 1],\n",
       " [0, 0, 0, 1, 1, 1, 1, 1, 0, 0, 0, 1, 0, 0, 0, 0, 0, 0, 0, 0],\n",
       " [0, 0, 0, 0, 0, 1, 1, 0, 0, 0, 0, 0, 0, 0, 1, 0, 1, 0, 0, 1],\n",
       " [0, 0, 1, 0, 0, 0, 0, 1, 0, 0, 0, 0, 1, 1, 0, 1, 0, 0, 0, 1],\n",
       " [0, 0, 0, 0, 0, 0, 0, 0, 1, 0, 0, 0, 1, 0, 0, 0, 0, 0, 0, 0],\n",
       " [0, 0, 0, 0, 0, 0, 0, 0, 0, 0, 1, 1, 0, 1, 0, 0, 1, 0, 1, 0],\n",
       " [0, 1, 0, 0, 0, 0, 1, 0, 0, 0, 1, 0, 1, 0, 1, 0, 0, 0, 0, 1],\n",
       " [0, 0, 0, 0, 0, 0, 1, 1, 0, 1, 0, 0, 0, 1, 0, 0, 1, 0, 0, 0],\n",
       " [1, 0, 0, 0, 0, 0, 0, 0, 0, 0, 1, 0, 0, 0, 0, 0, 0, 1, 0, 0],\n",
       " [1, 0, 0, 0, 0, 0, 0, 0, 0, 1, 0, 0, 1, 0, 1, 0, 0, 1, 0, 0],\n",
       " [0, 0, 0, 0, 0, 0, 0, 1, 0, 0, 0, 0, 0, 0, 0, 1, 1, 0, 0, 0],\n",
       " [1, 0, 0, 0, 0, 0, 0, 1, 0, 0, 0, 0, 1, 0, 0, 0, 0, 0, 0, 0],\n",
       " [0, 0, 0, 0, 0, 0, 1, 1, 0, 1, 1, 0, 0, 1, 0, 0, 0, 0, 0, 0]]"
      ]
     },
     "execution_count": 148,
     "metadata": {},
     "output_type": "execute_result"
    }
   ],
   "source": [
    "Mat"
   ]
  },
  {
   "cell_type": "code",
   "execution_count": 150,
   "id": "5759dd4c",
   "metadata": {},
   "outputs": [],
   "source": [
    "incr_m, decay_m=Prob_links(Mat,0.5)"
   ]
  },
  {
   "cell_type": "code",
   "execution_count": 152,
   "id": "6402fcff",
   "metadata": {},
   "outputs": [
    {
     "data": {
      "text/plain": [
       "[[0, 0.5, 0, 0, 0, 0, 0, 0, 0, 0, 0, 0, 0, 0, 0, 0, 0, 0, 0, 0],\n",
       " [0.5, 0, 0, 0, 0, 0, 0, 0, 0, 0, 0, 0, 0, 0.5, 0, 0, 0, 0, 0, 0],\n",
       " [0, 0, 0, 0, 0.5, 0, 0, 0, 0, 0, 0, 0, 0, 0, 0, 0, 0, 0, 0, 0],\n",
       " [0, 0, 0, 0, 0.5, 0, 0, 0, 0, 0, 0, 0, 0, 0, 0, 0, 0, 0, 0, 0],\n",
       " [0, 0, 0.5, 0.5, 0, 0.5, 0, 0, 0, 0, 0, 0, 0, 0, 0, 0, 0, 0, 0, 0],\n",
       " [0, 0, 0, 0, 0.5, 0, 0, 0, 0, 0.5, 0, 0, 0, 0, 0, 0, 0, 0, 0, 0],\n",
       " [0,\n",
       "  0,\n",
       "  0,\n",
       "  0,\n",
       "  0,\n",
       "  0,\n",
       "  0,\n",
       "  0,\n",
       "  0,\n",
       "  0.16666666666666666,\n",
       "  0,\n",
       "  0,\n",
       "  0,\n",
       "  0,\n",
       "  0.16666666666666666,\n",
       "  0,\n",
       "  0,\n",
       "  0,\n",
       "  0,\n",
       "  0.16666666666666666],\n",
       " [0, 0, 0, 0, 0, 0, 0, 0, 0, 0, 0, 0, 0, 0, 0, 0, 0, 0.25, 0.25, 0],\n",
       " [0, 0, 0, 0, 0, 0, 0, 0, 0, 0, 0, 0.5, 0, 0, 0, 0, 0, 0, 0, 0],\n",
       " [0,\n",
       "  0,\n",
       "  0,\n",
       "  0,\n",
       "  0,\n",
       "  0.5,\n",
       "  0.16666666666666666,\n",
       "  0,\n",
       "  0,\n",
       "  0,\n",
       "  0,\n",
       "  0,\n",
       "  0,\n",
       "  0,\n",
       "  0.16666666666666666,\n",
       "  0,\n",
       "  0.16666666666666666,\n",
       "  0,\n",
       "  0,\n",
       "  0.16666666666666666],\n",
       " [0, 0, 0, 0, 0, 0, 0, 0, 0, 0, 0, 0, 0, 0, 0, 0.5, 0, 0, 0, 0],\n",
       " [0, 0, 0, 0, 0, 0, 0, 0, 0.5, 0, 0, 0, 0.5, 0, 0, 0, 0, 0, 0, 0],\n",
       " [0, 0, 0, 0, 0, 0, 0, 0, 0, 0, 0, 0.5, 0, 0, 0, 0, 0, 0, 0.5, 0],\n",
       " [0, 0.5, 0, 0, 0, 0, 0, 0, 0, 0, 0, 0, 0, 0, 0.25, 0, 0, 0, 0, 0.25],\n",
       " [0,\n",
       "  0,\n",
       "  0,\n",
       "  0,\n",
       "  0,\n",
       "  0,\n",
       "  0.16666666666666666,\n",
       "  0,\n",
       "  0,\n",
       "  0.16666666666666666,\n",
       "  0,\n",
       "  0,\n",
       "  0,\n",
       "  0.25,\n",
       "  0,\n",
       "  0,\n",
       "  0.5,\n",
       "  0,\n",
       "  0,\n",
       "  0],\n",
       " [0, 0, 0, 0, 0, 0, 0, 0, 0, 0, 0.5, 0, 0, 0, 0, 0, 0, 0.5, 0, 0],\n",
       " [0,\n",
       "  0,\n",
       "  0,\n",
       "  0,\n",
       "  0,\n",
       "  0,\n",
       "  0,\n",
       "  0,\n",
       "  0,\n",
       "  0.16666666666666666,\n",
       "  0,\n",
       "  0,\n",
       "  0,\n",
       "  0,\n",
       "  0.5,\n",
       "  0,\n",
       "  0,\n",
       "  0.5,\n",
       "  0,\n",
       "  0],\n",
       " [0, 0, 0, 0, 0, 0, 0, 0.25, 0, 0, 0, 0, 0, 0, 0, 0.5, 0.5, 0, 0, 0],\n",
       " [0, 0, 0, 0, 0, 0, 0, 0.25, 0, 0, 0, 0, 0.5, 0, 0, 0, 0, 0, 0, 0],\n",
       " [0,\n",
       "  0,\n",
       "  0,\n",
       "  0,\n",
       "  0,\n",
       "  0,\n",
       "  0.16666666666666666,\n",
       "  0,\n",
       "  0,\n",
       "  0.16666666666666666,\n",
       "  0,\n",
       "  0,\n",
       "  0,\n",
       "  0.25,\n",
       "  0,\n",
       "  0,\n",
       "  0,\n",
       "  0,\n",
       "  0,\n",
       "  0]]"
      ]
     },
     "execution_count": 152,
     "metadata": {},
     "output_type": "execute_result"
    }
   ],
   "source": [
    "decay_m"
   ]
  },
  {
   "cell_type": "code",
   "execution_count": null,
   "id": "a4e1392a",
   "metadata": {},
   "outputs": [],
   "source": []
  },
  {
   "cell_type": "code",
   "execution_count": null,
   "id": "d05bb279",
   "metadata": {},
   "outputs": [],
   "source": []
  },
  {
   "cell_type": "code",
   "execution_count": null,
   "id": "4e9e7175",
   "metadata": {},
   "outputs": [],
   "source": []
  },
  {
   "cell_type": "code",
   "execution_count": null,
   "id": "fd5b2a12",
   "metadata": {},
   "outputs": [],
   "source": []
  },
  {
   "cell_type": "code",
   "execution_count": 151,
   "id": "6a4bf095",
   "metadata": {},
   "outputs": [
    {
     "data": {
      "text/plain": [
       "[[0, 0, 0, 0, 0, 0, 0, 0.5, 0, 0, 0, 0, 0, 0, 0, 0, 0, 0, 0, 0],\n",
       " [0, 0, 0, 0, 0, 0, 0, 0.5, 0, 0, 0, 0, 0, 0, 0, 0, 0, 0, 0, 0],\n",
       " [0, 0, 0, 0, 0, 0, 0, 0.5, 0, 0, 0, 0, 0, 0, 0, 0, 0, 0, 0, 0],\n",
       " [0, 0, 0, 0, 0, 0, 0, 0.5, 0, 0, 0, 0, 0, 0, 0, 0, 0, 0, 0, 0],\n",
       " [0, 0, 0, 0, 0, 0, 0, 0.5, 0, 0, 0, 0, 0, 0, 0, 0, 0, 0, 0, 0],\n",
       " [0,\n",
       "  0,\n",
       "  0,\n",
       "  0,\n",
       "  0,\n",
       "  0,\n",
       "  0.16666666666666666,\n",
       "  0,\n",
       "  0,\n",
       "  0,\n",
       "  0.16666666666666666,\n",
       "  0,\n",
       "  0,\n",
       "  0.16666666666666666,\n",
       "  0,\n",
       "  0,\n",
       "  0,\n",
       "  0,\n",
       "  0,\n",
       "  0],\n",
       " [0,\n",
       "  0,\n",
       "  0,\n",
       "  0,\n",
       "  0,\n",
       "  0.16666666666666666,\n",
       "  0,\n",
       "  0.5,\n",
       "  0,\n",
       "  0,\n",
       "  0,\n",
       "  0,\n",
       "  0,\n",
       "  0,\n",
       "  0,\n",
       "  0,\n",
       "  0,\n",
       "  0,\n",
       "  0,\n",
       "  0],\n",
       " [0.5, 0.5, 0.5, 0.5, 0.5, 0, 0.5, 0, 0, 0, 0, 0, 0, 0.5, 0, 0, 0, 0, 0, 0],\n",
       " [0, 0, 0, 0, 0, 0, 0, 0, 0, 0, 0.25, 0, 0, 0.25, 0, 0, 0, 0, 0, 0],\n",
       " [0, 0, 0, 0, 0, 0, 0, 0, 0, 0, 0.25, 0, 0, 0.25, 0, 0, 0, 0, 0, 0],\n",
       " [0,\n",
       "  0,\n",
       "  0,\n",
       "  0,\n",
       "  0,\n",
       "  0.16666666666666666,\n",
       "  0,\n",
       "  0,\n",
       "  0.25,\n",
       "  0.25,\n",
       "  0,\n",
       "  0,\n",
       "  0,\n",
       "  0,\n",
       "  0.25,\n",
       "  0,\n",
       "  0.25,\n",
       "  0,\n",
       "  0,\n",
       "  0],\n",
       " [0, 0, 0, 0, 0, 0, 0, 0, 0, 0, 0, 0, 0, 0.5, 0, 0, 0, 0, 0, 0],\n",
       " [0, 0, 0, 0, 0, 0, 0, 0, 0, 0, 0, 0, 0, 0, 0.25, 0, 0, 0, 0, 0.25],\n",
       " [0,\n",
       "  0,\n",
       "  0,\n",
       "  0,\n",
       "  0,\n",
       "  0.16666666666666666,\n",
       "  0,\n",
       "  0.5,\n",
       "  0.25,\n",
       "  0.25,\n",
       "  0,\n",
       "  0.5,\n",
       "  0,\n",
       "  0,\n",
       "  0,\n",
       "  0,\n",
       "  0.5,\n",
       "  0,\n",
       "  0,\n",
       "  0],\n",
       " [0, 0, 0, 0, 0, 0, 0, 0, 0, 0, 0.25, 0, 0.25, 0, 0, 0, 0, 0, 0, 0.5],\n",
       " [0, 0, 0, 0, 0, 0, 0, 0, 0, 0, 0, 0, 0, 0, 0, 0, 0.25, 0, 0, 0.25],\n",
       " [0, 0, 0, 0, 0, 0, 0, 0, 0, 0, 0.25, 0, 0, 0.5, 0, 0.25, 0, 0, 0, 0.5],\n",
       " [0, 0, 0, 0, 0, 0, 0, 0, 0, 0, 0, 0, 0, 0, 0, 0, 0, 0, 0, 0.5],\n",
       " [0, 0, 0, 0, 0, 0, 0, 0, 0, 0, 0, 0, 0, 0, 0, 0, 0, 0, 0, 0.5],\n",
       " [0, 0, 0, 0, 0, 0, 0, 0, 0, 0, 0, 0, 0.25, 0, 0.5, 0.25, 0.5, 0.5, 0.5, 0]]"
      ]
     },
     "execution_count": 151,
     "metadata": {},
     "output_type": "execute_result"
    }
   ],
   "source": [
    "incr_m"
   ]
  },
  {
   "cell_type": "code",
   "execution_count": null,
   "id": "b4e24ba5",
   "metadata": {},
   "outputs": [],
   "source": []
  },
  {
   "cell_type": "code",
   "execution_count": null,
   "id": "8a30a3db",
   "metadata": {},
   "outputs": [],
   "source": [
    "G.nodes[0][\"label\"] = \"A\""
   ]
  },
  {
   "cell_type": "code",
   "execution_count": 41,
   "id": "f3bd2b7c",
   "metadata": {},
   "outputs": [],
   "source": [
    "def assign_colors(graph):\n",
    "    colors = {0: 0}  # Dictionary to store node colors\n",
    "    \n",
    "    # Create a queue with all nodes in the graph\n",
    "    node_queue = list(graph.nodes())\n",
    "\n",
    "    while node_queue:\n",
    "        # Get a list of colors already present in the graph\n",
    "        existing_colors = list(set(colors.values()))\n",
    "\n",
    "        current_node = node_queue.pop(0)  # Dequeue a node\n",
    "\n",
    "        # Check if the node should take the exit color\n",
    "        if random.random() < 0.7:\n",
    "            # Choose a random color from the existing colors in the graph\n",
    "            exit_color = random.choice(existing_colors)\n",
    "            colors[current_node] = exit_color\n",
    "            graph.nodes[current_node][\"label\"]= exit_color\n",
    "        else:\n",
    "            # Generate a new color (you can replace this with your own color generation logic)\n",
    "            new_color = len(colors)\n",
    "            colors[current_node] = new_color\n",
    "            graph.nodes[current_node][\"label\"]= new_color\n",
    "\n",
    "        # Update the queue with neighbors of the current node\n",
    "        node_queue.extend(neighbor for neighbor in graph.neighbors(current_node) if neighbor not in colors)\n",
    "\n",
    "    return graph"
   ]
  },
  {
   "cell_type": "code",
   "execution_count": 54,
   "id": "fd0b2ff3",
   "metadata": {},
   "outputs": [],
   "source": [
    "# Example usage:\n",
    "# Create an empty undirected graph with n nodes\n",
    "n = 100\n",
    "graph = nx.empty_graph(n)\n",
    "\n",
    "# Assign colors based on the specified rule\n",
    "node_colors = assign_colors(graph)\n"
   ]
  },
  {
   "cell_type": "code",
   "execution_count": 49,
   "id": "5b2af6e1",
   "metadata": {},
   "outputs": [
    {
     "data": {
      "text/plain": [
       "0"
      ]
     },
     "execution_count": 49,
     "metadata": {},
     "output_type": "execute_result"
    }
   ],
   "source": [
    "node_colors.nodes[4][\"label\"] "
   ]
  },
  {
   "cell_type": "code",
   "execution_count": null,
   "id": "16115686",
   "metadata": {},
   "outputs": [],
   "source": [
    "# select nodes of same labels and add them with probability"
   ]
  },
  {
   "cell_type": "code",
   "execution_count": 67,
   "id": "d6a7de99",
   "metadata": {},
   "outputs": [
    {
     "name": "stdout",
     "output_type": "stream",
     "text": [
      "Label Probability Matrix:\n",
      "[[0.  0.8 0.8 ... 0.2 0.8 0.2]\n",
      " [0.8 0.  0.8 ... 0.2 0.8 0.2]\n",
      " [0.8 0.8 0.  ... 0.2 0.8 0.2]\n",
      " ...\n",
      " [0.2 0.2 0.2 ... 0.  0.2 0.8]\n",
      " [0.8 0.8 0.8 ... 0.2 0.  0.2]\n",
      " [0.2 0.2 0.2 ... 0.8 0.2 0. ]]\n"
     ]
    }
   ],
   "source": [
    "def create_label_probability_matrix(labels):\n",
    "    num_nodes = len(labels)\n",
    "    \n",
    "    # Create a square matrix of size num_nodes x num_nodes\n",
    "    matrix = np.zeros((num_nodes, num_nodes))\n",
    "\n",
    "    for i in range(num_nodes):\n",
    "        for j in range(i+1, num_nodes):  # Ensure the matrix is symmetric\n",
    "            # Set the probability for nodes i and j to connect based on their labels\n",
    "            probability = calculate_probability(labels[i], labels[j])\n",
    "            matrix[i, j] = probability\n",
    "            matrix[j, i] = probability  # Since the network is undirected, the matrix is symmetric\n",
    "\n",
    "    return matrix\n",
    "\n",
    "def calculate_probability(label_i, label_j):\n",
    "    # Example: Simple probability calculation, you can customize this based on your requirements\n",
    "    # Here, we assume a simple rule where nodes with the same label have a higher probability of connection\n",
    "    if label_i == label_j:\n",
    "        return 0.8  # Adjust this probability based on your specific requirements\n",
    "    else:\n",
    "        return 0.2\n",
    "\n",
    "# Example usage\n",
    "node_labels = np.array(list(node_colors.values()))\n",
    "probability_matrix = create_label_probability_matrix(node_labels)\n",
    "\n",
    "# Print the result\n",
    "print(\"Label Probability Matrix:\")\n",
    "print(probability_matrix)"
   ]
  },
  {
   "cell_type": "code",
   "execution_count": 68,
   "id": "eeb338fe",
   "metadata": {},
   "outputs": [
    {
     "data": {
      "text/plain": [
       "array([[1. , 0.2, 0.2, ..., 0.8, 0.2, 0.8],\n",
       "       [0.2, 1. , 0.2, ..., 0.8, 0.2, 0.8],\n",
       "       [0.2, 0.2, 1. , ..., 0.8, 0.2, 0.8],\n",
       "       ...,\n",
       "       [0.8, 0.8, 0.8, ..., 1. , 0.8, 0.2],\n",
       "       [0.2, 0.2, 0.2, ..., 0.8, 1. , 0.8],\n",
       "       [0.8, 0.8, 0.8, ..., 0.2, 0.8, 1. ]])"
      ]
     },
     "execution_count": 68,
     "metadata": {},
     "output_type": "execute_result"
    }
   ],
   "source": [
    "1-probability_matrix"
   ]
  },
  {
   "cell_type": "code",
   "execution_count": null,
   "id": "2fa8d0a3",
   "metadata": {},
   "outputs": [],
   "source": []
  },
  {
   "cell_type": "code",
   "execution_count": null,
   "id": "fab5a2c9",
   "metadata": {},
   "outputs": [],
   "source": []
  },
  {
   "cell_type": "code",
   "execution_count": null,
   "id": "5052d828",
   "metadata": {},
   "outputs": [],
   "source": []
  },
  {
   "cell_type": "code",
   "execution_count": null,
   "id": "ab0861f8",
   "metadata": {},
   "outputs": [],
   "source": []
  },
  {
   "cell_type": "code",
   "execution_count": 239,
   "id": "1ce7ad71",
   "metadata": {
    "scrolled": true
   },
   "outputs": [],
   "source": [
    "def assign_colors(graph):\n",
    "    colors = {0: 0}  # Dictionary to store node colors\n",
    "    \n",
    "    # Create a queue with all nodes in the graph\n",
    "    node_queue = list(graph.nodes())\n",
    "\n",
    "    while node_queue:\n",
    "        # Get a list of colors already present in the graph\n",
    "        existing_colors = list(set(colors.values()))\n",
    "\n",
    "        current_node = node_queue.pop(0)  # Dequeue a node\n",
    "\n",
    "        # Check if the node should take the exit color\n",
    "        if random.random() < 0.7:\n",
    "            # Choose a random color from the existing colors in the graph\n",
    "            exit_color = random.choice(existing_colors)\n",
    "            colors[current_node] = exit_color\n",
    "        else:\n",
    "            # Generate a new color (you can replace this with your own color generation logic)\n",
    "            new_color = len(colors)\n",
    "            colors[current_node] = new_color\n",
    "\n",
    "        # Update the queue with neighbors of the current node\n",
    "        node_queue.extend(neighbor for neighbor in graph.neighbors(current_node) if neighbor not in colors)\n",
    "\n",
    "    return colors\n"
   ]
  },
  {
   "cell_type": "code",
   "execution_count": 240,
   "id": "823a9639",
   "metadata": {},
   "outputs": [],
   "source": [
    "# Example usage:\n",
    "# Create an empty undirected graph with n nodes\n",
    "n = 100\n",
    "graph = nx.empty_graph(n)\n",
    "\n",
    "# Assign colors based on the specified rule\n",
    "node_colors = assign_colors(graph)\n"
   ]
  },
  {
   "cell_type": "code",
   "execution_count": 241,
   "id": "2e16a6f8",
   "metadata": {},
   "outputs": [
    {
     "data": {
      "text/plain": [
       "array([ 1,  1,  1,  1,  1,  1,  1,  1,  1,  1, 10, 10,  1,  1, 10, 15,  1,\n",
       "       17, 15, 17, 15,  1,  1, 15, 24,  1, 15,  1, 28, 24,  1, 15, 24, 33,\n",
       "       34, 35, 34, 10, 28, 33,  1, 41, 42, 33, 44, 41, 24, 24,  1, 42, 17,\n",
       "       10, 17, 15, 28, 34, 42, 41, 15,  1, 60, 61, 44, 63, 33, 65, 60, 28,\n",
       "       42, 33, 70,  1, 72, 60, 63, 75, 75, 70,  1,  1, 80, 61, 82, 63, 60,\n",
       "       60, 33, 28, 75, 82, 28, 28, 65, 93, 15, 33, 80, 63, 98, 44])"
      ]
     },
     "execution_count": 241,
     "metadata": {},
     "output_type": "execute_result"
    }
   ],
   "source": [
    "np.array(list(node_colors.values()))"
   ]
  },
  {
   "cell_type": "code",
   "execution_count": null,
   "id": "70f88fe4",
   "metadata": {},
   "outputs": [],
   "source": []
  },
  {
   "cell_type": "code",
   "execution_count": null,
   "id": "2770b1a8",
   "metadata": {},
   "outputs": [],
   "source": []
  },
  {
   "cell_type": "code",
   "execution_count": null,
   "id": "f31986dd",
   "metadata": {},
   "outputs": [],
   "source": []
  },
  {
   "cell_type": "code",
   "execution_count": null,
   "id": "ac2b4238",
   "metadata": {},
   "outputs": [],
   "source": []
  },
  {
   "cell_type": "code",
   "execution_count": null,
   "id": "caac3f84",
   "metadata": {},
   "outputs": [],
   "source": []
  },
  {
   "cell_type": "code",
   "execution_count": null,
   "id": "9b42853b",
   "metadata": {},
   "outputs": [],
   "source": []
  },
  {
   "cell_type": "code",
   "execution_count": null,
   "id": "64dd4830",
   "metadata": {},
   "outputs": [],
   "source": []
  },
  {
   "cell_type": "code",
   "execution_count": null,
   "id": "09b4bd41",
   "metadata": {},
   "outputs": [],
   "source": []
  },
  {
   "cell_type": "code",
   "execution_count": null,
   "id": "808406a6",
   "metadata": {},
   "outputs": [],
   "source": []
  },
  {
   "cell_type": "code",
   "execution_count": null,
   "id": "d61eebc8",
   "metadata": {},
   "outputs": [],
   "source": []
  },
  {
   "cell_type": "code",
   "execution_count": null,
   "id": "618a058b",
   "metadata": {},
   "outputs": [],
   "source": []
  },
  {
   "cell_type": "code",
   "execution_count": 36,
   "id": "d5c1d447",
   "metadata": {},
   "outputs": [
    {
     "data": {
      "text/plain": [
       "30"
      ]
     },
     "execution_count": 36,
     "metadata": {},
     "output_type": "execute_result"
    }
   ],
   "source": [
    "len(set(node_colors.values()))"
   ]
  },
  {
   "cell_type": "code",
   "execution_count": null,
   "id": "f833b7c5",
   "metadata": {},
   "outputs": [],
   "source": []
  },
  {
   "cell_type": "code",
   "execution_count": null,
   "id": "8402f788",
   "metadata": {},
   "outputs": [],
   "source": []
  }
 ],
 "metadata": {
  "kernelspec": {
   "display_name": "Python 3 (ipykernel)",
   "language": "python",
   "name": "python3"
  },
  "language_info": {
   "codemirror_mode": {
    "name": "ipython",
    "version": 3
   },
   "file_extension": ".py",
   "mimetype": "text/x-python",
   "name": "python",
   "nbconvert_exporter": "python",
   "pygments_lexer": "ipython3",
   "version": "3.9.7"
  }
 },
 "nbformat": 4,
 "nbformat_minor": 5
}
