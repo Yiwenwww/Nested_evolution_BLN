{
 "cells": [
  {
   "cell_type": "code",
   "execution_count": 21,
   "id": "7a9e93a5",
   "metadata": {
    "scrolled": true
   },
   "outputs": [],
   "source": [
    "import networkx as nx\n",
    "import random\n",
    "import networkx as nx\n",
    "from matplotlib import pyplot, patches\n",
    "from scipy import io\n",
    "import numpy as np\n",
    "from collections import defaultdict\n",
    "import pickle\n",
    "from tqdm import tqdm\n",
    "import matplotlib.ticker as ticker\n",
    "import matplotlib.pyplot as plt "
   ]
  },
  {
   "cell_type": "code",
   "execution_count": 22,
   "id": "b285ef4b",
   "metadata": {},
   "outputs": [],
   "source": [
    "# Desgin of the Game:\n",
    "## 1. finish the model for generate the network without blocks\n",
    "## 2. simulation function of the empricial network to the model\n",
    "## 3. generate the network wih blocks\n",
    "## 4. apply simulation from empricial to the model of blcoks"
   ]
  },
  {
   "cell_type": "markdown",
   "id": "defd88ce",
   "metadata": {},
   "source": [
    "# The functions for generate network"
   ]
  },
  {
   "cell_type": "code",
   "execution_count": 48,
   "id": "840f1e11",
   "metadata": {},
   "outputs": [],
   "source": [
    "def assign_colors(Mat):\n",
    "    \n",
    "    graph=nx.from_numpy_array(np.array(Mat))\n",
    "    colors = {0: 0}  # Dictionary to store node colors\n",
    "    \n",
    "    # Create a queue with all nodes in the graph\n",
    "    node_queue = list(graph.nodes())\n",
    "\n",
    "    while node_queue:\n",
    "        # Get a list of colors already present in the graph\n",
    "        existing_colors = list(set(colors.values()))\n",
    "\n",
    "        current_node = node_queue.pop(0)  # Dequeue a node\n",
    "\n",
    "        # Check if the node should take the exit color\n",
    "        if random.random() < 0.89:\n",
    "            # Choose a random color from the existing colors in the graph\n",
    "            exit_color = random.choice(existing_colors)\n",
    "            colors[current_node] = exit_color\n",
    "          #  graph.nodes[current_node][\"label\"]= exit_color\n",
    "        else:\n",
    "            # Generate a new color (you can replace this with your own color generation logic)\n",
    "            new_color = len(colors)\n",
    "            colors[current_node] = new_color\n",
    "          #  graph.nodes[current_node][\"label\"]= new_color\n",
    "\n",
    "        # Update the queue with neighbors of the current node\n",
    "   #     node_queue.extend(neighbor for neighbor in graph.neighbors(current_node) if neighbor not in colors)\n",
    "\n",
    "    return colors"
   ]
  },
  {
   "cell_type": "code",
   "execution_count": 24,
   "id": "531a6ac1",
   "metadata": {},
   "outputs": [],
   "source": [
    "def create_label_probability_matrix(labels):\n",
    "    num_nodes = len(labels)\n",
    "    \n",
    "    # Create a square matrix of size num_nodes x num_nodes\n",
    "    matrix = np.zeros((num_nodes, num_nodes))\n",
    "\n",
    "    for i in range(num_nodes):\n",
    "        for j in range(i+1, num_nodes):  # Ensure the matrix is symmetric\n",
    "            # Set the probability for nodes i and j to connect based on their labels\n",
    "            probability = calculate_probability(labels[i], labels[j])\n",
    "            matrix[i, j] = probability\n",
    "            matrix[j, i] = probability  # Since the network is undirected, the matrix is symmetric\n",
    "\n",
    "    return matrix\n",
    "\n",
    "def calculate_probability(label_i, label_j):\n",
    "    # Example: Simple probability calculation, you can customize this based on your requirements\n",
    "    # Here, we assume a simple rule where nodes with the same label have a higher probability of connection\n",
    "    if label_i == label_j:\n",
    "        return 1  # Adjust this probability based on your specific requirements\n",
    "    else:\n",
    "        return 0"
   ]
  },
  {
   "cell_type": "code",
   "execution_count": 82,
   "id": "5026965e",
   "metadata": {},
   "outputs": [],
   "source": [
    "def Prob_links(Mat,alpha,classify_mat):\n",
    "    '''\n",
    "    This function calculate one step for the link generation\n",
    "    Mat: input matrix 0,1\n",
    "    alpha: probability for link making, 1- alpha probability for link disappear\n",
    "    '''\n",
    "    ks=100000\n",
    "    \n",
    "    N=len(Mat)\n",
    "    incr_m=[[0] * N for row in range(N)]\n",
    "    decay_m=[[0] * N for row in range(N)]\n",
    "    # degree for nodes at the beginning of the round\n",
    "    Degree=np.sum(Mat, axis=0)\n",
    "   \n",
    "    for i in range(N):\n",
    "        Value={}\n",
    "        Decline={}\n",
    "        for j in range(i+1,N):  # the node i with j\n",
    "            if Mat[i][j]==0:  # no link (possible to add a link)\n",
    "                if classify_mat[i][j]==1: # same class\n",
    "                    Value[j]= Degree[j]/0.21 # degree is the value     \n",
    "                else:\n",
    "                    Value[j]= Degree[j]*0.21\n",
    "                    \n",
    "            if Mat[i][j]==1:  # with link (possible to decline)\n",
    "                if classify_mat[i][j]==1: # same class\n",
    "                    Decline[j]=Degree[j]/0.21 # degree is the value  \n",
    "                else:\n",
    "                    Decline[j]=Degree[j]*0.21 # degree is the value\n",
    "              #  Decline[j]=Degree[j]\n",
    "                \n",
    "    #    print(Value)\n",
    "        max_keys=0\n",
    "        max_value=0\n",
    "        if len(Value) >0:\n",
    "            max_value = max(Value.values())  # maximum value\n",
    "            max_keys = [k for k, v in Value.items() if v == max_value]  # maximun keys    \n",
    "    #    print(max_keys)\n",
    "        # count the number of maxium keys for divider\n",
    "        if max_keys != 0:\n",
    "            for k in max_keys:\n",
    "                incr_m[i][k]= alpha/len(max_keys)\n",
    "                incr_m[k][i]= alpha/len(max_keys)\n",
    "             \n",
    "                \n",
    "        min_keys=0\n",
    "        min_value=0\n",
    "        if len(Decline) >0:\n",
    "            min_value = min(Decline.values())  # min value\n",
    "            min_keys = [k for k, v in Decline.items() if v == min_value]    # min keys    \n",
    "            \n",
    "        if min_keys != 0:\n",
    "            for k in min_keys:\n",
    "                decay_m[i][k]= (1 - alpha)/len(min_keys)\n",
    "                decay_m[k][i]= (1 - alpha)/len(min_keys) \n",
    "             \n",
    "    \n",
    "    return  incr_m, decay_m\n"
   ]
  },
  {
   "cell_type": "code",
   "execution_count": 26,
   "id": "60e6a5b3",
   "metadata": {},
   "outputs": [],
   "source": [
    "def CreatMat(incr_m,decay_m,Mat):\n",
    "    B=np.random.rand(*np.array(incr_m).shape)\n",
    "    B_symm = (B + B.T)/2\n",
    "    incr_block=incr_m\n",
    "    decay_block=decay_m\n",
    "  #  decay_block=decay_m*(classify_mat)\n",
    "    \n",
    "    adjacency_add = B_symm  <= np.array(incr_block) # adjacency[ii, jj] is True with probability P[ii, jj]\n",
    "    adjacency_de = B_symm  <= np.array(decay_block) # adjacency[ii, jj] is True with probability P[ii, jj]\n",
    "   \n",
    "    New_Mat= Mat+ adjacency_add*1-adjacency_de*1\n",
    "           \n",
    " #   print(New_Mat)\n",
    "    return New_Mat.tolist()\n",
    "    "
   ]
  },
  {
   "cell_type": "code",
   "execution_count": 27,
   "id": "22434691",
   "metadata": {},
   "outputs": [],
   "source": [
    "def Make_stable(Mat,n,alpha,classify_mat): # define classes at beginning\n",
    "    for i in tqdm(range(n)):\n",
    "        incr_m,decay_m=Prob_links(Mat,alpha,classify_mat)\n",
    "        Mat=CreatMat(incr_m,decay_m,Mat)\n",
    "        \n",
    "    return Mat"
   ]
  },
  {
   "cell_type": "code",
   "execution_count": 28,
   "id": "c2adad08",
   "metadata": {},
   "outputs": [],
   "source": [
    "def Make_Ori_Mat(N):\n",
    "    '''\n",
    "    This function for initialize a random graph\n",
    "    '''\n",
    "    \n",
    "    MATRIX=np.random.rand(N,N)\n",
    "    np.fill_diagonal(MATRIX, 0)\n",
    "    bollmat = 0.5 <= MATRIX\n",
    "    nummat=1*bollmat\n",
    "    randmat=np.minimum( nummat, nummat.transpose() )\n",
    "    \n",
    "    return randmat.tolist()"
   ]
  },
  {
   "cell_type": "code",
   "execution_count": 29,
   "id": "90a18b35",
   "metadata": {},
   "outputs": [],
   "source": [
    "def draw_adjacency_matrix(G, node_order=None, partitions=[], colors=[]):\n",
    "    \"\"\"\n",
    "    - G is a netorkx graph\n",
    "    - node_order (optional) is a list of nodes, where each node in G\n",
    "          appears exactly once\n",
    "    - partitions is a list of node lists, where each node in G appears\n",
    "          in exactly one node list\n",
    "    - colors is a list of strings indicating what color each\n",
    "          partition should be\n",
    "    If partitions is specified, the same number of colors needs to be\n",
    "    specified.\n",
    "    \"\"\"\n",
    "    adjacency_matrix = nx.to_numpy_array(G, dtype=bool, nodelist=node_order)\n",
    "\n",
    "    #Plot adjacency matrix in toned-down black and white\n",
    "    fig = pyplot.figure(figsize=(10, 10)) # in inches\n",
    "    pyplot.imshow(adjacency_matrix,\n",
    "                  cmap=\"Greys\",\n",
    "                  interpolation=\"none\")\n",
    "    \n",
    "    # The rest is just if you have sorted nodes by a partition and want to\n",
    "    # highlight the module boundaries\n",
    "    assert len(partitions) == len(colors)\n",
    "    ax = pyplot.gca()\n",
    "    for partition, color in zip(partitions, colors):\n",
    "        current_idx = 0\n",
    "        for module in partition:\n",
    "            ax.add_patch(patches.Rectangle((current_idx, current_idx),\n",
    "                                          len(module), # Width\n",
    "                                          len(module), # Height\n",
    "                                          facecolor=\"none\",\n",
    "                                          edgecolor=color,\n",
    "                                          linewidth=1))\n",
    "            current_idx += len(module)"
   ]
  },
  {
   "cell_type": "code",
   "execution_count": 30,
   "id": "0448a985",
   "metadata": {},
   "outputs": [],
   "source": [
    "def Get_Order_List(community_dict,degree):\n",
    "    \n",
    "    degree_sort={k: v for k, v in sorted(degree.items(), key=lambda item: item[1], reverse=True)}\n",
    "    degree_list=list(degree_sort.keys())\n",
    "    \n",
    "    Comms = defaultdict(list)\n",
    "    for node_index, comm_id in community_dict.items():\n",
    "        Comms[comm_id].append(node_index)\n",
    "    \n",
    "    Blocks_mark = Comms.values()\n",
    "    \n",
    "    nodes_ordered=[]\n",
    "    key_node_list=[]\n",
    "    for comm_id in  Comms:\n",
    "        node_in_block=Comms[comm_id]\n",
    "        sort_degree_comm=Sort_by_degree(degree_list,node_in_block)\n",
    "        key_nodes=sort_degree_comm[0]\n",
    "        key_node_list.append(key_nodes)\n",
    "        nodes_ordered=nodes_ordered+sort_degree_comm\n",
    "        \n",
    "    return Blocks_mark,nodes_ordered,key_node_list"
   ]
  },
  {
   "cell_type": "code",
   "execution_count": 31,
   "id": "aefc4776",
   "metadata": {},
   "outputs": [],
   "source": [
    "def Sort_by_degree(degree_list,node_in_block):\n",
    "    \n",
    "    list2=list(degreeofday_new.keys())\n",
    "    result = [i for i in degree_list if i in node_in_block]\n",
    "    \n",
    "    return result"
   ]
  },
  {
   "cell_type": "code",
   "execution_count": null,
   "id": "e36b7204",
   "metadata": {},
   "outputs": [],
   "source": []
  },
  {
   "cell_type": "code",
   "execution_count": 83,
   "id": "33947666",
   "metadata": {},
   "outputs": [],
   "source": [
    "Mat=Make_Ori_Mat(200)"
   ]
  },
  {
   "cell_type": "code",
   "execution_count": 84,
   "id": "4838da4c",
   "metadata": {
    "scrolled": true
   },
   "outputs": [],
   "source": [
    "node_colors=assign_colors(Mat)\n",
    "node_labels = np.array(list(node_colors.values()))\n",
    "probability_matrix = create_label_probability_matrix(node_labels)\n"
   ]
  },
  {
   "cell_type": "code",
   "execution_count": 97,
   "id": "f7b63d74",
   "metadata": {
    "scrolled": true
   },
   "outputs": [
    {
     "name": "stderr",
     "output_type": "stream",
     "text": [
      "100%|██████████████████████████████████████████████████████████████████████████████| 1000/1000 [00:58<00:00, 16.99it/s]\n"
     ]
    }
   ],
   "source": [
    "newmat=Make_stable(Mat,1000,0.47,probability_matrix )"
   ]
  },
  {
   "cell_type": "code",
   "execution_count": 98,
   "id": "f472c322",
   "metadata": {},
   "outputs": [
    {
     "data": {
      "image/png": "[encoded data removed]",
      "text/plain": [
       "<Figure size 720x720 with 1 Axes>"
      ]
     },
     "metadata": {
      "needs_background": "light"
     },
     "output_type": "display_data"
    }
   ],
   "source": [
    "G=nx.from_numpy_array(np.array(newmat))\n",
    "degreeofday=dict(G.degree)\n",
    "degreeofday_new={k: v for k, v in sorted(degreeofday.items(), key=lambda item: item[1], reverse=True)}\n",
    "nodenewlist=list(degreeofday_new.keys())\n",
    "draw_adjacency_matrix(G,nodenewlist)"
   ]
  },
  {
   "cell_type": "code",
   "execution_count": 99,
   "id": "b5fc773f",
   "metadata": {},
   "outputs": [
    {
     "data": {
      "image/png": "[encoded data removed]",
      "text/plain": [
       "<Figure size 720x720 with 1 Axes>"
      ]
     },
     "metadata": {
      "needs_background": "light"
     },
     "output_type": "display_data"
    }
   ],
   "source": [
    "draw_adjacency_matrix(G)"
   ]
  },
  {
   "cell_type": "code",
   "execution_count": 100,
   "id": "be094957",
   "metadata": {},
   "outputs": [],
   "source": [
    "group_dict = node_colors\n",
    "Q_blocks_mark,Q_ordered,Q_key_node_list=Get_Order_List(group_dict,degreeofday)"
   ]
  },
  {
   "cell_type": "code",
   "execution_count": 101,
   "id": "c597e2fd",
   "metadata": {},
   "outputs": [
    {
     "data": {
      "image/png": "[encoded data removed]",
      "text/plain": [
       "<Figure size 720x720 with 1 Axes>"
      ]
     },
     "metadata": {
      "needs_background": "light"
     },
     "output_type": "display_data"
    }
   ],
   "source": [
    "draw_adjacency_matrix(G, Q_ordered,[Q_blocks_mark], [\"blue\"])"
   ]
  },
  {
   "cell_type": "code",
   "execution_count": 102,
   "id": "af94ec55",
   "metadata": {},
   "outputs": [
    {
     "data": {
      "text/plain": [
       "31"
      ]
     },
     "execution_count": 102,
     "metadata": {},
     "output_type": "execute_result"
    }
   ],
   "source": [
    "len(Q_blocks_mark)"
   ]
  },
  {
   "cell_type": "code",
   "execution_count": null,
   "id": "3dfbfb7e",
   "metadata": {},
   "outputs": [],
   "source": []
  },
  {
   "cell_type": "code",
   "execution_count": null,
   "id": "fd3ad555",
   "metadata": {},
   "outputs": [],
   "source": []
  },
  {
   "cell_type": "code",
   "execution_count": null,
   "id": "a4e1392a",
   "metadata": {},
   "outputs": [],
   "source": []
  },
  {
   "cell_type": "code",
   "execution_count": null,
   "id": "d05bb279",
   "metadata": {},
   "outputs": [],
   "source": []
  },
  {
   "cell_type": "code",
   "execution_count": null,
   "id": "4e9e7175",
   "metadata": {},
   "outputs": [],
   "source": []
  },
  {
   "cell_type": "code",
   "execution_count": null,
   "id": "fd5b2a12",
   "metadata": {},
   "outputs": [],
   "source": []
  },
  {
   "cell_type": "code",
   "execution_count": null,
   "id": "2770b1a8",
   "metadata": {},
   "outputs": [],
   "source": []
  },
  {
   "cell_type": "code",
   "execution_count": null,
   "id": "f31986dd",
   "metadata": {},
   "outputs": [],
   "source": []
  },
  {
   "cell_type": "code",
   "execution_count": null,
   "id": "ac2b4238",
   "metadata": {},
   "outputs": [],
   "source": []
  },
  {
   "cell_type": "code",
   "execution_count": null,
   "id": "caac3f84",
   "metadata": {},
   "outputs": [],
   "source": []
  },
  {
   "cell_type": "code",
   "execution_count": null,
   "id": "9b42853b",
   "metadata": {},
   "outputs": [],
   "source": []
  },
  {
   "cell_type": "code",
   "execution_count": null,
   "id": "64dd4830",
   "metadata": {},
   "outputs": [],
   "source": []
  },
  {
   "cell_type": "code",
   "execution_count": null,
   "id": "09b4bd41",
   "metadata": {},
   "outputs": [],
   "source": []
  },
  {
   "cell_type": "code",
   "execution_count": null,
   "id": "808406a6",
   "metadata": {},
   "outputs": [],
   "source": []
  },
  {
   "cell_type": "code",
   "execution_count": null,
   "id": "d61eebc8",
   "metadata": {},
   "outputs": [],
   "source": []
  },
  {
   "cell_type": "code",
   "execution_count": null,
   "id": "618a058b",
   "metadata": {},
   "outputs": [],
   "source": []
  },
  {
   "cell_type": "code",
   "execution_count": 36,
   "id": "d5c1d447",
   "metadata": {},
   "outputs": [
    {
     "data": {
      "text/plain": [
       "30"
      ]
     },
     "execution_count": 36,
     "metadata": {},
     "output_type": "execute_result"
    }
   ],
   "source": [
    "len(set(node_colors.values()))"
   ]
  },
  {
   "cell_type": "code",
   "execution_count": null,
   "id": "f833b7c5",
   "metadata": {},
   "outputs": [],
   "source": []
  },
  {
   "cell_type": "code",
   "execution_count": null,
   "id": "8402f788",
   "metadata": {},
   "outputs": [],
   "source": []
  }
 ],
 "metadata": {
  "kernelspec": {
   "display_name": "Python 3 (ipykernel)",
   "language": "python",
   "name": "python3"
  },
  "language_info": {
   "codemirror_mode": {
    "name": "ipython",
    "version": 3
   },
   "file_extension": ".py",
   "mimetype": "text/x-python",
   "name": "python",
   "nbconvert_exporter": "python",
   "pygments_lexer": "ipython3",
   "version": "3.9.7"
  }
 },
 "nbformat": 4,
 "nbformat_minor": 5
}
