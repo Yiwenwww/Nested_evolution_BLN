{
 "cells": [
  {
   "cell_type": "code",
   "execution_count": 4,
   "id": "6c283553",
   "metadata": {},
   "outputs": [],
   "source": [
    "import networkx as nx\n",
    "import pandas as pd\n",
    "from matplotlib import pyplot, patches\n",
    "from scipy import io\n",
    "import numpy as np\n",
    "from collections import defaultdict\n",
    "import community\n",
    "import pickle\n",
    "from tqdm import tqdm\n",
    "import matplotlib.ticker as ticker\n",
    "import matplotlib.pyplot as plt \n",
    "import glob, os\n",
    "import csv"
   ]
  },
  {
   "cell_type": "markdown",
   "id": "69c26e33",
   "metadata": {},
   "source": [
    "# load the nullmodel data and structuralize"
   ]
  },
  {
   "cell_type": "code",
   "execution_count": 27,
   "id": "da618273",
   "metadata": {},
   "outputs": [],
   "source": [
    "date=\"2018-01-31\"\n",
    "nulltype=\"EE\""
   ]
  },
  {
   "cell_type": "code",
   "execution_count": 58,
   "id": "b6d7bb1c",
   "metadata": {},
   "outputs": [],
   "source": [
    "def Make_dict_of_type(date,nulltype): #200*200=40000\n",
    "    N_MODEL_dic={}\n",
    "    Q_MODEL_dic={}\n",
    "    I_MODEL_dic={}\n",
    "    I_MQ_MODEL_dic={}\n",
    "    for i in tqdm(range(200)):  # index for nullmodel\n",
    "        N_dic={}\n",
    "        Q_dic={}\n",
    "        I_dic={}\n",
    "        I_MQ_dic={}\n",
    "        for j in range(200): # repeat times\n",
    "            Address=\"C:/Users/wyw25/thesis/\"+date+\"_OUTPUT/\"+nulltype+\"/\"+str(i)+\"_nullindex/\"+str(j)+\"_repeat/data_structures_NQI_results\"+date+\".csv\"\n",
    "            df_output=pd.read_csv(Address)\n",
    "            N_dic[j]=df_output['N'].values[0]\n",
    "            Q_dic[j]=df_output['Q'].values[0]\n",
    "            I_dic[j]=df_output['I'].values[0]\n",
    "            I_MQ_dic[j]=df_output['I_MQ'].values[0]\n",
    "        \n",
    "        N_MODEL_dic[i]=N_dic\n",
    "        Q_MODEL_dic[i]=Q_dic\n",
    "        I_MODEL_dic[i]=I_dic\n",
    "        I_MQ_MODEL_dic[i]=I_MQ_dic\n",
    "        \n",
    "    return  N_MODEL_dic,  Q_MODEL_dic, I_MODEL_dic, I_MQ_MODEL_dic\n",
    "               "
   ]
  },
  {
   "cell_type": "code",
   "execution_count": 59,
   "id": "7f4d4837",
   "metadata": {},
   "outputs": [],
   "source": [
    "def Make_dict_of_date(date):\n",
    "    EE={}\n",
    "    FF={}\n",
    "    PEEP={}\n",
    "    PP={}\n",
    "    \n",
    "    N_MODEL_dic,  Q_MODEL_dic, I_MODEL_dic, I_MQ_MODEL_dic=Make_dict_of_type(date,\"EE\")\n",
    "    EE['N']=N_MODEL_dic\n",
    "    EE['Q']=Q_MODEL_dic\n",
    "    EE['I']=I_MODEL_dic\n",
    "    EE['I_MQ']=I_MQ_MODEL_dic\n",
    "    \n",
    "    N_MODEL_dic,  Q_MODEL_dic, I_MODEL_dic, I_MQ_MODEL_dic=Make_dict_of_type(date,\"FF\")\n",
    "    FF['N']=N_MODEL_dic\n",
    "    FF['Q']=Q_MODEL_dic\n",
    "    FF['I']=I_MODEL_dic\n",
    "    FF['I_MQ']=I_MQ_MODEL_dic\n",
    "    \n",
    "    N_MODEL_dic,  Q_MODEL_dic, I_MODEL_dic, I_MQ_MODEL_dic=Make_dict_of_type(date,\"PEEP\")\n",
    "    PEEP['N']=N_MODEL_dic\n",
    "    PEEP['I']=I_MODEL_dic\n",
    "    PEEP['Q']=Q_MODEL_dic\n",
    "    PEEP['I_MQ']=I_MQ_MODEL_dic\n",
    "    \n",
    "    N_MODEL_dic,  Q_MODEL_dic, I_MODEL_dic, I_MQ_MODEL_dic=Make_dict_of_type(date,\"PP\")\n",
    "    PP['N']=N_MODEL_dic\n",
    "    PP['Q']=Q_MODEL_dic\n",
    "    PP['I']=I_MODEL_dic\n",
    "    PP['I_MQ']=I_MQ_MODEL_dic\n",
    "    \n",
    "    \n",
    "    return EE,FF,PEEP,PP\n",
    "    \n",
    "    "
   ]
  },
  {
   "cell_type": "code",
   "execution_count": 60,
   "id": "980b1493",
   "metadata": {},
   "outputs": [
    {
     "name": "stderr",
     "output_type": "stream",
     "text": [
      "100%|████████████████████████████████████████████████████████████████████████████████| 200/200 [05:37<00:00,  1.69s/it]\n",
      "100%|████████████████████████████████████████████████████████████████████████████████| 200/200 [06:13<00:00,  1.87s/it]\n",
      "100%|████████████████████████████████████████████████████████████████████████████████| 200/200 [04:20<00:00,  1.30s/it]\n",
      "100%|████████████████████████████████████████████████████████████████████████████████| 200/200 [04:28<00:00,  1.34s/it]\n"
     ]
    }
   ],
   "source": [
    "EE,FF,PEEP,PP=Make_dict_of_date(\"2018-01-31\")"
   ]
  },
  {
   "cell_type": "code",
   "execution_count": null,
   "id": "aaba2810",
   "metadata": {},
   "outputs": [],
   "source": []
  },
  {
   "cell_type": "markdown",
   "id": "cdf03f0f",
   "metadata": {},
   "source": [
    "# load the empirical data and structuralize"
   ]
  },
  {
   "cell_type": "code",
   "execution_count": 293,
   "id": "4799110b",
   "metadata": {},
   "outputs": [],
   "source": [
    "def Make_Empricial_data(date):\n",
    "    N_dic={}\n",
    "    Q_dic={}\n",
    "    I_dic={}\n",
    "    I_MQ_dic={}\n",
    "    for i in range(200): # repeat times\n",
    "        Address=\"C:/Users/wyw25/thesis/\"+date+\"/\"+str(i)+\"/data_structures_NQI_results\"+date+\".csv\"\n",
    "        df_output=pd.read_csv(Address)\n",
    "        N_dic[i]=df_output['N'].values[0]\n",
    "        Q_dic[i]=df_output['Q'].values[0]\n",
    "        I_dic[i]=df_output['I'].values[0]\n",
    "        I_MQ_dic[i]=df_output['I_MQ'].values[0]\n",
    "            \n",
    "    return  list(N_dic.values()),  list(Q_dic.values()), list(I_dic.values()), list(I_MQ_dic.values())"
   ]
  },
  {
   "cell_type": "code",
   "execution_count": 294,
   "id": "dde93312",
   "metadata": {},
   "outputs": [],
   "source": [
    "N_em,  Q_em, I_em, I_MQ_em=Make_Empricial_data(\"2018-01-31\")"
   ]
  },
  {
   "cell_type": "code",
   "execution_count": null,
   "id": "451f45b7",
   "metadata": {},
   "outputs": [],
   "source": []
  },
  {
   "cell_type": "markdown",
   "id": "3bedc75e",
   "metadata": {},
   "source": [
    "# Load data from server"
   ]
  },
  {
   "cell_type": "code",
   "execution_count": 310,
   "id": "4a7bf435",
   "metadata": {},
   "outputs": [],
   "source": [
    "datelist=['2018-01-12','2018-01-14','2018-01-15','2018-01-16','2018-01-17',\n",
    "            '2018-01-18','2018-01-19','2018-01-20','2018-01-21','2018-01-22','2018-01-23','2018-01-24',\n",
    "            '2018-01-25']"
   ]
  },
  {
   "cell_type": "code",
   "execution_count": 311,
   "id": "688461b4",
   "metadata": {},
   "outputs": [],
   "source": [
    "DATA={}\n",
    "for date in datelist:\n",
    "    with open(\"C:/Users/wyw25/thesis/to_local/\"+date+\"_stat.pkl\", 'rb') as fp:\n",
    "        parameters= pickle.load(fp)    \n",
    "    DATA[date]=parameters"
   ]
  },
  {
   "cell_type": "code",
   "execution_count": null,
   "id": "b71cbdb3",
   "metadata": {},
   "outputs": [],
   "source": [
    "def Date_Slice_data(date,D):\n",
    "    EE=D[date]['EE']\n",
    "    FF=D[date]['FF']\n",
    "    PEEP=D[date]['PEEP']\n",
    "    PP=D[date]['PP']\n",
    "    \n",
    "    return EE,FF,PEED,PP\n",
    "    "
   ]
  },
  {
   "cell_type": "code",
   "execution_count": null,
   "id": "13f561be",
   "metadata": {},
   "outputs": [],
   "source": []
  },
  {
   "cell_type": "code",
   "execution_count": null,
   "id": "cbad49f8",
   "metadata": {},
   "outputs": [],
   "source": []
  },
  {
   "cell_type": "code",
   "execution_count": null,
   "id": "36b99f36",
   "metadata": {},
   "outputs": [],
   "source": []
  },
  {
   "cell_type": "markdown",
   "id": "4392eae7",
   "metadata": {},
   "source": [
    "# the functions for visualization"
   ]
  },
  {
   "cell_type": "code",
   "execution_count": 112,
   "id": "9caf9882",
   "metadata": {},
   "outputs": [],
   "source": [
    "def Make_Gross_list(typedict):\n",
    "    Gross_list=[]\n",
    "    for variables in ['N','I','Q','I_MQ']: \n",
    "        numbers=[]\n",
    "        for repeat in typedict[variables].keys():\n",
    "            numbers=numbers+list(typedict[variables][repeat].values())\n",
    "        Gross_list.append(numbers)   \n",
    "            \n",
    "    return Gross_list[0],Gross_list[1],Gross_list[2],Gross_list[3]\n",
    "        "
   ]
  },
  {
   "cell_type": "code",
   "execution_count": 121,
   "id": "4198c734",
   "metadata": {},
   "outputs": [],
   "source": [
    "N_EE,I_EE,Q_EE,I_MQ_EE=Make_Gross_list(EE)\n",
    "N_FF,I_FF,Q_FF,I_MQ_FF=Make_Gross_list(FF)\n",
    "N_PEEP,I_PEEP,Q_PEEP,I_MQ_PEEP=Make_Gross_list(PEEP)\n",
    "N_PP,I_PP,Q_PP,I_MQ_PP=Make_Gross_list(PP)"
   ]
  },
  {
   "cell_type": "code",
   "execution_count": 122,
   "id": "1cbd2034",
   "metadata": {},
   "outputs": [],
   "source": [
    "dataEE=[N_EE,I_EE,Q_EE,I_MQ_EE]\n",
    "dataFF=[N_FF,I_FF,Q_FF,I_MQ_FF]\n",
    "dataPEEP=[N_PEEP,I_PEEP,Q_PEEP,I_MQ_PEEP]\n",
    "dataPP=[N_PP,I_PP,Q_PP,I_MQ_PP]"
   ]
  },
  {
   "cell_type": "code",
   "execution_count": 135,
   "id": "6e6788e8",
   "metadata": {},
   "outputs": [],
   "source": [
    "labels=['N','I','Q','I_MQ']\n",
    "fs = 10"
   ]
  },
  {
   "cell_type": "code",
   "execution_count": 187,
   "id": "bdfb961e",
   "metadata": {},
   "outputs": [
    {
     "data": {
      "image/png": "[encoded data removed]",
      "text/plain": [
       "<Figure size 432x432 with 4 Axes>"
      ]
     },
     "metadata": {
      "needs_background": "light"
     },
     "output_type": "display_data"
    }
   ],
   "source": [
    "fig, axs = plt.subplots(nrows=2, ncols=2, figsize=(6, 6), sharey=True)\n",
    "axs[0, 0].boxplot(dataEE, labels=labels, showmeans=True,showfliers=False)\n",
    "axs[0, 0].set_title('EE', fontsize=fs)\n",
    "\n",
    "axs[0, 1].boxplot(dataFF, labels=labels, showmeans=True,showfliers=False)\n",
    "axs[0, 1].set_title('FF', fontsize=fs)\n",
    "\n",
    "axs[1, 0].boxplot(dataPEEP, labels=labels, showmeans=True,showfliers=False)\n",
    "axs[1, 0].set_title('PEEP', fontsize=fs)\n",
    "\n",
    "axs[1, 1].boxplot(dataPP, labels=labels, showmeans=True,showfliers=False)\n",
    "axs[1, 1].set_title('PP', fontsize=fs)\n",
    "\n",
    "#for ax in axs.flat:\n",
    "#    ax.set_yscale('log')\n",
    "#    ax.set_yticklabels([])\n",
    "\n",
    "fig.subplots_adjust(hspace=0.4)\n",
    "plt.show()"
   ]
  },
  {
   "cell_type": "code",
   "execution_count": 295,
   "id": "1a72323e",
   "metadata": {},
   "outputs": [],
   "source": [
    "dataN=[N_EE,N_FF,N_PEEP,N_PP,N_em]\n",
    "dataI=[I_EE,I_FF,I_PEEP,I_PP,I_em]\n",
    "dataQ=[Q_EE,Q_FF,Q_PEEP,Q_PP,Q_em]\n",
    "dataIMQ=[I_MQ_EE,I_MQ_FF,I_MQ_PEEP,I_MQ_PP,I_MQ_em]\n",
    "\n",
    "labels=['EE','FF','PEEP','PP','EMPIRICAL']\n",
    "fs = 10"
   ]
  },
  {
   "cell_type": "code",
   "execution_count": 296,
   "id": "b1b9cab2",
   "metadata": {},
   "outputs": [
    {
     "data": {
      "image/png": "[encoded data removed]",
      "text/plain": [
       "<Figure size 432x432 with 4 Axes>"
      ]
     },
     "metadata": {
      "needs_background": "light"
     },
     "output_type": "display_data"
    }
   ],
   "source": [
    "fig, axs = plt.subplots(nrows=2, ncols=2, figsize=(6, 6), sharey=True)\n",
    "axs[0, 0].boxplot(dataN, labels=labels, showmeans=True,showfliers=False)\n",
    "axs[0, 0].set_title('N', fontsize=fs)\n",
    "\n",
    "axs[0, 1].boxplot(dataI, labels=labels, showmeans=True,showfliers=False)\n",
    "axs[0, 1].set_title('I', fontsize=fs)\n",
    "\n",
    "axs[1, 0].boxplot(dataQ, labels=labels, showmeans=True,showfliers=False)\n",
    "axs[1, 0].set_title('Q', fontsize=fs)\n",
    "\n",
    "axs[1, 1].boxplot(dataIMQ, labels=labels, showmeans=True,showfliers=False)\n",
    "axs[1, 1].set_title('I_MQ', fontsize=fs)\n",
    "\n",
    "#for ax in axs.flat:\n",
    "#    ax.set_yscale('log')\n",
    "#    ax.set_yticklabels([])\n",
    "\n",
    "fig.subplots_adjust(hspace=0.4)\n",
    "plt.show()"
   ]
  },
  {
   "cell_type": "code",
   "execution_count": null,
   "id": "98fdcdaf",
   "metadata": {},
   "outputs": [],
   "source": []
  },
  {
   "cell_type": "code",
   "execution_count": 216,
   "id": "d5bae239",
   "metadata": {},
   "outputs": [
    {
     "data": {
      "image/png": "[encoded data removed]",
      "text/plain": [
       "<Figure size 432x288 with 1 Axes>"
      ]
     },
     "metadata": {
      "needs_background": "light"
     },
     "output_type": "display_data"
    }
   ],
   "source": [
    "import matplotlib.pyplot as plt\n",
    "import numpy as np\n",
    "\n",
    "dataEE=[N_EE,I_EE,Q_EE,I_MQ_EE]\n",
    "dataFF=[N_FF,I_FF,Q_FF,I_MQ_FF]\n",
    "dataPEEP=[N_PEEP,I_PEEP,Q_PEEP,I_MQ_PEEP]\n",
    "dataPP=[N_PP,I_PP,Q_PP,I_MQ_PP]\n",
    "\n",
    "ticks=['N','I','Q','I_MQ']\n",
    "\n",
    "\n",
    "def set_box_color(bp, color):\n",
    "    plt.setp(bp['boxes'], color=color)\n",
    "    plt.setp(bp['whiskers'], color=color)\n",
    "    plt.setp(bp['caps'], color=color)\n",
    "    plt.setp(bp['medians'], color=color)\n",
    "\n",
    "plt.figure()\n",
    "\n",
    "bp1 = plt.boxplot(dataEE, positions=np.array(range(len(dataEE)))*3.0-0.9,sym='',  widths=0.4)\n",
    "bp2 = plt.boxplot(dataFF, positions=np.array(range(len(dataFF)))*3.0-0.3, sym='', widths=0.4)\n",
    "bp3 = plt.boxplot(dataPEEP, positions=np.array(range(len(dataPEEP)))*3.0+0.3, sym='', widths=0.4)\n",
    "bp4 = plt.boxplot(dataPP, positions=np.array(range(len(dataPP)))*3.0+0.9, sym='', widths=0.4)\n",
    "\n",
    "set_box_color(bp1, 'tab:blue') # colors are from http://colorbrewer2.org/\n",
    "set_box_color(bp2, 'tab:orange')\n",
    "set_box_color(bp3, 'tab:green')\n",
    "set_box_color(bp4, 'tab:brown')\n",
    "\n",
    "# draw temporary red and blue lines and use them to create a legend\n",
    "plt.plot([], c='tab:blue', label='EE')\n",
    "plt.plot([], c='tab:orange', label='FF')\n",
    "plt.plot([], c='tab:green', label='PEEP')\n",
    "plt.plot([], c='tab:brown', label='PP')\n",
    "plt.legend()\n",
    "\n",
    "plt.xticks(range(0, len(ticks) * 3, 3), ticks)\n",
    "#plt.xlim(-2, len(ticks)*3)\n",
    "plt.ylim(0, 1)\n",
    "plt.tight_layout()"
   ]
  },
  {
   "cell_type": "code",
   "execution_count": 297,
   "id": "5a399049",
   "metadata": {},
   "outputs": [
    {
     "data": {
      "image/png": "[encoded data removed]",
      "text/plain": [
       "<Figure size 432x288 with 1 Axes>"
      ]
     },
     "metadata": {
      "needs_background": "light"
     },
     "output_type": "display_data"
    }
   ],
   "source": [
    "dataEE=[N_EE,I_EE,Q_EE,I_MQ_EE]\n",
    "dataFF=[N_FF,I_FF,Q_FF,I_MQ_FF]\n",
    "dataPEEP=[N_PEEP,I_PEEP,Q_PEEP,I_MQ_PEEP]\n",
    "dataPP=[N_PP,I_PP,Q_PP,I_MQ_PP]\n",
    "dataEMPIRICAL=[N_em,I_em,Q_em,I_MQ_em]\n",
    "\n",
    "ticks=['N','I','Q','I_MQ']\n",
    "\n",
    "\n",
    "def set_box_color(bp, color):\n",
    "  #  plt.setp(bp['boxes'], color=color)\n",
    "  #  plt.setp(bp['whiskers'], color=color)\n",
    "   # plt.setp(bp['caps'], color=color)\n",
    "   # plt.setp(bp['medians'], color=color)\n",
    "    plt.setp(bp['bodies'], color=color)\n",
    "\n",
    "plt.figure()\n",
    "\n",
    "bp1 = plt.violinplot(dataEE, positions=np.array(range(len(dataEE)))*3.0-0.8,  widths=0.4,showmeans=True,)\n",
    "bp2 = plt.violinplot(dataFF, positions=np.array(range(len(dataFF)))*3.0-0.4,  widths=0.4,showmeans=True,)\n",
    "bp3 = plt.violinplot(dataPEEP, positions=np.array(range(len(dataPEEP)))*3.0, widths=0.4,showmeans=True,)\n",
    "bp4 = plt.violinplot(dataPP, positions=np.array(range(len(dataPP)))*3.0+0.4,  widths=0.4,showmeans=True,)\n",
    "bp5 = plt.violinplot(dataEMPIRICAL, positions=np.array(range(len(dataPP)))*3.0+0.8,  widths=0.4,showmeans=True,)\n",
    "\n",
    "set_box_color(bp1, 'tab:blue') # colors are from http://colorbrewer2.org/\n",
    "set_box_color(bp2, 'tab:orange')\n",
    "set_box_color(bp3, 'tab:green')\n",
    "set_box_color(bp4, 'tab:brown')\n",
    "set_box_color(bp5, 'tab:brown')\n",
    "\n",
    "# draw temporary red and blue lines and use them to create a legend\n",
    "plt.plot([], c='tab:blue', label='EE')\n",
    "plt.plot([], c='tab:orange', label='FF')\n",
    "plt.plot([], c='tab:green', label='PEEP')\n",
    "plt.plot([], c='tab:brown', label='PP')\n",
    "plt.plot([], c='tab:brown', label='PP')\n",
    "plt.legend()\n",
    "\n",
    "plt.xticks(range(0, len(ticks) * 3, 3), ticks)\n",
    "#plt.xlim(-2, len(ticks)*3)\n",
    "plt.ylim(0, 1)\n",
    "plt.tight_layout()"
   ]
  },
  {
   "cell_type": "code",
   "execution_count": null,
   "id": "6d8ea5c6",
   "metadata": {},
   "outputs": [],
   "source": []
  },
  {
   "cell_type": "code",
   "execution_count": 302,
   "id": "1d12aa22",
   "metadata": {},
   "outputs": [],
   "source": [
    "def Draw_means(data,position,Color,Label):\n",
    "    sample_means = np.mean(data, axis=1)\n",
    "\n",
    "    # Create a violin plot with the roles of x and y switched\n",
    "    bp=plt.violinplot(data, showmeans=True, showextrema=False,positions=position,  widths=0.4)\n",
    "\n",
    "    # Add a vertical line or point for the mean of each sample\n",
    "    for i, mean_val in enumerate(sample_means):\n",
    "        plt.plot(position[i], mean_val, 'k.')  # 'ro' stands for red color, round marker\n",
    "        plt.text(position[i], mean_val+0.1,  \"{:.2f}\".format(mean_val), color='black', ha='center',fontsize=7)\n",
    "        \n",
    "    set_box_color(bp, Color)     \n",
    "    \n",
    "    return plt"
   ]
  },
  {
   "cell_type": "code",
   "execution_count": 309,
   "id": "974121a6",
   "metadata": {},
   "outputs": [
    {
     "data": {
      "image/png": "[encoded data removed]",
      "text/plain": [
       "<Figure size 432x288 with 1 Axes>"
      ]
     },
     "metadata": {
      "needs_background": "light"
     },
     "output_type": "display_data"
    }
   ],
   "source": [
    "\n",
    "dataEE=[N_EE,I_EE,Q_EE,I_MQ_EE]\n",
    "dataFF=[N_FF,I_FF,Q_FF,I_MQ_FF]\n",
    "dataPEEP=[N_PEEP,I_PEEP,Q_PEEP,I_MQ_PEEP]\n",
    "dataPP=[N_PP,I_PP,Q_PP,I_MQ_PP]\n",
    "dataEMPIRICAL=[N_em,I_em,Q_em,I_MQ_em]\n",
    "\n",
    "ticks=['N','I','Q','I_MQ']\n",
    "\n",
    "\n",
    "def set_box_color(bp, color):\n",
    "      #  plt.setp(bp['boxes'], color=color)\n",
    "      #  plt.setp(bp['whiskers'], color=color)\n",
    "       # plt.setp(bp['caps'], color=color)\n",
    "       # plt.setp(bp['medians'], color=color)\n",
    "    plt.setp(bp['bodies'], color=color)\n",
    "\n",
    "def MAKE_violin(dataEE,dataFF,dataPEEP,dataPP,dataEMPIRICAL):    \n",
    "    plt.figure()\n",
    "\n",
    "    bp1 = Draw_means(dataEE,np.array(range(len(dataEE)))*3.0-1.0,'tab:blue','EE')\n",
    "    bp2 = Draw_means(dataFF,np.array(range(len(dataFF)))*3.0-0.5,'tab:orange','FF')\n",
    "    bp3 = Draw_means(dataPEEP,np.array(range(len(dataPEEP)))*3.0,'tab:green','PEEP')\n",
    "    bp4 = Draw_means(dataPP,np.array(range(len(dataPP)))*3.0+0.5,'tab:brown','PP')\n",
    "    bp5 = Draw_means(dataEMPIRICAL,np.array(range(len(dataPP)))*3.0+1.0,'red','Empirical')\n",
    "\n",
    "    # draw temporary red and blue lines and use them to create a legend\n",
    "    plt.plot([], c='tab:blue', label='EE')\n",
    "    plt.plot([], c='tab:orange', label='FF')\n",
    "    plt.plot([], c='tab:green', label='PEEP')\n",
    "    plt.plot([], c='tab:brown', label='PP')\n",
    "    plt.plot([], c='red', label='Empirical')\n",
    "    plt.legend()\n",
    "\n",
    "    plt.xticks(range(0, len(ticks) * 3, 3), ticks)\n",
    "    #plt.xlim(-2, len(ticks)*3)\n",
    "    plt.ylim(0, 0.1)\n",
    "    plt.tight_layout()"
   ]
  },
  {
   "cell_type": "code",
   "execution_count": null,
   "id": "5475d1c4",
   "metadata": {},
   "outputs": [],
   "source": []
  },
  {
   "cell_type": "code",
   "execution_count": null,
   "id": "4ec7731f",
   "metadata": {},
   "outputs": [],
   "source": []
  },
  {
   "cell_type": "code",
   "execution_count": null,
   "id": "774a59c5",
   "metadata": {},
   "outputs": [],
   "source": []
  },
  {
   "cell_type": "code",
   "execution_count": null,
   "id": "5e743862",
   "metadata": {},
   "outputs": [],
   "source": []
  },
  {
   "cell_type": "code",
   "execution_count": null,
   "id": "cd2653b2",
   "metadata": {},
   "outputs": [],
   "source": []
  },
  {
   "cell_type": "code",
   "execution_count": null,
   "id": "141294ab",
   "metadata": {},
   "outputs": [],
   "source": []
  },
  {
   "cell_type": "code",
   "execution_count": null,
   "id": "bd7b9136",
   "metadata": {},
   "outputs": [],
   "source": []
  },
  {
   "cell_type": "code",
   "execution_count": null,
   "id": "d71c210d",
   "metadata": {},
   "outputs": [],
   "source": []
  },
  {
   "cell_type": "code",
   "execution_count": 82,
   "id": "d1f0fb69",
   "metadata": {},
   "outputs": [
    {
     "data": {
      "text/plain": [
       "(array([ 7., 22., 43., 43., 34., 27., 16.,  3.,  4.,  1.]),\n",
       " array([0.08831474, 0.09701257, 0.1057104 , 0.11440823, 0.12310606,\n",
       "        0.1318039 , 0.14050173, 0.14919956, 0.15789739, 0.16659522,\n",
       "        0.17529305]),\n",
       " <BarContainer object of 10 artists>)"
      ]
     },
     "execution_count": 82,
     "metadata": {},
     "output_type": "execute_result"
    },
    {
     "data": {
      "image/png": "[encoded data removed]",
      "text/plain": [
       "<Figure size 432x288 with 1 Axes>"
      ]
     },
     "metadata": {
      "needs_background": "light"
     },
     "output_type": "display_data"
    }
   ],
   "source": [
    "plt.hist(EE['I_MQ'][100].values())\n",
    "plt.hist(FF['I_MQ'][100].values())\n",
    "plt.hist(PEEP['I_MQ'][100].values())\n",
    "plt.hist(PP['I_MQ'][100].values())\n"
   ]
  },
  {
   "cell_type": "code",
   "execution_count": null,
   "id": "307635fd",
   "metadata": {},
   "outputs": [],
   "source": []
  },
  {
   "cell_type": "code",
   "execution_count": null,
   "id": "700ee9ff",
   "metadata": {},
   "outputs": [],
   "source": []
  },
  {
   "cell_type": "code",
   "execution_count": null,
   "id": "b5b4c41b",
   "metadata": {},
   "outputs": [],
   "source": [
    "# THE GRAPH BY TIME"
   ]
  },
  {
   "cell_type": "code",
   "execution_count": null,
   "id": "331fba72",
   "metadata": {},
   "outputs": [],
   "source": [
    "# NODF\n",
    "# SAME OF ALL RANDOM\n",
    "def Stat_NODF():\n",
    "    \n",
    "    \n",
    "    \n",
    "    \n",
    "    \n"
   ]
  },
  {
   "cell_type": "code",
   "execution_count": null,
   "id": "c3d378d8",
   "metadata": {},
   "outputs": [],
   "source": []
  },
  {
   "cell_type": "code",
   "execution_count": null,
   "id": "7e168f40",
   "metadata": {},
   "outputs": [],
   "source": [
    "# Modularity\n",
    "def Stat_Modularity():\n",
    "    \n",
    "    \n",
    "    \n",
    "    \n",
    "\n"
   ]
  },
  {
   "cell_type": "code",
   "execution_count": null,
   "id": "3bebcb02",
   "metadata": {},
   "outputs": [],
   "source": [
    "# Inblock Nestedness\n",
    "def Stat_IBN():\n",
    "    \n",
    "    \n",
    "    \n",
    "\n"
   ]
  },
  {
   "cell_type": "code",
   "execution_count": null,
   "id": "3bfecad0",
   "metadata": {},
   "outputs": [],
   "source": [
    "# Inblock Nestedness under Max Modularity\n",
    "def Stat_IBN_MAX_Modularity():\n",
    "\n",
    "\n",
    "\n",
    "\n"
   ]
  },
  {
   "cell_type": "code",
   "execution_count": null,
   "id": "e7ccafe6",
   "metadata": {},
   "outputs": [],
   "source": []
  },
  {
   "cell_type": "code",
   "execution_count": null,
   "id": "b73595f2",
   "metadata": {},
   "outputs": [],
   "source": []
  },
  {
   "cell_type": "code",
   "execution_count": null,
   "id": "ba361b96",
   "metadata": {},
   "outputs": [],
   "source": [
    "# 200 for each null models "
   ]
  },
  {
   "cell_type": "code",
   "execution_count": null,
   "id": "c7192cd9",
   "metadata": {},
   "outputs": [],
   "source": [
    "# repeat 200 for each"
   ]
  },
  {
   "cell_type": "code",
   "execution_count": null,
   "id": "78e66f94",
   "metadata": {},
   "outputs": [],
   "source": []
  },
  {
   "cell_type": "code",
   "execution_count": null,
   "id": "028bc73c",
   "metadata": {},
   "outputs": [],
   "source": []
  },
  {
   "cell_type": "code",
   "execution_count": null,
   "id": "6148100e",
   "metadata": {},
   "outputs": [],
   "source": []
  },
  {
   "cell_type": "code",
   "execution_count": null,
   "id": "dc219f6c",
   "metadata": {},
   "outputs": [],
   "source": []
  }
 ],
 "metadata": {
  "kernelspec": {
   "display_name": "Python 3 (ipykernel)",
   "language": "python",
   "name": "python3"
  },
  "language_info": {
   "codemirror_mode": {
    "name": "ipython",
    "version": 3
   },
   "file_extension": ".py",
   "mimetype": "text/x-python",
   "name": "python",
   "nbconvert_exporter": "python",
   "pygments_lexer": "ipython3",
   "version": "3.9.7"
  }
 },
 "nbformat": 4,
 "nbformat_minor": 5
}
