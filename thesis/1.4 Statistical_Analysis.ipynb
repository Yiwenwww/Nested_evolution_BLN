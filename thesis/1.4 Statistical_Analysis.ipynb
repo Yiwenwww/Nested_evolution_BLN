{
 "cells": [
  {
   "cell_type": "code",
   "execution_count": 1,
   "id": "b8ef3916",
   "metadata": {},
   "outputs": [],
   "source": [
    "import numpy as np\n",
    "import networkx as nx\n",
    "import pandas as pd\n",
    "from datetime import datetime\n",
    "import dynetx as dn\n",
    "from tqdm import tqdm\n",
    "import pickle\n",
    "import csv"
   ]
  },
  {
   "cell_type": "code",
   "execution_count": 2,
   "id": "3b135d93",
   "metadata": {},
   "outputs": [],
   "source": [
    "import scipy.stats as sp\n",
    "import matplotlib.pyplot as plt \n",
    "import networkx.algorithms.community as nxcom\n",
    "import scipy\n",
    "import powerlaw\n",
    "from NEMtropy import UndirectedGraph, DirectedGraph\n",
    "from NEMtropy.network_functions import build_adjacency_from_edgelist\n",
    "from NEMtropy import matrix_generator\n",
    "import os\n",
    "import re\n",
    "from os import path\n",
    "import matplotlib.ticker as ticker"
   ]
  },
  {
   "cell_type": "markdown",
   "id": "6fd9dc32",
   "metadata": {},
   "source": [
    "## Step1: Load the dictionary of the networks, or LCC networks by days for calculation"
   ]
  },
  {
   "cell_type": "code",
   "execution_count": 3,
   "id": "9ae865c2",
   "metadata": {},
   "outputs": [],
   "source": [
    "with open('Network_dict.pkl', 'rb') as fp:\n",
    "    Network = pickle.load(fp)"
   ]
  },
  {
   "cell_type": "code",
   "execution_count": null,
   "id": "edb7c687",
   "metadata": {},
   "outputs": [],
   "source": [
    "G=Network['2021-11-25']"
   ]
  },
  {
   "cell_type": "code",
   "execution_count": null,
   "id": "45075935",
   "metadata": {},
   "outputs": [],
   "source": [
    "Network_list=[]"
   ]
  },
  {
   "cell_type": "markdown",
   "id": "974e0137",
   "metadata": {},
   "source": [
    "## Step2: Simple visualization for the community"
   ]
  },
  {
   "cell_type": "code",
   "execution_count": null,
   "id": "089a8111",
   "metadata": {},
   "outputs": [],
   "source": [
    "def Easy_Draw(G):\n",
    "    pos = nx.spring_layout(G, seed=6300) \n",
    "    d = dict(G.degree)\n",
    "    colors = range(380)\n",
    "    edges,weights = zip(*nx.get_edge_attributes(G,'weight').items())\n",
    "    nx.draw(G,  node_color=range(181), edgelist=edges, edge_color=norm, node_size=[v * 10 for v in d.values()], cmap=plt.cm.Blues,edge_cmap=plt.cm.Blues)\n",
    "    plt.show()\n",
    "    "
   ]
  },
  {
   "cell_type": "code",
   "execution_count": null,
   "id": "5c675e85",
   "metadata": {},
   "outputs": [],
   "source": [
    "pos = nx.nx_agraph.graphviz_layout(S[0], prog=\"neato\")\n",
    "#pos = nx.nx_agraph.graphviz_layout(S[0], prog=\"neato\", args=\"\")\n",
    "#pos = nx.kamada_kawai_layout(S[0])\n",
    "d = dict(S[0].degree)\n",
    "weights = nx.get_edge_attributes(S[0],'weight')\n",
    "\n",
    "nx.draw(S[0], pos=pos, node_color=[v * 10 for v in d.values()], width=1.0, edge_color=weights.values(), node_size=[v * 10 for v in d.values()], \n",
    "        vmin=1,vmax=100,cmap=plt.cm.Blues,edge_cmap=plt.cm.Blues,edge_vmin=1,edge_vmax=1000000)\n",
    "plt.show()"
   ]
  },
  {
   "cell_type": "code",
   "execution_count": null,
   "id": "d51cbbfa",
   "metadata": {},
   "outputs": [],
   "source": [
    "pos = nx.spring_layout(S[0], seed=63) \n",
    "d = dict(S[0].degree)\n",
    "weights = nx.get_edge_attributes(S[0],'weight')\n",
    "\n",
    "nx.draw(S[0], pos=pos, node_color=range(181), edgelist=edges,width=1.0, edge_color=weights.values(), node_size=[v * 10 for v in d.values()], cmap=plt.cm.Blues,edge_cmap=plt.cm.Blues,edge_vmin=1,edge_vmax=100000)\n",
    "plt.show()"
   ]
  },
  {
   "cell_type": "markdown",
   "id": "08cdf776",
   "metadata": {},
   "source": [
    "dot,\n",
    "neato,\n",
    "fdp,\n",
    "sfdp,\n",
    "circo,\n",
    "twopi,\n",
    "nop,\n",
    "nop2,\n",
    "osage,\n",
    "patchwork,\n",
    "Writing Layout Plugins"
   ]
  },
  {
   "cell_type": "code",
   "execution_count": null,
   "id": "7703261c",
   "metadata": {},
   "outputs": [],
   "source": [
    "def Layer_Draw(G):\n",
    "    pos = nx.nx_agraph.graphviz_layout(G, prog=\"sfdp\")\n",
    "#pos = nx.spring_layout(G, k=None, pos=None, fixed=None, iterations=5, threshold=0.0000001, weight='weight', scale=5, center=None, dim=2, seed=None)\n",
    "    d = dict(G.degree)\n",
    "    weights = nx.get_edge_attributes(G,'weight')\n",
    "    plt.figure(3,figsize=(20,20)) \n",
    "    nx.draw_networkx_nodes(G,pos=pos,linewidths=0.5,edgecolors='black',node_color=[v * 10 for v in d.values()],node_size=[v * 10 for v in d.values()], vmin=1,vmax=100,cmap=plt.cm.OrRd)\n",
    "    nx.draw_networkx_edges(G,pos=pos,width=1,connectionstyle=\"arc6,rad=0.2\" ,edge_color=weights.values(),edge_cmap=plt.cm.OrRd,edge_vmin=1,edge_vmax=1000000)\n",
    "\n",
    "    plt.show()   "
   ]
  },
  {
   "cell_type": "code",
   "execution_count": null,
   "id": "8cfc9c02",
   "metadata": {},
   "outputs": [],
   "source": [
    "G=S[0]\n",
    "pos = nx.nx_agraph.graphviz_layout(G, prog=\"twopi\",root=0)\n",
    "#pos = nx.spring_layout(G, k=None, pos=None, fixed=None, iterations=5, threshold=0.0000001, weight='weight', scale=5, center=None, dim=2, seed=None)\n",
    "d = dict(G.degree)\n",
    "weights = nx.get_edge_attributes(G,'weight')\n",
    "plt.figure(3,figsize=(10,10)) \n",
    "nx.draw_networkx_nodes(G,pos=pos,linewidths=1,edgecolors='black',node_color=[v * 10 for v in d.values()],node_size=[v * 20 for v in d.values()], vmin=1,vmax=100,cmap=plt.cm.OrRd)\n",
    "nx.draw_networkx_edges(G,pos=pos,width=1,connectionstyle=\"arc6,rad=0.2\" ,edge_color=weights.values(),edge_cmap=plt.cm.OrRd,edge_vmin=1,edge_vmax=1000000)\n",
    "\n",
    "\n",
    "plt.show()"
   ]
  },
  {
   "cell_type": "code",
   "execution_count": null,
   "id": "6e8af9d2",
   "metadata": {},
   "outputs": [],
   "source": []
  },
  {
   "cell_type": "markdown",
   "id": "11f39a2d",
   "metadata": {},
   "source": [
    "## Step3: Adjacent Matrix Visualization"
   ]
  },
  {
   "cell_type": "code",
   "execution_count": null,
   "id": "0ffa16e8",
   "metadata": {},
   "outputs": [],
   "source": [
    "from matplotlib import patches\n",
    "from scipy import io\n",
    "import numpy as np\n",
    "from collections import defaultdict"
   ]
  },
  {
   "cell_type": "markdown",
   "id": "c7e87743",
   "metadata": {},
   "source": [
    "'2018-01-12','2018-01-25','2018-03-02','2018-03-31','2018-09-21', '2019-01-29','2019-12-20', '2021-01-05','2021-05-24','2021-08-26','2021-11-25'"
   ]
  },
  {
   "cell_type": "code",
   "execution_count": null,
   "id": "22e00c4f",
   "metadata": {},
   "outputs": [],
   "source": [
    "def draw_adjacency_matrix(G, node_order=None, partitions=[], colors=[]):\n",
    " \n",
    "    adjacency_matrix = nx.to_numpy_matrix(G, dtype=np.bool, nodelist=node_order)\n",
    "\n",
    "    #Plot adjacency matrix in toned-down black and white\n",
    "    fig = plt.figure(figsize=(20, 20)) # in inches\n",
    "    plt.imshow(adjacency_matrix,\n",
    "                  cmap=\"Greys\",\n",
    "                  interpolation=\"none\")\n",
    "    \n",
    "    # The rest is just if you have sorted nodes by a partition and want to\n",
    "    # highlight the module boundaries\n",
    "    assert len(partitions) == len(colors)\n",
    "    ax = plt.gca()\n",
    "    for partition, color in zip(partitions, colors):\n",
    "        current_idx = 0\n",
    "        for module in partition:\n",
    "            ax.add_patch(patches.Rectangle((current_idx, current_idx),\n",
    "                                          len(module), # Width\n",
    "                                          len(module), # Height\n",
    "                                          facecolor=\"none\",\n",
    "                                          edgecolor=color,\n",
    "                                          linewidth=\"1\"))\n",
    "            current_idx += len(module)"
   ]
  },
  {
   "cell_type": "code",
   "execution_count": null,
   "id": "8b88bfb7",
   "metadata": {},
   "outputs": [],
   "source": [
    "# sort node by time\n",
    "draw_adjacency_matrix(G)"
   ]
  },
  {
   "cell_type": "code",
   "execution_count": null,
   "id": "6161403a",
   "metadata": {},
   "outputs": [],
   "source": [
    "degreeofday=dict(G.degree)\n",
    "degreeofday_new={k: v for k, v in sorted(degreeofday.items(), key=lambda item: item[1], reverse=True)}\n",
    "nodenewlist=list(degreeofday_new.keys())"
   ]
  },
  {
   "cell_type": "code",
   "execution_count": null,
   "id": "6d593827",
   "metadata": {},
   "outputs": [],
   "source": [
    "# sort node by degree\n",
    "draw_adjacency_matrix(G,nodenewlist)"
   ]
  },
  {
   "cell_type": "code",
   "execution_count": null,
   "id": "17038fec",
   "metadata": {},
   "outputs": [],
   "source": []
  },
  {
   "cell_type": "markdown",
   "id": "9df451b5",
   "metadata": {},
   "source": [
    "## Step4: The network properties calculation (network level)"
   ]
  },
  {
   "cell_type": "code",
   "execution_count": null,
   "id": "0289bae8",
   "metadata": {},
   "outputs": [],
   "source": [
    "def Basic_Count(Graph):\n",
    "    # total nodes \n",
    "    n_nodes=Graph.number_of_nodes()\n",
    "    # total edges\n",
    "    n_edges=Graph.number_of_edges()\n",
    "    # total density\n",
    "    n_density=nx.density(Graph)\n",
    "    # capacity\n",
    "    n_capacity=G.degree(weight='weight') \n",
    "    \n",
    "    return n_nodes,n_edges,n_density,n_capacity\n",
    "\n",
    "\n",
    "def Plot_evolution(DIC,label,n1,n2):\n",
    "    # plotting the basic count result\n",
    "    # total nodes, total egdes, total density\n",
    "    fig, ax = plt.subplots(nrows=n1, ncols=n2, figsize=(15, 4))\n",
    "    \n",
    "    for i in range(n1):\n",
    "        for j in range(n2):\n",
    "            n=i*n2+j\n",
    "            x, y = zip(*DIC[n]) \n",
    "            ax[j].scatter(x,y)\n",
    "            ax[j].set_xlabel('Time')\n",
    "            ax[j].set_yscale(\"log\")\n",
    "            ax[j].set_ylabel(label[n])\n",
    "            ax[j].xaxis.set_major_locator(ticker.MultipleLocator(400))\n",
    "            \n",
    "    plt.show()\n"
   ]
  },
  {
   "cell_type": "code",
   "execution_count": null,
   "id": "1fe696c4",
   "metadata": {},
   "outputs": [],
   "source": [
    "Nodedic={}\n",
    "Edgedic={}\n",
    "Densdic={}\n",
    "Capacity={}\n",
    "\n",
    "for dates in Network.keys():\n",
    "    n_nodes,n_edges,n_density,n_capacity=Basic_Count(Network[dates])\n",
    "    Nodedic[dates]=n_nodes\n",
    "    Edgedic[dates]=n_edges\n",
    "    Densdic[dates]=n_density\n",
    "    Capacity[dates]=n_capacity"
   ]
  },
  {
   "cell_type": "code",
   "execution_count": null,
   "id": "7a8710e7",
   "metadata": {},
   "outputs": [],
   "source": [
    "lists1 = sorted(Nodedic.items()) # sorted by key, return a list of tuples\n",
    "lists2 = sorted(Edgedic.items()) # sorted by key, return a list of tuples\n",
    "lists3 = sorted(Densdic.items()) # sorted by key, return a list of tuples\n",
    "evolution=[lists1,lists2,lists3]\n",
    "Plot_evolution(evolution,['Number of nodes N','Number of links L','Density'],1,3)"
   ]
  },
  {
   "cell_type": "code",
   "execution_count": null,
   "id": "e120f710",
   "metadata": {},
   "outputs": [],
   "source": [
    "# plot the relationship between totalnodes and density\n",
    "m=list(Nodedic.values())\n",
    "n=list(Densdic.values())\n",
    "\n",
    "plt.xlabel(\"Log Number of Nodes N\")\n",
    "plt.ylabel(\"Log Density\")\n",
    "plt.scatter(np.log10(m), np.log10(n))\n",
    "\n",
    "b, a = np.polyfit(np.log10(m), np.log10(n), deg=1)\n",
    "plt.axline(xy1=(0, a), slope=b, color='r',lw=2)\n",
    "plt.legend()\n",
    "\n",
    "plt.show()"
   ]
  },
  {
   "cell_type": "code",
   "execution_count": null,
   "id": "c1388fb2",
   "metadata": {},
   "outputs": [],
   "source": []
  },
  {
   "cell_type": "code",
   "execution_count": null,
   "id": "f3564ca8",
   "metadata": {},
   "outputs": [],
   "source": []
  },
  {
   "cell_type": "markdown",
   "id": "f002f2f2",
   "metadata": {},
   "source": [
    "## Step5: The network properties calculation (node level)"
   ]
  },
  {
   "cell_type": "code",
   "execution_count": 16,
   "id": "75eeee0f",
   "metadata": {},
   "outputs": [],
   "source": [
    "# calculate 4 centrality measures\n",
    "# degree centrality\n",
    "# closness centrality\n",
    "# betweeness centrality\n",
    "# eigenvector\n",
    "\n",
    "def calcenmeasures(network):     \n",
    "    degree_cen = nx.degree_centrality(network)   \n",
    "    between_cen = nx.betweenness_centrality(network)    \n",
    "    close_cen = nx.closeness_centrality(network)\n",
    "    try:\n",
    "        eigen_cen = nx.eigenvector_centrality(network)\n",
    "    except:\n",
    "        eigen_cen = {}\n",
    "        print('not enough data')\n",
    "    \n",
    "    return degree_cen, between_cen, close_cen, eigen_cen\n",
    "\n",
    "\n",
    "# define the function computing coefficients\n",
    "# avergage clustering\n",
    "# assortativity\n",
    "def calcoe(network):\n",
    "    avclustering=nx.average_clustering(network)\n",
    "    assortativity=nx.degree_assortativity_coefficient(network)\n",
    "    \n",
    "    return avclustering,assortativity\n",
    "\n",
    "\n",
    "# swtich dic to array\n",
    "def switchtoarray(dic):\n",
    "    arr=[]\n",
    "    for d in dic:\n",
    "        arr.append(np.asarray([i for i in d.values().values()])) \n",
    "        \n",
    "    return arr  \n",
    "\n",
    "\n",
    "# the plot of 4 centrality measures\n",
    "def plotCoefficient(all_data,time,label,n1,n2):\n",
    "    Label=[]\n",
    "    for i in time:\n",
    "        Label.append(i)\n",
    "    \n",
    "    fig, ax = plt.subplots(nrows=n1, ncols=n2, figsize=(12, 12))\n",
    "    \n",
    "    for i in range(n1):\n",
    "        for j in range(n2):\n",
    "            n=i*n2+j\n",
    "            ax[i][j].boxplot(all_data[n])\n",
    "            ax[i][j].set_xlabel('Time')\n",
    "            ax[i][j].set_ylabel(label[n])\n",
    "            ax[i][j].set_xticklabels(Label)\n",
    "            \n",
    "    plt.show()\n",
    "\n",
    "    \n",
    "# can output the top result\n",
    "def gethigh(DIC):\n",
    "    selectlist=sorted((DIC), key=DIC.get, reverse=True)[:5]\n",
    "    top=[]\n",
    "    for i in selectlist:\n",
    "        top.append(DIC[i])\n",
    "    print(selectlist)\n",
    "    print(top)\n",
    "\n",
    "    \n",
    "#plot of \n",
    "def plotavecoe(Avclustering,Assortativity,time):\n",
    "    Label=[]\n",
    "    for i in time:\n",
    "        number = re.findall(\"\\d+\",i) \n",
    "        Label.append(number[0])\n",
    "    Label.append('Total')\n",
    "    \n",
    "    fig, ax = plt.subplots()\n",
    "    ax.plot(Avclustering,label='Avergage clustering')\n",
    "    ax.plot(Assortativity,label='Assortativity')\n",
    "    ax.legend()\n",
    "    ax.set_xticks(range(len(file)+1))\n",
    "    ax.set_xticklabels(Label)\n",
    "    ax.set_xlabel('Time') \n",
    "    ax.set_title('Avergage clustering & Assortativity by time')\n",
    "    \n",
    "    plt.show()  \n",
    "    \n",
    "    \n",
    "def AvdegreeNN(network,time,n1,n2):\n",
    "    Label=[]\n",
    "    for i in time:\n",
    "        number = re.findall(\"\\d+\",i) \n",
    "        Label.append(number[0])\n",
    "    Label.append('Total')\n",
    "    \n",
    "    fig, ax = plt.subplots(nrows=n1, ncols=n2, figsize=(18,15))\n",
    "    for i in range(n1):\n",
    "        for j in range(n2):\n",
    "            n=i*n2+j\n",
    "            KNN=nx.average_degree_connectivity(network[n])\n",
    "            X = [i for i in KNN.keys() ]\n",
    "            Y = [i for i in KNN.values() ]\n",
    "            ax[i][j].scatter(X,Y)\n",
    "            ax[i][j].set_xlabel('degree k')\n",
    "            ax[i][j].set_ylabel('degree knn')\n",
    "            ax[i][j].set_title(Label[n])\n",
    "       \n",
    "    plt.show()    \n",
    "     "
   ]
  },
  {
   "cell_type": "code",
   "execution_count": 804,
   "id": "669b2b54",
   "metadata": {
    "scrolled": true
   },
   "outputs": [
    {
     "name": "stderr",
     "output_type": "stream",
     "text": [
      " 82%|█████████████████████████████████████████████████████████████▎             | 9/11 [20:36:10<4:34:42, 8241.19s/it]\n"
     ]
    },
    {
     "ename": "KeyboardInterrupt",
     "evalue": "",
     "output_type": "error",
     "traceback": [
      "\u001b[1;31m---------------------------------------------------------------------------\u001b[0m",
      "\u001b[1;31mKeyboardInterrupt\u001b[0m                         Traceback (most recent call last)",
      "\u001b[1;32m~\\AppData\\Local\\Temp/ipykernel_20976/2020533599.py\u001b[0m in \u001b[0;36m<module>\u001b[1;34m\u001b[0m\n\u001b[0;32m      5\u001b[0m \u001b[1;33m\u001b[0m\u001b[0m\n\u001b[0;32m      6\u001b[0m \u001b[1;32mfor\u001b[0m \u001b[0myear\u001b[0m \u001b[1;32min\u001b[0m \u001b[0mtqdm\u001b[0m\u001b[1;33m(\u001b[0m\u001b[0mDic_lcc\u001b[0m\u001b[1;33m.\u001b[0m\u001b[0mkeys\u001b[0m\u001b[1;33m(\u001b[0m\u001b[1;33m)\u001b[0m\u001b[1;33m)\u001b[0m\u001b[1;33m:\u001b[0m\u001b[1;33m\u001b[0m\u001b[1;33m\u001b[0m\u001b[0m\n\u001b[1;32m----> 7\u001b[1;33m     \u001b[0mdegree_cen\u001b[0m\u001b[1;33m,\u001b[0m \u001b[0mbetween_cen\u001b[0m\u001b[1;33m,\u001b[0m \u001b[0mclose_cen\u001b[0m\u001b[1;33m,\u001b[0m \u001b[0meigen_cen\u001b[0m\u001b[1;33m=\u001b[0m\u001b[0mcalcenmeasures\u001b[0m\u001b[1;33m(\u001b[0m\u001b[0mDic_lcc\u001b[0m\u001b[1;33m[\u001b[0m\u001b[0myear\u001b[0m\u001b[1;33m]\u001b[0m\u001b[1;33m)\u001b[0m\u001b[1;33m\u001b[0m\u001b[1;33m\u001b[0m\u001b[0m\n\u001b[0m\u001b[0;32m      8\u001b[0m     \u001b[0mDegree_cen\u001b[0m\u001b[1;33m[\u001b[0m\u001b[0myear\u001b[0m\u001b[1;33m]\u001b[0m\u001b[1;33m=\u001b[0m\u001b[0mdegree_cen\u001b[0m\u001b[1;33m\u001b[0m\u001b[1;33m\u001b[0m\u001b[0m\n\u001b[0;32m      9\u001b[0m     \u001b[0mBetween_cen\u001b[0m\u001b[1;33m[\u001b[0m\u001b[0myear\u001b[0m\u001b[1;33m]\u001b[0m\u001b[1;33m=\u001b[0m\u001b[0mbetween_cen\u001b[0m\u001b[1;33m\u001b[0m\u001b[1;33m\u001b[0m\u001b[0m\n",
      "\u001b[1;32m~\\AppData\\Local\\Temp/ipykernel_20976/3530137446.py\u001b[0m in \u001b[0;36mcalcenmeasures\u001b[1;34m(network)\u001b[0m\n\u001b[0;32m      7\u001b[0m     \u001b[0mdegree_cen\u001b[0m \u001b[1;33m=\u001b[0m \u001b[0mnx\u001b[0m\u001b[1;33m.\u001b[0m\u001b[0mdegree_centrality\u001b[0m\u001b[1;33m(\u001b[0m\u001b[0mnetwork\u001b[0m\u001b[1;33m)\u001b[0m\u001b[1;33m\u001b[0m\u001b[1;33m\u001b[0m\u001b[0m\n\u001b[0;32m      8\u001b[0m     \u001b[0mbetween_cen\u001b[0m \u001b[1;33m=\u001b[0m \u001b[0mnx\u001b[0m\u001b[1;33m.\u001b[0m\u001b[0mbetweenness_centrality\u001b[0m\u001b[1;33m(\u001b[0m\u001b[0mnetwork\u001b[0m\u001b[1;33m)\u001b[0m\u001b[1;33m\u001b[0m\u001b[1;33m\u001b[0m\u001b[0m\n\u001b[1;32m----> 9\u001b[1;33m     \u001b[0mclose_cen\u001b[0m \u001b[1;33m=\u001b[0m \u001b[0mnx\u001b[0m\u001b[1;33m.\u001b[0m\u001b[0mcloseness_centrality\u001b[0m\u001b[1;33m(\u001b[0m\u001b[0mnetwork\u001b[0m\u001b[1;33m)\u001b[0m\u001b[1;33m\u001b[0m\u001b[1;33m\u001b[0m\u001b[0m\n\u001b[0m\u001b[0;32m     10\u001b[0m     \u001b[1;32mtry\u001b[0m\u001b[1;33m:\u001b[0m\u001b[1;33m\u001b[0m\u001b[1;33m\u001b[0m\u001b[0m\n\u001b[0;32m     11\u001b[0m         \u001b[0meigen_cen\u001b[0m \u001b[1;33m=\u001b[0m \u001b[0mnx\u001b[0m\u001b[1;33m.\u001b[0m\u001b[0meigenvector_centrality\u001b[0m\u001b[1;33m(\u001b[0m\u001b[0mnetwork\u001b[0m\u001b[1;33m)\u001b[0m\u001b[1;33m\u001b[0m\u001b[1;33m\u001b[0m\u001b[0m\n",
      "\u001b[1;32m~\\anaconda3\\lib\\site-packages\\networkx\\algorithms\\centrality\\closeness.py\u001b[0m in \u001b[0;36mcloseness_centrality\u001b[1;34m(G, u, distance, wf_improved)\u001b[0m\n\u001b[0;32m    111\u001b[0m     \u001b[0mcloseness_centrality\u001b[0m \u001b[1;33m=\u001b[0m \u001b[1;33m{\u001b[0m\u001b[1;33m}\u001b[0m\u001b[1;33m\u001b[0m\u001b[1;33m\u001b[0m\u001b[0m\n\u001b[0;32m    112\u001b[0m     \u001b[1;32mfor\u001b[0m \u001b[0mn\u001b[0m \u001b[1;32min\u001b[0m \u001b[0mnodes\u001b[0m\u001b[1;33m:\u001b[0m\u001b[1;33m\u001b[0m\u001b[1;33m\u001b[0m\u001b[0m\n\u001b[1;32m--> 113\u001b[1;33m         \u001b[0msp\u001b[0m \u001b[1;33m=\u001b[0m \u001b[0mpath_length\u001b[0m\u001b[1;33m(\u001b[0m\u001b[0mG\u001b[0m\u001b[1;33m,\u001b[0m \u001b[0mn\u001b[0m\u001b[1;33m)\u001b[0m\u001b[1;33m\u001b[0m\u001b[1;33m\u001b[0m\u001b[0m\n\u001b[0m\u001b[0;32m    114\u001b[0m         \u001b[0mtotsp\u001b[0m \u001b[1;33m=\u001b[0m \u001b[0msum\u001b[0m\u001b[1;33m(\u001b[0m\u001b[0msp\u001b[0m\u001b[1;33m.\u001b[0m\u001b[0mvalues\u001b[0m\u001b[1;33m(\u001b[0m\u001b[1;33m)\u001b[0m\u001b[1;33m)\u001b[0m\u001b[1;33m\u001b[0m\u001b[1;33m\u001b[0m\u001b[0m\n\u001b[0;32m    115\u001b[0m         \u001b[0mlen_G\u001b[0m \u001b[1;33m=\u001b[0m \u001b[0mlen\u001b[0m\u001b[1;33m(\u001b[0m\u001b[0mG\u001b[0m\u001b[1;33m)\u001b[0m\u001b[1;33m\u001b[0m\u001b[1;33m\u001b[0m\u001b[0m\n",
      "\u001b[1;32m~\\anaconda3\\lib\\site-packages\\networkx\\algorithms\\shortest_paths\\unweighted.py\u001b[0m in \u001b[0;36msingle_source_shortest_path_length\u001b[1;34m(G, source, cutoff)\u001b[0m\n\u001b[0;32m     57\u001b[0m         \u001b[0mcutoff\u001b[0m \u001b[1;33m=\u001b[0m \u001b[0mfloat\u001b[0m\u001b[1;33m(\u001b[0m\u001b[1;34m\"inf\"\u001b[0m\u001b[1;33m)\u001b[0m\u001b[1;33m\u001b[0m\u001b[1;33m\u001b[0m\u001b[0m\n\u001b[0;32m     58\u001b[0m     \u001b[0mnextlevel\u001b[0m \u001b[1;33m=\u001b[0m \u001b[1;33m{\u001b[0m\u001b[0msource\u001b[0m\u001b[1;33m:\u001b[0m \u001b[1;36m1\u001b[0m\u001b[1;33m}\u001b[0m\u001b[1;33m\u001b[0m\u001b[1;33m\u001b[0m\u001b[0m\n\u001b[1;32m---> 59\u001b[1;33m     \u001b[1;32mreturn\u001b[0m \u001b[0mdict\u001b[0m\u001b[1;33m(\u001b[0m\u001b[0m_single_shortest_path_length\u001b[0m\u001b[1;33m(\u001b[0m\u001b[0mG\u001b[0m\u001b[1;33m.\u001b[0m\u001b[0madj\u001b[0m\u001b[1;33m,\u001b[0m \u001b[0mnextlevel\u001b[0m\u001b[1;33m,\u001b[0m \u001b[0mcutoff\u001b[0m\u001b[1;33m)\u001b[0m\u001b[1;33m)\u001b[0m\u001b[1;33m\u001b[0m\u001b[1;33m\u001b[0m\u001b[0m\n\u001b[0m\u001b[0;32m     60\u001b[0m \u001b[1;33m\u001b[0m\u001b[0m\n\u001b[0;32m     61\u001b[0m \u001b[1;33m\u001b[0m\u001b[0m\n",
      "\u001b[1;32m~\\anaconda3\\lib\\site-packages\\networkx\\algorithms\\shortest_paths\\unweighted.py\u001b[0m in \u001b[0;36m_single_shortest_path_length\u001b[1;34m(adj, firstlevel, cutoff)\u001b[0m\n\u001b[0;32m     85\u001b[0m                 \u001b[0mseen\u001b[0m\u001b[1;33m[\u001b[0m\u001b[0mv\u001b[0m\u001b[1;33m]\u001b[0m \u001b[1;33m=\u001b[0m \u001b[0mlevel\u001b[0m  \u001b[1;31m# set the level of vertex v\u001b[0m\u001b[1;33m\u001b[0m\u001b[1;33m\u001b[0m\u001b[0m\n\u001b[0;32m     86\u001b[0m                 \u001b[0mfound\u001b[0m\u001b[1;33m.\u001b[0m\u001b[0mappend\u001b[0m\u001b[1;33m(\u001b[0m\u001b[0mv\u001b[0m\u001b[1;33m)\u001b[0m\u001b[1;33m\u001b[0m\u001b[1;33m\u001b[0m\u001b[0m\n\u001b[1;32m---> 87\u001b[1;33m                 \u001b[1;32myield\u001b[0m \u001b[1;33m(\u001b[0m\u001b[0mv\u001b[0m\u001b[1;33m,\u001b[0m \u001b[0mlevel\u001b[0m\u001b[1;33m)\u001b[0m\u001b[1;33m\u001b[0m\u001b[1;33m\u001b[0m\u001b[0m\n\u001b[0m\u001b[0;32m     88\u001b[0m         \u001b[1;32mif\u001b[0m \u001b[0mlen\u001b[0m\u001b[1;33m(\u001b[0m\u001b[0mseen\u001b[0m\u001b[1;33m)\u001b[0m \u001b[1;33m==\u001b[0m \u001b[0mn\u001b[0m\u001b[1;33m:\u001b[0m\u001b[1;33m\u001b[0m\u001b[1;33m\u001b[0m\u001b[0m\n\u001b[0;32m     89\u001b[0m             \u001b[1;32mreturn\u001b[0m\u001b[1;33m\u001b[0m\u001b[1;33m\u001b[0m\u001b[0m\n",
      "\u001b[1;31mKeyboardInterrupt\u001b[0m: "
     ]
    }
   ],
   "source": [
    "Degree_cen={}\n",
    "Between_cen={}\n",
    "Close_cen={}\n",
    "Eigen_cen={}\n",
    "\n",
    "for year in tqdm(Network_list):\n",
    "    degree_cen, between_cen, close_cen, eigen_cen=calcenmeasures(Network[year])\n",
    "    Degree_cen[year]=degree_cen\n",
    "    Between_cen[year]=between_cen\n",
    "    Close_cen[year]=close_cen\n",
    "    Eigen_cen[year]=eigen_cen"
   ]
  },
  {
   "cell_type": "code",
   "execution_count": 809,
   "id": "64f0ef81",
   "metadata": {},
   "outputs": [
    {
     "ename": "AttributeError",
     "evalue": "'str' object has no attribute 'values'",
     "output_type": "error",
     "traceback": [
      "\u001b[1;31m---------------------------------------------------------------------------\u001b[0m",
      "\u001b[1;31mAttributeError\u001b[0m                            Traceback (most recent call last)",
      "\u001b[1;32m~\\AppData\\Local\\Temp/ipykernel_20976/4260921963.py\u001b[0m in \u001b[0;36m<module>\u001b[1;34m\u001b[0m\n\u001b[1;32m----> 1\u001b[1;33m \u001b[0mDegree_cen_arr\u001b[0m\u001b[1;33m=\u001b[0m\u001b[0mswitchtoarray\u001b[0m\u001b[1;33m(\u001b[0m\u001b[0mDegree_cen\u001b[0m\u001b[1;33m)\u001b[0m\u001b[1;33m\u001b[0m\u001b[1;33m\u001b[0m\u001b[0m\n\u001b[0m\u001b[0;32m      2\u001b[0m \u001b[0mBetween_cen_arr\u001b[0m\u001b[1;33m=\u001b[0m\u001b[0mswitchtoarray\u001b[0m\u001b[1;33m(\u001b[0m\u001b[0mBetween_cen\u001b[0m\u001b[1;33m)\u001b[0m\u001b[1;33m\u001b[0m\u001b[1;33m\u001b[0m\u001b[0m\n\u001b[0;32m      3\u001b[0m \u001b[0mClose_cen_arr\u001b[0m\u001b[1;33m=\u001b[0m\u001b[0mswitchtoarray\u001b[0m\u001b[1;33m(\u001b[0m\u001b[0mClose_cen\u001b[0m\u001b[1;33m)\u001b[0m\u001b[1;33m\u001b[0m\u001b[1;33m\u001b[0m\u001b[0m\n\u001b[0;32m      4\u001b[0m \u001b[0mEigen_cen_arr\u001b[0m\u001b[1;33m=\u001b[0m\u001b[0mswitchtoarray\u001b[0m\u001b[1;33m(\u001b[0m\u001b[0mEigen_cen\u001b[0m\u001b[1;33m)\u001b[0m\u001b[1;33m\u001b[0m\u001b[1;33m\u001b[0m\u001b[0m\n",
      "\u001b[1;32m~\\AppData\\Local\\Temp/ipykernel_20976/201252911.py\u001b[0m in \u001b[0;36mswitchtoarray\u001b[1;34m(dic)\u001b[0m\n\u001b[0;32m      3\u001b[0m     \u001b[0marr\u001b[0m\u001b[1;33m=\u001b[0m\u001b[1;33m[\u001b[0m\u001b[1;33m]\u001b[0m\u001b[1;33m\u001b[0m\u001b[1;33m\u001b[0m\u001b[0m\n\u001b[0;32m      4\u001b[0m     \u001b[1;32mfor\u001b[0m \u001b[0md\u001b[0m \u001b[1;32min\u001b[0m \u001b[0mdic\u001b[0m\u001b[1;33m:\u001b[0m\u001b[1;33m\u001b[0m\u001b[1;33m\u001b[0m\u001b[0m\n\u001b[1;32m----> 5\u001b[1;33m         \u001b[0marr\u001b[0m\u001b[1;33m.\u001b[0m\u001b[0mappend\u001b[0m\u001b[1;33m(\u001b[0m\u001b[0mnp\u001b[0m\u001b[1;33m.\u001b[0m\u001b[0masarray\u001b[0m\u001b[1;33m(\u001b[0m\u001b[1;33m[\u001b[0m\u001b[0mi\u001b[0m \u001b[1;32mfor\u001b[0m \u001b[0mi\u001b[0m \u001b[1;32min\u001b[0m \u001b[0md\u001b[0m\u001b[1;33m.\u001b[0m\u001b[0mvalues\u001b[0m\u001b[1;33m(\u001b[0m\u001b[1;33m)\u001b[0m\u001b[1;33m.\u001b[0m\u001b[0mvalues\u001b[0m\u001b[1;33m(\u001b[0m\u001b[1;33m)\u001b[0m\u001b[1;33m]\u001b[0m\u001b[1;33m)\u001b[0m\u001b[1;33m)\u001b[0m\u001b[1;33m\u001b[0m\u001b[1;33m\u001b[0m\u001b[0m\n\u001b[0m\u001b[0;32m      6\u001b[0m \u001b[1;33m\u001b[0m\u001b[0m\n\u001b[0;32m      7\u001b[0m     \u001b[1;32mreturn\u001b[0m \u001b[0marr\u001b[0m\u001b[1;33m\u001b[0m\u001b[1;33m\u001b[0m\u001b[0m\n",
      "\u001b[1;31mAttributeError\u001b[0m: 'str' object has no attribute 'values'"
     ]
    }
   ],
   "source": [
    "Degree_cen_arr=switchtoarray(Degree_cen)\n",
    "Between_cen_arr=switchtoarray(Between_cen)\n",
    "Close_cen_arr=switchtoarray(Close_cen)\n",
    "Eigen_cen_arr=switchtoarray(Eigen_cen)"
   ]
  },
  {
   "cell_type": "code",
   "execution_count": null,
   "id": "3c873a29",
   "metadata": {},
   "outputs": [],
   "source": [
    "Avclustering=[]\n",
    "Assortativity=[]\n",
    "\n",
    "for year in tqdm(Network_list):\n",
    "    avclustering,assortativity=calcoe(Network[year])\n",
    "    Avclustering.append(avclustering)\n",
    "    Assortativity.append(assortativity)"
   ]
  },
  {
   "cell_type": "code",
   "execution_count": null,
   "id": "e5c87344",
   "metadata": {},
   "outputs": [],
   "source": [
    "i=0\n",
    "deg={}\n",
    "bet={}\n",
    "clos={}\n",
    "eig={}\n",
    "\n",
    "for date in Network_list:\n",
    "    deg[date]=list(Degree_cen_arr[i])\n",
    "    bet[date]=list(Between_cen_arr[i])\n",
    "    clos[date]=list(Close_cen_arr[i])\n",
    "    eig[date]=list(Eigen_cen_arr[i])\n",
    "    i=i+1"
   ]
  },
  {
   "cell_type": "code",
   "execution_count": 29,
   "id": "82a760e1",
   "metadata": {},
   "outputs": [],
   "source": [
    "all_data=[Degree_cen_arr,Between_cen_arr,Close_cen_arr,Eigen_cen_arr]"
   ]
  },
  {
   "cell_type": "code",
   "execution_count": null,
   "id": "93eaa6d1",
   "metadata": {},
   "outputs": [],
   "source": [
    "plotCoefficient(all_data,Network_list ,['Degree centrality','Betweeness centrality','Closeness centrality','Eigen vector centrality'],2,2)"
   ]
  },
  {
   "cell_type": "code",
   "execution_count": null,
   "id": "b351cc7b",
   "metadata": {},
   "outputs": [],
   "source": [
    "plotavecoe(Avclustering,Assortativity,Network_list)"
   ]
  },
  {
   "cell_type": "code",
   "execution_count": null,
   "id": "82843373",
   "metadata": {},
   "outputs": [],
   "source": [
    "AvdegreeNN(list(Network.values()),Network_list,2,5)  "
   ]
  },
  {
   "cell_type": "code",
   "execution_count": null,
   "id": "0fccc33f",
   "metadata": {},
   "outputs": [],
   "source": []
  },
  {
   "cell_type": "code",
   "execution_count": null,
   "id": "9878fd15",
   "metadata": {},
   "outputs": [],
   "source": []
  },
  {
   "cell_type": "markdown",
   "id": "95bee6b0",
   "metadata": {},
   "source": [
    "## Step6: Capacity and Gini Coefficient"
   ]
  },
  {
   "cell_type": "code",
   "execution_count": null,
   "id": "4df9b08c",
   "metadata": {},
   "outputs": [],
   "source": [
    "def Capacity_c(G):\n",
    "    n_capacity=G.degree(weight='weight') \n",
    "    return n_capacity"
   ]
  },
  {
   "cell_type": "code",
   "execution_count": null,
   "id": "3a76d4ab",
   "metadata": {},
   "outputs": [],
   "source": [
    "Capacity={}\n",
    "\n",
    "for dates in tqdm(Network.keys()):\n",
    "    n_capacity=Capacity_c(Network[dates])\n",
    "    Capacity[dates]=n_capacity"
   ]
  },
  {
   "cell_type": "code",
   "execution_count": 874,
   "id": "8511027e",
   "metadata": {},
   "outputs": [],
   "source": [
    "def Fraction_top_nodes(dic,total_capacity,percentage):\n",
    "    \n",
    "    capacity_level= total_capacity*percentage \n",
    "    capacitycount=0\n",
    "    \n",
    "    for i in range(len(dic)):\n",
    "        capacitycount=capacitycount+dic[i][1]\n",
    "        if capacitycount>capacity_level:\n",
    "            return (i+1)/len(dic)\n",
    "  "
   ]
  },
  {
   "cell_type": "code",
   "execution_count": 875,
   "id": "d1ec0004",
   "metadata": {},
   "outputs": [
    {
     "name": "stderr",
     "output_type": "stream",
     "text": [
      "100%|█████████████████████████████████████████████████████████████████████████████| 1456/1456 [03:12<00:00,  7.58it/s]\n"
     ]
    }
   ],
   "source": [
    "capacity_level50= {}\n",
    "capacity_level80= {}\n",
    "capacity_level90= {}\n",
    "capacity_level95= {}\n",
    "capacity_level99= {}\n",
    "T_capacity={}\n",
    "\n",
    "for dates in tqdm(dict(Capacity).keys()):\n",
    "    capacitydic=dict(Capacity[dates])\n",
    "    # set them a qeruence from top to end\n",
    "    Sort_capacity=sorted(capacitydic.items(), key=lambda x:x[1],reverse=True)\n",
    "    # calculate total capacitie\n",
    "    total_capacity=sum(capacitydic.values())\n",
    "    T_capacity[dates]=total_capacity\n",
    "    # count fraction of top nodes\n",
    "    \n",
    "    capacity_level50[dates]= Fraction_top_nodes(Sort_capacity,total_capacity,0.5)\n",
    "    capacity_level80[dates]= Fraction_top_nodes(Sort_capacity,total_capacity,0.8)\n",
    "    capacity_level90[dates]= Fraction_top_nodes(Sort_capacity,total_capacity,0.9)\n",
    "    capacity_level95[dates]= Fraction_top_nodes(Sort_capacity,total_capacity,0.95)\n",
    "    capacity_level99[dates]= Fraction_top_nodes(Sort_capacity,total_capacity,0.99)\n"
   ]
  },
  {
   "cell_type": "code",
   "execution_count": 877,
   "id": "fca05b8f",
   "metadata": {},
   "outputs": [
    {
     "name": "stderr",
     "output_type": "stream",
     "text": [
      "No handles with labels found to put in legend.\n"
     ]
    },
    {
     "data": {
      "image/png": "[encoded data removed]",
      "text/plain": [
       "<Figure size 432x288 with 1 Axes>"
      ]
     },
     "metadata": {
      "needs_background": "light"
     },
     "output_type": "display_data"
    }
   ],
   "source": [
    "m=list(Nodedic.values())\n",
    "n=list(T_capacity.values())\n",
    "\n",
    "plt.xlabel(\"Log Number of Nodes N\")\n",
    "plt.ylabel(\"Log Total Capacity\")\n",
    "plt.scatter(np.log10(m), np.log10(n))\n",
    "\n",
    "\n",
    "b, a = np.polyfit(np.log10(m), np.log10(n), deg=1)\n",
    "plt.axline(xy1=(0, a), slope=b, color='r',lw=2)\n",
    "plt.legend()\n",
    "\n",
    "plt.show()\n"
   ]
  },
  {
   "cell_type": "code",
   "execution_count": 878,
   "id": "5b39d7db",
   "metadata": {},
   "outputs": [
    {
     "data": {
      "text/plain": [
       "<matplotlib.legend.Legend at 0x1d7cbadab50>"
      ]
     },
     "execution_count": 878,
     "metadata": {},
     "output_type": "execute_result"
    },
    {
     "data": {
      "image/png": "[encoded data removed]",
      "text/plain": [
       "<Figure size 432x432 with 1 Axes>"
      ]
     },
     "metadata": {
      "needs_background": "light"
     },
     "output_type": "display_data"
    }
   ],
   "source": [
    "fig = plt.figure( figsize=(6, 6))\n",
    "x=list(Nodedic.values())\n",
    "y1=list(capacity_level99.values())\n",
    "y2=list(capacity_level95.values())\n",
    "y3=list(capacity_level90.values())\n",
    "y4=list(capacity_level80.values())\n",
    "y5=list(capacity_level50.values())\n",
    "\n",
    "\n",
    "plt.scatter(x, y1,label='99% Capacity')\n",
    "plt.scatter(x, y2,label='95% Capacity')\n",
    "plt.scatter(x, y3,label='90% Capacity')\n",
    "plt.scatter(x, y4,label='80% Capacity')\n",
    "plt.scatter(x, y5,label='50% Capacity')\n",
    "plt.xscale(\"log\")\n",
    "plt.ylim(0,1)\n",
    "\n",
    "plt.xlabel(\"Number of Nodes N\")\n",
    "plt.ylabel(\"Fraction of Top Nodes\")\n",
    "\n",
    "plt.legend(loc='upper right')"
   ]
  },
  {
   "cell_type": "code",
   "execution_count": null,
   "id": "c19263d4",
   "metadata": {},
   "outputs": [],
   "source": []
  },
  {
   "cell_type": "code",
   "execution_count": 879,
   "id": "1e9e5ffe",
   "metadata": {},
   "outputs": [],
   "source": [
    "# Gini coefficient\n",
    "def Gini_coefficient(C):\n",
    "    N=len(C)\n",
    "    numerator=0\n",
    "    divider=0\n",
    "    for i in range(N):\n",
    "        for j in range(N):\n",
    "            numerator=numerator+abs(C[i]-C[j])\n",
    "        divider=divider+C[i]\n",
    "    ind=numerator/(divider*2*N)\n",
    "    \n",
    "    return ind"
   ]
  },
  {
   "cell_type": "code",
   "execution_count": 881,
   "id": "2ec8131f",
   "metadata": {},
   "outputs": [
    {
     "name": "stderr",
     "output_type": "stream",
     "text": [
      "100%|███████████████████████████████████████████████████████████████████████████| 1456/1456 [3:59:21<00:00,  9.86s/it]\n"
     ]
    }
   ],
   "source": [
    "# run for calculation\n",
    "capacity_gini={}\n",
    "\n",
    "for dates in tqdm(dict(Capacity).keys()):\n",
    "    capacitydic=dict(Capacity[dates])\n",
    "    capacity_gini[dates]=Gini_coefficient(list(capacitydic.values()))"
   ]
  },
  {
   "cell_type": "code",
   "execution_count": 882,
   "id": "b09bd552",
   "metadata": {},
   "outputs": [
    {
     "data": {
      "image/png": "[encoded data removed]",
      "text/plain": [
       "<Figure size 432x288 with 1 Axes>"
      ]
     },
     "metadata": {
      "needs_background": "light"
     },
     "output_type": "display_data"
    }
   ],
   "source": [
    "m=list(Nodedic.values())\n",
    "n=list(capacity_gini.values())\n",
    "\n",
    "plt.xlabel(\"Log Number of Nodes N\")\n",
    "plt.ylabel(\"Gini Coefficient\")\n",
    "plt.scatter(m, n)\n",
    "plt.xscale(\"log\")\n",
    "plt.ylim(0,1)\n",
    "\n",
    "plt.show()"
   ]
  },
  {
   "cell_type": "code",
   "execution_count": null,
   "id": "f6f380b3",
   "metadata": {},
   "outputs": [],
   "source": []
  },
  {
   "cell_type": "code",
   "execution_count": null,
   "id": "74e0878d",
   "metadata": {},
   "outputs": [],
   "source": [
    "# run for calculation\n",
    "degree_gini={}\n",
    "clossness_gini={}\n",
    "betweeness_gini={}\n",
    "eigenvector_gini={}\n",
    "\n",
    "for i in tqdm(Network_list):\n",
    "    degree_gini[i]=Gini_coefficient(deg[i])\n",
    "    betweeness_gini[i]=Gini_coefficient(bet[i])\n",
    "    clossness_gini[i]=Gini_coefficient(clos[i])\n",
    "    eigenvector_gini[i]=Gini_coefficient(eig[i])"
   ]
  },
  {
   "cell_type": "code",
   "execution_count": null,
   "id": "8277532b",
   "metadata": {},
   "outputs": [],
   "source": [
    "def Pic_gini(DIC,label,n1,n2):\n",
    "    \n",
    "    fig, ax = plt.subplots(nrows=n1, ncols=n2, figsize=(20, 4))\n",
    "    \n",
    "    for i in range(n1):\n",
    "        for j in range(n2):\n",
    "            n=i*n2+j\n",
    "            x, y = zip(*DIC[n]) \n",
    "            ax[j].scatter(x,y)\n",
    "            ax[j].set_xlabel('Time')\n",
    "            ax[j].set_ylabel(label[n])\n",
    "            ax[j].set_ylim(0,1)\n",
    "            ax[j].xaxis.set_major_locator(ticker.MultipleLocator(3))\n",
    "            \n",
    "    plt.show()\n",
    "    "
   ]
  },
  {
   "cell_type": "code",
   "execution_count": null,
   "id": "2856c81d",
   "metadata": {},
   "outputs": [],
   "source": [
    "lists1 = sorted(degree_gini.items()) # sorted by key, return a list of tuples\n",
    "lists2 = sorted(clossness_gini.items()) # sorted by key, return a list of tuples\n",
    "lists3 = sorted(betweeness_gini.items()) # sorted by key, return a list of tuples\n",
    "lists4 = sorted(eigenvector_gini.items()) # sorted by key, return a list of tuples\n",
    "gini_list=[lists1,lists2,lists3,lists4]\n",
    "\n",
    "Pic_gini(gini_list,['Degree','Closeness','Betweeness','Eigenvector'],1,4)"
   ]
  },
  {
   "cell_type": "code",
   "execution_count": null,
   "id": "5c772f81",
   "metadata": {},
   "outputs": [],
   "source": [
    "def Pic_gini_node(DIC,noden,label,n1,n2):\n",
    "    \n",
    "    fig, ax = plt.subplots(nrows=n1, ncols=n2, figsize=(20, 4))\n",
    "    \n",
    "    for i in range(n1):\n",
    "        for j in range(n2):\n",
    "            n=i*n2+j\n",
    "            x, y = zip(*DIC[n]) \n",
    "            ax[j].scatter(noden,list(y))\n",
    "            ax[j].set_xlabel('Time')\n",
    "            ax[j].set_ylim(0,1)\n",
    "            ax[j].set_ylabel(label[n])\n",
    "            ax[j].set_xscale(\"log\")\n",
    "            #ax[j].xaxis.set_major_locator(ticker.MultipleLocator(3))\n",
    "            \n",
    "    plt.show()"
   ]
  },
  {
   "cell_type": "code",
   "execution_count": null,
   "id": "904c0288",
   "metadata": {},
   "outputs": [],
   "source": [
    "noden=[2,\n",
    "104,\n",
    "506,\n",
    "1000,\n",
    "2250,\n",
    "3302,\n",
    "6345,\n",
    "8641,\n",
    "11922,\n",
    "15659,\n",
    "19479]"
   ]
  },
  {
   "cell_type": "code",
   "execution_count": null,
   "id": "9c657457",
   "metadata": {},
   "outputs": [],
   "source": [
    "Pic_gini_node(gini_list,noden,['Degree','Closeness','Betweeness','Eigenvector'],1,4)"
   ]
  },
  {
   "cell_type": "code",
   "execution_count": null,
   "id": "c321da8e",
   "metadata": {},
   "outputs": [],
   "source": []
  },
  {
   "cell_type": "code",
   "execution_count": null,
   "id": "065d0979",
   "metadata": {},
   "outputs": [],
   "source": []
  },
  {
   "cell_type": "code",
   "execution_count": null,
   "id": "b18b5bcb",
   "metadata": {},
   "outputs": [],
   "source": []
  },
  {
   "cell_type": "code",
   "execution_count": null,
   "id": "fe8c268e",
   "metadata": {},
   "outputs": [],
   "source": []
  },
  {
   "cell_type": "code",
   "execution_count": null,
   "id": "6277fb33",
   "metadata": {},
   "outputs": [],
   "source": []
  }
 ],
 "metadata": {
  "kernelspec": {
   "display_name": "Python 3 (ipykernel)",
   "language": "python",
   "name": "python3"
  },
  "language_info": {
   "codemirror_mode": {
    "name": "ipython",
    "version": 3
   },
   "file_extension": ".py",
   "mimetype": "text/x-python",
   "name": "python",
   "nbconvert_exporter": "python",
   "pygments_lexer": "ipython3",
   "version": "3.9.7"
  }
 },
 "nbformat": 4,
 "nbformat_minor": 5
}
