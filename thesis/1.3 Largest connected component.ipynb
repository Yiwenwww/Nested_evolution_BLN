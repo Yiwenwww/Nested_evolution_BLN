{
 "cells": [
  {
   "cell_type": "code",
   "execution_count": 2,
   "id": "88fd95e0",
   "metadata": {},
   "outputs": [],
   "source": [
    "import numpy as np\n",
    "import networkx as nx\n",
    "import pandas as pd\n",
    "from datetime import datetime\n",
    "import dynetx as dn\n",
    "from tqdm import tqdm\n",
    "import pickle"
   ]
  },
  {
   "cell_type": "code",
   "execution_count": 3,
   "id": "f210051a",
   "metadata": {},
   "outputs": [],
   "source": [
    "# load networks\n",
    "with open('Network_dict.pkl', 'rb') as fp:\n",
    "    Network = pickle.load(fp)"
   ]
  },
  {
   "cell_type": "code",
   "execution_count": 4,
   "id": "4d5cbcc7",
   "metadata": {},
   "outputs": [
    {
     "name": "stderr",
     "output_type": "stream",
     "text": [
      "100%|██████████████████████████████████████████████████████████████████████████████| 1456/1456 [31:32<00:00,  1.30s/it]\n"
     ]
    }
   ],
   "source": [
    "# make largest connected componet and store:\n",
    "Netwrok_LCC={}\n",
    "#Adj_MAT={}\n",
    "\n",
    "for date in tqdm(Network.keys()):\n",
    "    G=Network[date]\n",
    "    largest_cc = max(nx.connected_components(G), key=len)\n",
    "    S = [G.subgraph(c).copy() for c in nx.connected_components(G)]\n",
    "    Netwrok_LCC[date]=S[0] \n",
    "    \n",
    "#    adjacency_matrix = nx.to_numpy_matrix(S[0],dtype=np.bool)\n",
    "#    adjmat=(adjacency_matrix*1).tolist()\n",
    "#    Adj_MAT[date]=adjmat\n",
    "\n",
    "\n",
    "with open(\"Network_LCC.pkl\", \"wb\") as fp:   #Pickling\n",
    "    pickle.dump(Netwrok_LCC, fp)\n",
    "\n",
    "#with open(\"Adj_MAT.pkl\", \"wb\") as fp:   #Pickling\n",
    "    #pickle.dump(Adj_MAT, fp)\n"
   ]
  },
  {
   "cell_type": "code",
   "execution_count": null,
   "id": "3a283aef",
   "metadata": {},
   "outputs": [],
   "source": [
    "with open('Network_LCC.pkl', 'rb') as fp:\n",
    "    Network_LCC = pickle.load(fp)"
   ]
  },
  {
   "cell_type": "code",
   "execution_count": null,
   "id": "31cbb8a6",
   "metadata": {},
   "outputs": [],
   "source": [
    "# SELECT THE DATE NEEDED AND MAKE THE ADJACENTMATRIX\n",
    "for date in tqdm(Netwrok_LCC.keys()):\n",
    "    G=Netwrok_LCC[date]\n",
    "    \n",
    "    adjacency_matrix = nx.to_numpy_matrix(G,dtype=np.bool)\n",
    "    adjmat=(adjacency_matrix*1).tolist()\n",
    "    Adj_MAT[date]=adjmat\n",
    "\n",
    "with open(\"Adj_MAT.pkl\", \"wb\") as fp:   #Pickling\n",
    "    #pickle.dump(Adj_MAT, fp)"
   ]
  },
  {
   "cell_type": "code",
   "execution_count": null,
   "id": "e0d95049",
   "metadata": {},
   "outputs": [],
   "source": []
  },
  {
   "cell_type": "code",
   "execution_count": null,
   "id": "b45042ad",
   "metadata": {},
   "outputs": [],
   "source": []
  },
  {
   "cell_type": "code",
   "execution_count": null,
   "id": "285fa150",
   "metadata": {},
   "outputs": [],
   "source": []
  }
 ],
 "metadata": {
  "kernelspec": {
   "display_name": "Python 3 (ipykernel)",
   "language": "python",
   "name": "python3"
  },
  "language_info": {
   "codemirror_mode": {
    "name": "ipython",
    "version": 3
   },
   "file_extension": ".py",
   "mimetype": "text/x-python",
   "name": "python",
   "nbconvert_exporter": "python",
   "pygments_lexer": "ipython3",
   "version": "3.9.7"
  }
 },
 "nbformat": 4,
 "nbformat_minor": 5
}
