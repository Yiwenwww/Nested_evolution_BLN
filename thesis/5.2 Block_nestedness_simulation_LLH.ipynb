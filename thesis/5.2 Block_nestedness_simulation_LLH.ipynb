{
 "cells": [
  {
   "cell_type": "code",
   "execution_count": 2,
   "id": "7a9e93a5",
   "metadata": {
    "scrolled": true
   },
   "outputs": [
    {
     "name": "stderr",
     "output_type": "stream",
     "text": [
      "C:\\Users\\wyw25\\anaconda3\\lib\\site-packages\\scipy\\__init__.py:146: UserWarning: A NumPy version >=1.16.5 and <1.23.0 is required for this version of SciPy (detected version 1.26.2\n",
      "  warnings.warn(f\"A NumPy version >={np_minversion} and <{np_maxversion}\"\n"
     ]
    }
   ],
   "source": [
    "import networkx as nx\n",
    "import random\n",
    "import networkx as nx\n",
    "from matplotlib import pyplot, patches\n",
    "from scipy import io\n",
    "import numpy as np\n",
    "from collections import defaultdict\n",
    "import pickle\n",
    "from tqdm import tqdm\n",
    "import matplotlib.ticker as ticker\n",
    "import matplotlib.pyplot as plt "
   ]
  },
  {
   "cell_type": "code",
   "execution_count": 3,
   "id": "b285ef4b",
   "metadata": {},
   "outputs": [],
   "source": [
    "# Desgin of the Game:\n",
    "## 1. finish the model for generate the network without blocks\n",
    "## 2. simulation function of the empricial network to the model\n",
    "## 3. generate the network wih blocks\n",
    "## 4. apply simulation from empricial to the model of blcoks"
   ]
  },
  {
   "cell_type": "markdown",
   "id": "defd88ce",
   "metadata": {},
   "source": [
    "# The functions for generate network"
   ]
  },
  {
   "cell_type": "code",
   "execution_count": 4,
   "id": "840f1e11",
   "metadata": {},
   "outputs": [],
   "source": [
    "def assign_colors(Mat,pb):\n",
    "    # parameter1 :pb probability blocks [0,1]\n",
    "    \n",
    "    graph=nx.from_numpy_array(np.array(Mat))\n",
    "    colors = {0: 0}  # Dictionary to store node colors\n",
    "    \n",
    "    # Create a queue with all nodes in the graph\n",
    "    node_queue = list(graph.nodes())\n",
    "\n",
    "    while node_queue:\n",
    "        # Get a list of colors already present in the graph\n",
    "        existing_colors = list(set(colors.values()))\n",
    "\n",
    "        current_node = node_queue.pop(0)  # Dequeue a node\n",
    "\n",
    "        # Check if the node should take the exit color\n",
    "        if random.random() < pb:\n",
    "            # Choose a random color from the existing colors in the graph\n",
    "            exit_color = random.choice(existing_colors)\n",
    "            colors[current_node] = exit_color\n",
    "          #  graph.nodes[current_node][\"label\"]= exit_color\n",
    "        else:\n",
    "            # Generate a new color (you can replace this with your own color generation logic)\n",
    "            new_color = len(colors)\n",
    "            colors[current_node] = new_color\n",
    "          #  graph.nodes[current_node][\"label\"]= new_color\n",
    "\n",
    "        # Update the queue with neighbors of the current node\n",
    "   #     node_queue.extend(neighbor for neighbor in graph.neighbors(current_node) if neighbor not in colors)\n",
    "\n",
    "    return colors"
   ]
  },
  {
   "cell_type": "code",
   "execution_count": 5,
   "id": "531a6ac1",
   "metadata": {},
   "outputs": [],
   "source": [
    "def create_label_probability_matrix(labels):\n",
    "    num_nodes = len(labels)\n",
    "    \n",
    "    # Create a square matrix of size num_nodes x num_nodes\n",
    "    matrix = np.zeros((num_nodes, num_nodes))\n",
    "\n",
    "    for i in range(num_nodes):\n",
    "        for j in range(i+1, num_nodes):  # Ensure the matrix is symmetric\n",
    "            # Set the probability for nodes i and j to connect based on their labels\n",
    "            probability = calculate_probability(labels[i], labels[j])\n",
    "            matrix[i, j] = probability\n",
    "            matrix[j, i] = probability  # Since the network is undirected, the matrix is symmetric\n",
    "\n",
    "    return matrix\n",
    "\n",
    "def calculate_probability(label_i, label_j):\n",
    "    # Example: Simple probability calculation, you can customize this based on your requirements\n",
    "    # Here, we assume a simple rule where nodes with the same label have a higher probability of connection\n",
    "    if label_i == label_j:\n",
    "        return 1  # Adjust this probability based on your specific requirements\n",
    "    else:\n",
    "        return 0"
   ]
  },
  {
   "cell_type": "code",
   "execution_count": 12,
   "id": "5026965e",
   "metadata": {},
   "outputs": [],
   "source": [
    "def Prob_links(Mat,alpha,gamma,classify_mat):\n",
    "    '''\n",
    "    This function calculate one step for the link generation\n",
    "    Mat: input matrix 0,1\n",
    "    alpha: probability for link making, 1- alpha probability for link disappear\n",
    "    '''\n",
    "    # parameter2 alpha: probability for link making, 1- alpha probability for link disappear [0,1]\n",
    "    # parameter3 gamma: scaling ratio of nodes in same block [0,1]\n",
    "    \n",
    "    \n",
    "    ks=100000\n",
    "    \n",
    "    N=len(Mat)\n",
    "    incr_m=[[0] * N for row in range(N)]\n",
    "    decay_m=[[0] * N for row in range(N)]\n",
    "    # degree for nodes at the beginning of the round\n",
    "    Degree=np.sum(Mat, axis=0)\n",
    "   \n",
    "    for i in range(N):\n",
    "        Value={}\n",
    "        Decline={}\n",
    "        for j in range(i+1,N):  # the node i with j\n",
    "            if Mat[i][j]==0:  # no link (possible to add a link)\n",
    "                if classify_mat[i][j]==1: # same class\n",
    "                    Value[j]= Degree[j]/gamma # degree is the value     \n",
    "                else:\n",
    "                    Value[j]= Degree[j]*gamma\n",
    "                    \n",
    "            if Mat[i][j]==1:  # with link (possible to decline)\n",
    "                if classify_mat[i][j]==1: # same class\n",
    "                    Decline[j]=Degree[j]/gamma # degree is the value  \n",
    "                else:\n",
    "                    Decline[j]=Degree[j]*gamma# degree is the value\n",
    "              #  Decline[j]=Degree[j]\n",
    "                \n",
    "    #    print(Value)\n",
    "        max_keys=0\n",
    "        max_value=0\n",
    "        if len(Value) >0:\n",
    "            max_value = max(Value.values())  # maximum value\n",
    "            max_keys = [k for k, v in Value.items() if v == max_value]  # maximun keys    \n",
    "    #    print(max_keys)\n",
    "        # count the number of maxium keys for divider\n",
    "        if max_keys != 0:\n",
    "            for k in max_keys:\n",
    "                incr_m[i][k]= alpha/len(max_keys)\n",
    "                incr_m[k][i]= alpha/len(max_keys)\n",
    "             \n",
    "                \n",
    "        min_keys=0\n",
    "        min_value=0\n",
    "        if len(Decline) >0:\n",
    "            min_value = min(Decline.values())  # min value\n",
    "            min_keys = [k for k, v in Decline.items() if v == min_value]    # min keys    \n",
    "            \n",
    "        if min_keys != 0:\n",
    "            for k in min_keys:\n",
    "                decay_m[i][k]= (1 - alpha)/len(min_keys)\n",
    "                decay_m[k][i]= (1 - alpha)/len(min_keys) \n",
    "             \n",
    "    \n",
    "    return  incr_m, decay_m\n"
   ]
  },
  {
   "cell_type": "code",
   "execution_count": 13,
   "id": "60e6a5b3",
   "metadata": {},
   "outputs": [],
   "source": [
    "def CreatMat(incr_m,decay_m,Mat):\n",
    "    B=np.random.rand(*np.array(incr_m).shape)\n",
    "    B_symm = (B + B.T)/2\n",
    "    incr_block=incr_m\n",
    "    decay_block=decay_m\n",
    "  #  decay_block=decay_m*(classify_mat)\n",
    "    \n",
    "    adjacency_add = B_symm  <= np.array(incr_block) # adjacency[ii, jj] is True with probability P[ii, jj]\n",
    "    adjacency_de = B_symm  <= np.array(decay_block) # adjacency[ii, jj] is True with probability P[ii, jj]\n",
    "   \n",
    "    New_Mat= Mat+ adjacency_add*1-adjacency_de*1\n",
    "           \n",
    " #   print(New_Mat)\n",
    "    return New_Mat.tolist()\n",
    "    "
   ]
  },
  {
   "cell_type": "code",
   "execution_count": 76,
   "id": "22434691",
   "metadata": {},
   "outputs": [],
   "source": [
    "def Make_stable(Mat,n,alpha,gamma,classify_mat): # define classes at beginning\n",
    "    for i in range(n):\n",
    "        incr_m,decay_m=Prob_links(Mat,alpha,gamma,classify_mat)\n",
    "        Mat=CreatMat(incr_m,decay_m,Mat)\n",
    "        \n",
    "    return Mat"
   ]
  },
  {
   "cell_type": "code",
   "execution_count": 15,
   "id": "c2adad08",
   "metadata": {},
   "outputs": [],
   "source": [
    "def Make_Ori_Mat(N):\n",
    "    '''\n",
    "    This function for initialize a random graph\n",
    "    '''\n",
    "    \n",
    "    MATRIX=np.random.rand(N,N)\n",
    "    np.fill_diagonal(MATRIX, 0)\n",
    "    bollmat = 0.5 <= MATRIX\n",
    "    nummat=1*bollmat\n",
    "    randmat=np.minimum( nummat, nummat.transpose() )\n",
    "    \n",
    "    return randmat.tolist()"
   ]
  },
  {
   "cell_type": "code",
   "execution_count": 16,
   "id": "90a18b35",
   "metadata": {},
   "outputs": [],
   "source": [
    "def draw_adjacency_matrix(G, node_order=None, partitions=[], colors=[]):\n",
    "    \"\"\"\n",
    "    - G is a netorkx graph\n",
    "    - node_order (optional) is a list of nodes, where each node in G\n",
    "          appears exactly once\n",
    "    - partitions is a list of node lists, where each node in G appears\n",
    "          in exactly one node list\n",
    "    - colors is a list of strings indicating what color each\n",
    "          partition should be\n",
    "    If partitions is specified, the same number of colors needs to be\n",
    "    specified.\n",
    "    \"\"\"\n",
    "    adjacency_matrix = nx.to_numpy_matrix(G, dtype=bool, nodelist=node_order)\n",
    "\n",
    "    #Plot adjacency matrix in toned-down black and white\n",
    "    fig = pyplot.figure(figsize=(10, 10)) # in inches\n",
    "    pyplot.imshow(adjacency_matrix,\n",
    "                  cmap=\"Greys\",\n",
    "                  interpolation=\"none\")\n",
    "    \n",
    "    # The rest is just if you have sorted nodes by a partition and want to\n",
    "    # highlight the module boundaries\n",
    "    assert len(partitions) == len(colors)\n",
    "    ax = pyplot.gca()\n",
    "    for partition, color in zip(partitions, colors):\n",
    "        current_idx = 0\n",
    "        for module in partition:\n",
    "            ax.add_patch(patches.Rectangle((current_idx, current_idx),\n",
    "                                          len(module), # Width\n",
    "                                          len(module), # Height\n",
    "                                          facecolor=\"none\",\n",
    "                                          edgecolor=color,\n",
    "                                          linewidth=1))\n",
    "            current_idx += len(module)"
   ]
  },
  {
   "cell_type": "code",
   "execution_count": 17,
   "id": "0448a985",
   "metadata": {},
   "outputs": [],
   "source": [
    "def Get_Order_List(community_dict,degree):\n",
    "    \n",
    "    degree_sort={k: v for k, v in sorted(degree.items(), key=lambda item: item[1], reverse=True)}\n",
    "    degree_list=list(degree_sort.keys())\n",
    "    \n",
    "    Comms = defaultdict(list)\n",
    "    for node_index, comm_id in community_dict.items():\n",
    "        Comms[comm_id].append(node_index)\n",
    "    \n",
    "    Blocks_mark = Comms.values()\n",
    "    \n",
    "    nodes_ordered=[]\n",
    "    key_node_list=[]\n",
    "    for comm_id in  Comms:\n",
    "        node_in_block=Comms[comm_id]\n",
    "        sort_degree_comm=Sort_by_degree(degree_list,node_in_block)\n",
    "        key_nodes=sort_degree_comm[0]\n",
    "        key_node_list.append(key_nodes)\n",
    "        nodes_ordered=nodes_ordered+sort_degree_comm\n",
    "        \n",
    "    return Blocks_mark,nodes_ordered,key_node_list"
   ]
  },
  {
   "cell_type": "code",
   "execution_count": 18,
   "id": "aefc4776",
   "metadata": {},
   "outputs": [],
   "source": [
    "def Sort_by_degree(degree_list,node_in_block):\n",
    "    \n",
    "    list2=list(degreeofday_new.keys())\n",
    "    result = [i for i in degree_list if i in node_in_block]\n",
    "    \n",
    "    return result"
   ]
  },
  {
   "cell_type": "code",
   "execution_count": null,
   "id": "e36b7204",
   "metadata": {},
   "outputs": [],
   "source": []
  },
  {
   "cell_type": "code",
   "execution_count": 39,
   "id": "4838da4c",
   "metadata": {
    "scrolled": true
   },
   "outputs": [],
   "source": [
    "def Simulation(n_nodes,pb,r_round,alpha,gamma):\n",
    "    Mat=Make_Ori_Mat(n_nodes)\n",
    "    node_colors=assign_colors(Mat,pb)\n",
    "    node_labels = np.array(list(node_colors.values()))\n",
    "    probability_matrix = create_label_probability_matrix(node_labels)\n",
    "    newmat=Make_stable(Mat,r_round,alpha,gamma,probability_matrix)\n",
    "\n",
    "    return newmat"
   ]
  },
  {
   "cell_type": "code",
   "execution_count": 61,
   "id": "e3af9de8",
   "metadata": {},
   "outputs": [],
   "source": [
    "# set parameters:\n",
    "n_nodes=200\n",
    "r_round=1000\n",
    "\n",
    "pb_array=np.linspace(0.8,1,21)\n",
    "alpha_array=np.linspace(0.01,0.5,50)\n",
    "gamma_array=np.linspace(0.01,1,100)\n",
    "\n",
    "# Create 3D coordinate arrays using meshgrid\n",
    "pb_grid, alpha_grid, gamma_grid = np.meshgrid(pb_array, alpha_array, gamma_array, indexing='ij')\n",
    "\n",
    "# Stack the coordinate arrays along a new axis to create a 3D array\n",
    "combined_array = np.stack([pb_grid, alpha_grid, gamma_grid], axis=-1)\n"
   ]
  },
  {
   "cell_type": "code",
   "execution_count": null,
   "id": "865a6160",
   "metadata": {},
   "outputs": [],
   "source": [
    "MAT_LIST = {}\n"
   ]
  },
  {
   "cell_type": "code",
   "execution_count": null,
   "id": "701c5357",
   "metadata": {
    "scrolled": true
   },
   "outputs": [
    {
     "name": "stderr",
     "output_type": "stream",
     "text": [
      "100%|█████████████████████████████████████████████████████████████████████████████| 50/50 [33:29:16<00:00, 2411.13s/it]\n",
      "100%|█████████████████████████████████████████████████████████████████████████████| 50/50 [32:36:50<00:00, 2348.22s/it]\n",
      "100%|█████████████████████████████████████████████████████████████████████████████| 50/50 [34:11:22<00:00, 2461.65s/it]\n",
      " 86%|████████████████████████████████████████████████████████████████▌          | 43/50 [31:29:51<5:05:54, 2622.02s/it]"
     ]
    }
   ],
   "source": [
    "\n",
    "for i in range(11,len(pb_array)):\n",
    "    MAT_LIST[i] = {}\n",
    "    for j in tqdm(range(len(alpha_array))):\n",
    "        MAT_LIST[i][j] = {}\n",
    "        for k in range(len(gamma_array)):        \n",
    "            parameters=combined_array[i][j][k]\n",
    "            pb=parameters[0]\n",
    "            alpha=parameters[1]\n",
    "            gamma=parameters[2]\n",
    "            MAT_LIST[i][j][k]=Simulation(n_nodes,pb,r_round,alpha,gamma)\n",
    "    with open(\"simulation_200_\"+str(i)+\".pkl\", \"wb\") as fp:   #Pickling\n",
    "        pickle.dump(MAT_LIST[i], fp)\n"
   ]
  },
  {
   "cell_type": "code",
   "execution_count": 64,
   "id": "8d34c8b1",
   "metadata": {},
   "outputs": [],
   "source": [
    "with open(\"simulation_200_final.pkl\", \"wb\") as fp:   #Pickling\n",
    "    pickle.dump(MAT_LIST, fp)"
   ]
  },
  {
   "cell_type": "code",
   "execution_count": 75,
   "id": "5c0a5fa1",
   "metadata": {},
   "outputs": [
    {
     "data": {
      "text/plain": [
       "27"
      ]
     },
     "execution_count": 75,
     "metadata": {},
     "output_type": "execute_result"
    }
   ],
   "source": [
    "len(MAT_LIST[10])"
   ]
  },
  {
   "cell_type": "code",
   "execution_count": 20,
   "id": "f472c322",
   "metadata": {},
   "outputs": [
    {
     "data": {
      "image/png": "[encoded data removed]",
      "text/plain": [
       "<Figure size 720x720 with 1 Axes>"
      ]
     },
     "metadata": {
      "needs_background": "light"
     },
     "output_type": "display_data"
    }
   ],
   "source": [
    "G=nx.from_numpy_matrix(np.array(newmat))\n",
    "degreeofday=dict(G.degree)\n",
    "degreeofday_new={k: v for k, v in sorted(degreeofday.items(), key=lambda item: item[1], reverse=True)}\n",
    "nodenewlist=list(degreeofday_new.keys())\n",
    "draw_adjacency_matrix(G,nodenewlist)"
   ]
  },
  {
   "cell_type": "code",
   "execution_count": 21,
   "id": "b5fc773f",
   "metadata": {},
   "outputs": [
    {
     "data": {
      "image/png": "[encoded data removed]",
      "text/plain": [
       "<Figure size 720x720 with 1 Axes>"
      ]
     },
     "metadata": {
      "needs_background": "light"
     },
     "output_type": "display_data"
    }
   ],
   "source": [
    "draw_adjacency_matrix(G)"
   ]
  },
  {
   "cell_type": "code",
   "execution_count": 22,
   "id": "be094957",
   "metadata": {},
   "outputs": [],
   "source": [
    "group_dict = node_colors\n",
    "Q_blocks_mark,Q_ordered,Q_key_node_list=Get_Order_List(group_dict,degreeofday)"
   ]
  },
  {
   "cell_type": "code",
   "execution_count": 23,
   "id": "c597e2fd",
   "metadata": {},
   "outputs": [
    {
     "data": {
      "image/png": "[encoded data removed]",
      "text/plain": [
       "<Figure size 720x720 with 1 Axes>"
      ]
     },
     "metadata": {
      "needs_background": "light"
     },
     "output_type": "display_data"
    }
   ],
   "source": [
    "draw_adjacency_matrix(G, Q_ordered,[Q_blocks_mark], [\"blue\"])"
   ]
  },
  {
   "cell_type": "code",
   "execution_count": 847,
   "id": "af94ec55",
   "metadata": {},
   "outputs": [
    {
     "data": {
      "text/plain": [
       "9"
      ]
     },
     "execution_count": 847,
     "metadata": {},
     "output_type": "execute_result"
    }
   ],
   "source": [
    "len(Q_blocks_mark)"
   ]
  },
  {
   "cell_type": "code",
   "execution_count": null,
   "id": "3dfbfb7e",
   "metadata": {},
   "outputs": [],
   "source": []
  },
  {
   "cell_type": "code",
   "execution_count": null,
   "id": "fd3ad555",
   "metadata": {},
   "outputs": [],
   "source": []
  },
  {
   "cell_type": "code",
   "execution_count": null,
   "id": "a4e1392a",
   "metadata": {},
   "outputs": [],
   "source": []
  },
  {
   "cell_type": "code",
   "execution_count": null,
   "id": "d05bb279",
   "metadata": {},
   "outputs": [],
   "source": []
  },
  {
   "cell_type": "code",
   "execution_count": null,
   "id": "4e9e7175",
   "metadata": {},
   "outputs": [],
   "source": []
  },
  {
   "cell_type": "code",
   "execution_count": null,
   "id": "fd5b2a12",
   "metadata": {},
   "outputs": [],
   "source": []
  },
  {
   "cell_type": "code",
   "execution_count": null,
   "id": "2770b1a8",
   "metadata": {},
   "outputs": [],
   "source": []
  },
  {
   "cell_type": "code",
   "execution_count": null,
   "id": "f31986dd",
   "metadata": {},
   "outputs": [],
   "source": []
  },
  {
   "cell_type": "code",
   "execution_count": null,
   "id": "ac2b4238",
   "metadata": {},
   "outputs": [],
   "source": []
  },
  {
   "cell_type": "code",
   "execution_count": null,
   "id": "caac3f84",
   "metadata": {},
   "outputs": [],
   "source": []
  },
  {
   "cell_type": "code",
   "execution_count": null,
   "id": "9b42853b",
   "metadata": {},
   "outputs": [],
   "source": []
  },
  {
   "cell_type": "code",
   "execution_count": null,
   "id": "64dd4830",
   "metadata": {},
   "outputs": [],
   "source": []
  },
  {
   "cell_type": "code",
   "execution_count": null,
   "id": "09b4bd41",
   "metadata": {},
   "outputs": [],
   "source": []
  },
  {
   "cell_type": "code",
   "execution_count": null,
   "id": "808406a6",
   "metadata": {},
   "outputs": [],
   "source": []
  },
  {
   "cell_type": "code",
   "execution_count": null,
   "id": "d61eebc8",
   "metadata": {},
   "outputs": [],
   "source": []
  },
  {
   "cell_type": "code",
   "execution_count": null,
   "id": "618a058b",
   "metadata": {},
   "outputs": [],
   "source": []
  },
  {
   "cell_type": "code",
   "execution_count": 36,
   "id": "d5c1d447",
   "metadata": {},
   "outputs": [
    {
     "data": {
      "text/plain": [
       "30"
      ]
     },
     "execution_count": 36,
     "metadata": {},
     "output_type": "execute_result"
    }
   ],
   "source": [
    "len(set(node_colors.values()))"
   ]
  },
  {
   "cell_type": "code",
   "execution_count": null,
   "id": "f833b7c5",
   "metadata": {},
   "outputs": [],
   "source": []
  },
  {
   "cell_type": "code",
   "execution_count": null,
   "id": "8402f788",
   "metadata": {},
   "outputs": [],
   "source": []
  }
 ],
 "metadata": {
  "kernelspec": {
   "display_name": "Python 3 (ipykernel)",
   "language": "python",
   "name": "python3"
  },
  "language_info": {
   "codemirror_mode": {
    "name": "ipython",
    "version": 3
   },
   "file_extension": ".py",
   "mimetype": "text/x-python",
   "name": "python",
   "nbconvert_exporter": "python",
   "pygments_lexer": "ipython3",
   "version": "3.9.7"
  }
 },
 "nbformat": 4,
 "nbformat_minor": 5
}
