{
 "cells": [
  {
   "cell_type": "code",
   "execution_count": 1,
   "id": "9b286fb1",
   "metadata": {},
   "outputs": [],
   "source": [
    "import networkx as nx\n",
    "from matplotlib import pyplot, patches\n",
    "from scipy import io\n",
    "import numpy as np\n",
    "from collections import defaultdict\n",
    "import community\n",
    "import pickle\n",
    "from tqdm import tqdm\n",
    "import matplotlib.ticker as ticker\n",
    "import matplotlib.pyplot as plt \n",
    "import glob, os\n",
    "import csv"
   ]
  },
  {
   "cell_type": "code",
   "execution_count": 2,
   "id": "dff72402",
   "metadata": {},
   "outputs": [],
   "source": [
    "with open('null_model.pkl', 'rb') as fp:\n",
    "    NullMODEL= pickle.load(fp)"
   ]
  },
  {
   "cell_type": "code",
   "execution_count": 3,
   "id": "b343b68a",
   "metadata": {},
   "outputs": [],
   "source": [
    "with open('null_model_11.pkl', 'rb') as fp:\n",
    "    Null40= pickle.load(fp)"
   ]
  },
  {
   "cell_type": "code",
   "execution_count": null,
   "id": "e8196522",
   "metadata": {},
   "outputs": [],
   "source": [
    "with open('null_model_10.pkl', 'rb') as fp:\n",
    "    Null40= pickle.load(fp)"
   ]
  },
  {
   "cell_type": "code",
   "execution_count": 4,
   "id": "d6b106fa",
   "metadata": {},
   "outputs": [],
   "source": [
    "def Model_to_mat(G,i,date,nulltype):\n",
    "    adjacency_matrix = nx.to_numpy_array(G,weight=None).tolist()\n",
    " #   adjmat=(adjacency_matrix*1).tolist()\n",
    "    with open(\"C:/Users/wyw25/thesis/null_model_generate/\"+str(date)+\"/\"+nulltype+\"/mat\"+str(date)+\"_\"+str(i)+\".csv\", \"w\", newline=\"\") as f:\n",
    "        writer = csv.writer(f)\n",
    "        writer.writerows(adjacency_matrix)"
   ]
  },
  {
   "cell_type": "code",
   "execution_count": null,
   "id": "5fd22e1a",
   "metadata": {},
   "outputs": [],
   "source": [
    "for date in Null40.keys():\n",
    "    # create folder of year\n",
    "    newpath = r\"C:/Users/wyw25/thesis/null_model_generate/\"+str(date)\n",
    "    if not os.path.exists(newpath):\n",
    "        os.makedirs(newpath)\n",
    "       \n",
    "    newpath1 = r\"C:/Users/wyw25/thesis/null_model_generate/\"+str(date)+\"/EE\"\n",
    "    if not os.path.exists(newpath1):\n",
    "        os.makedirs(newpath1)\n",
    "    newpath2 = r\"C:/Users/wyw25/thesis/null_model_generate/\"+str(date)+\"/FF\"\n",
    "    if not os.path.exists(newpath2):\n",
    "        os.makedirs(newpath2)\n",
    "    newpath3 = r\"C:/Users/wyw25/thesis/null_model_generate/\"+str(date)+\"/PP\"\n",
    "    if not os.path.exists(newpath3):\n",
    "        os.makedirs(newpath3)\n",
    "    newpath4 = r\"C:/Users/wyw25/thesis/null_model_generate/\"+str(date)+\"/PEEP\"\n",
    "    if not os.path.exists(newpath4):\n",
    "        os.makedirs(newpath4)\n",
    "   \n",
    "    for i in range(1000):\n",
    "        Model_to_mat(Null40[date]['GEE'][i],i,date,'EE')\n",
    "        Model_to_mat(Null40[date]['GFF'][i],i,date,'FF')\n",
    "        Model_to_mat(Null40[date]['GPP'][i],i,date,'PP')\n",
    "        Model_to_mat(Null40[date]['GPEED'][i],i,date,'PEEP')"
   ]
  },
  {
   "cell_type": "code",
   "execution_count": 3,
   "id": "9ca22a3d",
   "metadata": {},
   "outputs": [],
   "source": [
    "for date in NullMODEL.keys():\n",
    "    # create folder of year\n",
    "    newpath = r\"C:/Users/wyw25/thesis/null_model_generate/\"+str(date)\n",
    "    if not os.path.exists(newpath):\n",
    "        os.makedirs(newpath)\n",
    "        \n",
    "    with open(\"C:/Users/wyw25/thesis/null_model_generate/\"+str(date)+\"/EE.pkl\", 'wb') as fp:\n",
    "        pickle.dump(NullMODEL[date]['GEE'],fp)    \n",
    "    with open(\"C:/Users/wyw25/thesis/null_model_generate/\"+str(date)+\"/FF.pkl\", 'wb') as fp:\n",
    "        pickle.dump(NullMODEL[date]['GFF'],fp)     \n",
    "    with open(\"C:/Users/wyw25/thesis/null_model_generate/\"+str(date)+\"/PP.pkl\", 'wb') as fp:\n",
    "        pickle.dump(NullMODEL[date]['GPP'],fp)     \n",
    "    with open(\"C:/Users/wyw25/thesis/null_model_generate/\"+str(date)+\"/PEEP.pkl\", 'wb') as fp:\n",
    "        pickle.dump(NullMODEL[date]['GPEED'],fp)     \n",
    "          "
   ]
  },
  {
   "cell_type": "code",
   "execution_count": 4,
   "id": "39b74fa0",
   "metadata": {},
   "outputs": [
    {
     "ename": "MemoryError",
     "evalue": "Unable to allocate 1.10 MiB for an array with shape (379, 379) and data type float64",
     "output_type": "error",
     "traceback": [
      "\u001b[1;31m---------------------------------------------------------------------------\u001b[0m",
      "\u001b[1;31mMemoryError\u001b[0m                               Traceback (most recent call last)",
      "\u001b[1;32m~\\AppData\\Local\\Temp/ipykernel_24236/1068753564.py\u001b[0m in \u001b[0;36m<module>\u001b[1;34m\u001b[0m\n\u001b[0;32m     14\u001b[0m         \u001b[0madjacency_matrix_ff\u001b[0m \u001b[1;33m=\u001b[0m \u001b[0mnx\u001b[0m\u001b[1;33m.\u001b[0m\u001b[0mto_numpy_array\u001b[0m\u001b[1;33m(\u001b[0m\u001b[0mNullMODEL\u001b[0m\u001b[1;33m[\u001b[0m\u001b[0mdate\u001b[0m\u001b[1;33m]\u001b[0m\u001b[1;33m[\u001b[0m\u001b[1;34m'GFF'\u001b[0m\u001b[1;33m]\u001b[0m\u001b[1;33m[\u001b[0m\u001b[0mi\u001b[0m\u001b[1;33m]\u001b[0m\u001b[1;33m,\u001b[0m\u001b[0mweight\u001b[0m\u001b[1;33m=\u001b[0m\u001b[1;32mNone\u001b[0m\u001b[1;33m)\u001b[0m\u001b[1;33m.\u001b[0m\u001b[0mtolist\u001b[0m\u001b[1;33m(\u001b[0m\u001b[1;33m)\u001b[0m\u001b[1;33m\u001b[0m\u001b[1;33m\u001b[0m\u001b[0m\n\u001b[0;32m     15\u001b[0m         \u001b[0madjacency_matrix_pp\u001b[0m \u001b[1;33m=\u001b[0m \u001b[0mnx\u001b[0m\u001b[1;33m.\u001b[0m\u001b[0mto_numpy_array\u001b[0m\u001b[1;33m(\u001b[0m\u001b[0mNullMODEL\u001b[0m\u001b[1;33m[\u001b[0m\u001b[0mdate\u001b[0m\u001b[1;33m]\u001b[0m\u001b[1;33m[\u001b[0m\u001b[1;34m'GPP'\u001b[0m\u001b[1;33m]\u001b[0m\u001b[1;33m[\u001b[0m\u001b[0mi\u001b[0m\u001b[1;33m]\u001b[0m\u001b[1;33m,\u001b[0m\u001b[0mweight\u001b[0m\u001b[1;33m=\u001b[0m\u001b[1;32mNone\u001b[0m\u001b[1;33m)\u001b[0m\u001b[1;33m.\u001b[0m\u001b[0mtolist\u001b[0m\u001b[1;33m(\u001b[0m\u001b[1;33m)\u001b[0m\u001b[1;33m\u001b[0m\u001b[1;33m\u001b[0m\u001b[0m\n\u001b[1;32m---> 16\u001b[1;33m         \u001b[0madjacency_matrix_peed\u001b[0m \u001b[1;33m=\u001b[0m \u001b[0mnx\u001b[0m\u001b[1;33m.\u001b[0m\u001b[0mto_numpy_array\u001b[0m\u001b[1;33m(\u001b[0m\u001b[0mNullMODEL\u001b[0m\u001b[1;33m[\u001b[0m\u001b[0mdate\u001b[0m\u001b[1;33m]\u001b[0m\u001b[1;33m[\u001b[0m\u001b[1;34m'GPEED'\u001b[0m\u001b[1;33m]\u001b[0m\u001b[1;33m[\u001b[0m\u001b[0mi\u001b[0m\u001b[1;33m]\u001b[0m\u001b[1;33m,\u001b[0m\u001b[0mweight\u001b[0m\u001b[1;33m=\u001b[0m\u001b[1;32mNone\u001b[0m\u001b[1;33m)\u001b[0m\u001b[1;33m.\u001b[0m\u001b[0mtolist\u001b[0m\u001b[1;33m(\u001b[0m\u001b[1;33m)\u001b[0m\u001b[1;33m\u001b[0m\u001b[1;33m\u001b[0m\u001b[0m\n\u001b[0m\u001b[0;32m     17\u001b[0m         \u001b[0mEE\u001b[0m\u001b[1;33m[\u001b[0m\u001b[0mi\u001b[0m\u001b[1;33m]\u001b[0m\u001b[1;33m=\u001b[0m\u001b[0madjacency_matrix_ee\u001b[0m\u001b[1;33m\u001b[0m\u001b[1;33m\u001b[0m\u001b[0m\n\u001b[0;32m     18\u001b[0m         \u001b[0mFF\u001b[0m\u001b[1;33m[\u001b[0m\u001b[0mi\u001b[0m\u001b[1;33m]\u001b[0m\u001b[1;33m=\u001b[0m\u001b[0madjacency_matrix_ff\u001b[0m\u001b[1;33m\u001b[0m\u001b[1;33m\u001b[0m\u001b[0m\n",
      "\u001b[1;32m~\\anaconda3\\lib\\site-packages\\networkx\\convert_matrix.py\u001b[0m in \u001b[0;36mto_numpy_array\u001b[1;34m(G, nodelist, dtype, order, multigraph_weight, weight, nonedge)\u001b[0m\n\u001b[0;32m   1255\u001b[0m     \u001b[1;32melse\u001b[0m\u001b[1;33m:\u001b[0m\u001b[1;33m\u001b[0m\u001b[1;33m\u001b[0m\u001b[0m\n\u001b[0;32m   1256\u001b[0m         \u001b[1;31m# Graph or DiGraph, this is much faster than above\u001b[0m\u001b[1;33m\u001b[0m\u001b[1;33m\u001b[0m\u001b[0m\n\u001b[1;32m-> 1257\u001b[1;33m         \u001b[0mA\u001b[0m \u001b[1;33m=\u001b[0m \u001b[0mnp\u001b[0m\u001b[1;33m.\u001b[0m\u001b[0mfull\u001b[0m\u001b[1;33m(\u001b[0m\u001b[1;33m(\u001b[0m\u001b[0mnlen\u001b[0m\u001b[1;33m,\u001b[0m \u001b[0mnlen\u001b[0m\u001b[1;33m)\u001b[0m\u001b[1;33m,\u001b[0m \u001b[0mnp\u001b[0m\u001b[1;33m.\u001b[0m\u001b[0mnan\u001b[0m\u001b[1;33m,\u001b[0m \u001b[0morder\u001b[0m\u001b[1;33m=\u001b[0m\u001b[0morder\u001b[0m\u001b[1;33m)\u001b[0m\u001b[1;33m\u001b[0m\u001b[1;33m\u001b[0m\u001b[0m\n\u001b[0m\u001b[0;32m   1258\u001b[0m         \u001b[1;32mfor\u001b[0m \u001b[0mu\u001b[0m\u001b[1;33m,\u001b[0m \u001b[0mnbrdict\u001b[0m \u001b[1;32min\u001b[0m \u001b[0mG\u001b[0m\u001b[1;33m.\u001b[0m\u001b[0madjacency\u001b[0m\u001b[1;33m(\u001b[0m\u001b[1;33m)\u001b[0m\u001b[1;33m:\u001b[0m\u001b[1;33m\u001b[0m\u001b[1;33m\u001b[0m\u001b[0m\n\u001b[0;32m   1259\u001b[0m             \u001b[1;32mfor\u001b[0m \u001b[0mv\u001b[0m\u001b[1;33m,\u001b[0m \u001b[0md\u001b[0m \u001b[1;32min\u001b[0m \u001b[0mnbrdict\u001b[0m\u001b[1;33m.\u001b[0m\u001b[0mitems\u001b[0m\u001b[1;33m(\u001b[0m\u001b[1;33m)\u001b[0m\u001b[1;33m:\u001b[0m\u001b[1;33m\u001b[0m\u001b[1;33m\u001b[0m\u001b[0m\n",
      "\u001b[1;32m~\\anaconda3\\lib\\site-packages\\numpy\\core\\numeric.py\u001b[0m in \u001b[0;36mfull\u001b[1;34m(shape, fill_value, dtype, order, like)\u001b[0m\n\u001b[0;32m    340\u001b[0m         \u001b[0mfill_value\u001b[0m \u001b[1;33m=\u001b[0m \u001b[0masarray\u001b[0m\u001b[1;33m(\u001b[0m\u001b[0mfill_value\u001b[0m\u001b[1;33m)\u001b[0m\u001b[1;33m\u001b[0m\u001b[1;33m\u001b[0m\u001b[0m\n\u001b[0;32m    341\u001b[0m         \u001b[0mdtype\u001b[0m \u001b[1;33m=\u001b[0m \u001b[0mfill_value\u001b[0m\u001b[1;33m.\u001b[0m\u001b[0mdtype\u001b[0m\u001b[1;33m\u001b[0m\u001b[1;33m\u001b[0m\u001b[0m\n\u001b[1;32m--> 342\u001b[1;33m     \u001b[0ma\u001b[0m \u001b[1;33m=\u001b[0m \u001b[0mempty\u001b[0m\u001b[1;33m(\u001b[0m\u001b[0mshape\u001b[0m\u001b[1;33m,\u001b[0m \u001b[0mdtype\u001b[0m\u001b[1;33m,\u001b[0m \u001b[0morder\u001b[0m\u001b[1;33m)\u001b[0m\u001b[1;33m\u001b[0m\u001b[1;33m\u001b[0m\u001b[0m\n\u001b[0m\u001b[0;32m    343\u001b[0m     \u001b[0mmultiarray\u001b[0m\u001b[1;33m.\u001b[0m\u001b[0mcopyto\u001b[0m\u001b[1;33m(\u001b[0m\u001b[0ma\u001b[0m\u001b[1;33m,\u001b[0m \u001b[0mfill_value\u001b[0m\u001b[1;33m,\u001b[0m \u001b[0mcasting\u001b[0m\u001b[1;33m=\u001b[0m\u001b[1;34m'unsafe'\u001b[0m\u001b[1;33m)\u001b[0m\u001b[1;33m\u001b[0m\u001b[1;33m\u001b[0m\u001b[0m\n\u001b[0;32m    344\u001b[0m     \u001b[1;32mreturn\u001b[0m \u001b[0ma\u001b[0m\u001b[1;33m\u001b[0m\u001b[1;33m\u001b[0m\u001b[0m\n",
      "\u001b[1;31mMemoryError\u001b[0m: Unable to allocate 1.10 MiB for an array with shape (379, 379) and data type float64"
     ]
    }
   ],
   "source": [
    "for date in NullMODEL.keys():\n",
    "    # create folder of year\n",
    "    newpath = r\"C:/Users/wyw25/thesis/null_model_generate_matrix/\"+str(date)\n",
    "    if not os.path.exists(newpath):\n",
    "        os.makedirs(newpath)\n",
    "    \n",
    "    EE={}\n",
    "    FF={}\n",
    "    PP={}\n",
    "    PEEP={}\n",
    "      \n",
    "    for i in range(200):\n",
    "        adjacency_matrix_ee = nx.to_numpy_array(NullMODEL[date]['GEE'][i],weight=None).tolist()\n",
    "        adjacency_matrix_ff = nx.to_numpy_array(NullMODEL[date]['GFF'][i],weight=None).tolist()\n",
    "        adjacency_matrix_pp = nx.to_numpy_array(NullMODEL[date]['GPP'][i],weight=None).tolist()\n",
    "        adjacency_matrix_peed = nx.to_numpy_array(NullMODEL[date]['GPEED'][i],weight=None).tolist()\n",
    "        EE[i]=adjacency_matrix_ee\n",
    "        FF[i]=adjacency_matrix_ff \n",
    "        PP[i]=adjacency_matrix_pp\n",
    "        PEEP[i]=adjacency_matrix_peed\n",
    "        \n",
    "    with open(\"C:/Users/wyw25/thesis/null_model_generate_matrix/\"+str(date)+\"/EE.pkl\", 'wb') as fp:\n",
    "        pickle.dump(EE,fp)    \n",
    "    with open(\"C:/Users/wyw25/thesis/null_model_generate_matrix/\"+str(date)+\"/FF.pkl\", 'wb') as fp:\n",
    "        pickle.dump(FF,fp)     \n",
    "    with open(\"C:/Users/wyw25/thesis/null_model_generate_matrix/\"+str(date)+\"/PP.pkl\", 'wb') as fp:\n",
    "        pickle.dump(PP,fp)     \n",
    "    with open(\"C:/Users/wyw25/thesis/null_model_generate_matrix/\"+str(date)+\"/PEEP.pkl\", 'wb') as fp:\n",
    "        pickle.dump(PEEP,fp)     \n",
    "          "
   ]
  },
  {
   "cell_type": "code",
   "execution_count": null,
   "id": "709bf3e4",
   "metadata": {},
   "outputs": [],
   "source": []
  },
  {
   "cell_type": "code",
   "execution_count": null,
   "id": "e3f3a9d8",
   "metadata": {},
   "outputs": [],
   "source": []
  },
  {
   "cell_type": "code",
   "execution_count": null,
   "id": "789014ef",
   "metadata": {},
   "outputs": [],
   "source": []
  }
 ],
 "metadata": {
  "kernelspec": {
   "display_name": "Python 3 (ipykernel)",
   "language": "python",
   "name": "python3"
  },
  "language_info": {
   "codemirror_mode": {
    "name": "ipython",
    "version": 3
   },
   "file_extension": ".py",
   "mimetype": "text/x-python",
   "name": "python",
   "nbconvert_exporter": "python",
   "pygments_lexer": "ipython3",
   "version": "3.9.7"
  }
 },
 "nbformat": 4,
 "nbformat_minor": 5
}
