{
 "cells": [
  {
   "cell_type": "code",
   "execution_count": 15,
   "id": "241c73f4",
   "metadata": {},
   "outputs": [],
   "source": [
    "import numpy as np\n",
    "import pandas as pd\n",
    "import matplotlib.pyplot as plt "
   ]
  },
  {
   "cell_type": "code",
   "execution_count": 21,
   "id": "75becb74",
   "metadata": {},
   "outputs": [],
   "source": [
    "# define social distance indices as:\n",
    "def hu_x(x,N,alpha):\n",
    "    N_=2*(1-2*alpha)/(1-np.exp(-2*(1-2*alpha)*N))\n",
    "    y= N_*np.exp(-2*(1-2*alpha)*x)\n",
    "\n",
    "    return y"
   ]
  },
  {
   "cell_type": "code",
   "execution_count": 22,
   "id": "0ea50290",
   "metadata": {},
   "outputs": [],
   "source": [
    "def hl_x(x,N,alpha):\n",
    "    N_=2*(1-2*alpha)/(1-np.exp(-2*(1-2*alpha)*N))\n",
    "    y= (np.log(N_)-np.log(x))/ (2*(1-2*alpha) ) \n",
    "    \n",
    "    return y"
   ]
  },
  {
   "cell_type": "code",
   "execution_count": 169,
   "id": "d3edadd9",
   "metadata": {},
   "outputs": [],
   "source": [
    "x_range=np.linspace(0,100,1000,endpoint=False)"
   ]
  },
  {
   "cell_type": "code",
   "execution_count": 189,
   "id": "526fe25f",
   "metadata": {},
   "outputs": [],
   "source": [
    "y_range_u=[]\n",
    "for x in x_range:\n",
    "    y=hu_x(x,100,0.4)\n",
    "    y_range_u.append(y)"
   ]
  },
  {
   "cell_type": "code",
   "execution_count": 190,
   "id": "d60293ee",
   "metadata": {},
   "outputs": [
    {
     "name": "stderr",
     "output_type": "stream",
     "text": [
      "C:\\Users\\wyw25\\AppData\\Local\\Temp/ipykernel_46472/2223736999.py:3: RuntimeWarning: divide by zero encountered in log\n",
      "  y= (np.log(N_)-np.log(x))/ (2*(1-2*alpha) )\n"
     ]
    }
   ],
   "source": [
    "y_range_l=[]\n",
    "for x in x_range:\n",
    "    y=hl_x(x,100,0.4)\n",
    "    y_range_l.append(y)"
   ]
  },
  {
   "cell_type": "code",
   "execution_count": 191,
   "id": "9f33c7af",
   "metadata": {},
   "outputs": [
    {
     "data": {
      "text/plain": [
       "(0.0, 5.0)"
      ]
     },
     "execution_count": 191,
     "metadata": {},
     "output_type": "execute_result"
    },
    {
     "data": {
      "image/png": "[encoded data removed]",
      "text/plain": [
       "<Figure size 360x360 with 1 Axes>"
      ]
     },
     "metadata": {
      "needs_background": "light"
     },
     "output_type": "display_data"
    }
   ],
   "source": [
    "fig = plt.figure(figsize=(5, 5))\n",
    "plt.plot(x_range,y_range_u)\n",
    "plt.plot(x_range,y_range_l)\n",
    "plt.ylim(0,5)\n",
    "plt.xlim(0,5)"
   ]
  },
  {
   "cell_type": "markdown",
   "id": "f3e0ce06",
   "metadata": {},
   "source": [
    "### "
   ]
  },
  {
   "cell_type": "code",
   "execution_count": null,
   "id": "85a7af0a",
   "metadata": {},
   "outputs": [],
   "source": []
  },
  {
   "cell_type": "code",
   "execution_count": null,
   "id": "0b20dcc4",
   "metadata": {},
   "outputs": [],
   "source": []
  },
  {
   "cell_type": "code",
   "execution_count": null,
   "id": "cbeb5bd0",
   "metadata": {},
   "outputs": [],
   "source": []
  },
  {
   "cell_type": "code",
   "execution_count": null,
   "id": "fa6d10c5",
   "metadata": {},
   "outputs": [],
   "source": []
  },
  {
   "cell_type": "code",
   "execution_count": null,
   "id": "45a2cedf",
   "metadata": {},
   "outputs": [],
   "source": []
  },
  {
   "cell_type": "code",
   "execution_count": null,
   "id": "c1756ef3",
   "metadata": {},
   "outputs": [],
   "source": []
  }
 ],
 "metadata": {
  "kernelspec": {
   "display_name": "Python 3 (ipykernel)",
   "language": "python",
   "name": "python3"
  },
  "language_info": {
   "codemirror_mode": {
    "name": "ipython",
    "version": 3
   },
   "file_extension": ".py",
   "mimetype": "text/x-python",
   "name": "python",
   "nbconvert_exporter": "python",
   "pygments_lexer": "ipython3",
   "version": "3.9.7"
  }
 },
 "nbformat": 4,
 "nbformat_minor": 5
}
