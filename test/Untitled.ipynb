{
 "cells": [
  {
   "cell_type": "code",
   "execution_count": 42,
   "id": "65e2f8d9",
   "metadata": {},
   "outputs": [],
   "source": [
    "from pyln.proto.primitives import varint_decode\n",
    "import bz2\n",
    "from binascii import hexlify"
   ]
  },
  {
   "cell_type": "code",
   "execution_count": 41,
   "id": "cfe56569",
   "metadata": {},
   "outputs": [],
   "source": [
    "import click\n",
    "import bz2\n",
    "from pyln.proto.primitives import varint_decode\n",
    "\n",
    "from pathlib import Path\n",
    "import struct\n"
   ]
  },
  {
   "cell_type": "code",
   "execution_count": 63,
   "id": "fce39d52",
   "metadata": {},
   "outputs": [],
   "source": [
    "from binascii import hexlify\n",
    "\n",
    "\n",
    "import io\n",
    "import struct\n",
    "import ipaddress\n",
    "\n",
    "\n",
    "class ChannelAnnouncement(object):\n",
    "    def __init__(self):\n",
    "        self.num_short_channel_id = None\n",
    "        self.node_signatures = [None, None]\n",
    "        self.bitcoin_signatures = [None, None]\n",
    "        self.features = None\n",
    "        self.chain_hash = None\n",
    "        self.node_ids = [None, None]\n",
    "        self.bitcoin_keys = [None, None]\n",
    "\n",
    "    @property\n",
    "    def short_channel_id(self):\n",
    "        return \"{}x{}x{}\".format(\n",
    "            (self.num_short_channel_id >> 40) & 0xFFFFFF,\n",
    "            (self.num_short_channel_id >> 16) & 0xFFFFFF,\n",
    "            (self.num_short_channel_id >> 00) & 0xFF,\n",
    "        )\n",
    "\n",
    "    def __eq__(self, other):\n",
    "        return (\n",
    "            self.num_short_channel_id == other.num_short_channel_id\n",
    "            and self.bitcoin_keys == other.bitcoin_keys\n",
    "            and self.chain_hash == other.chain_hash\n",
    "            and self.node_ids == other.node_ids\n",
    "            and self.features == other.features\n",
    "        )\n",
    "\n",
    "    def serialize(self):\n",
    "        raise ValueError()\n",
    "\n",
    "    def __str__(self):\n",
    "        na = hexlify(self.node_ids[0]).decode(\"ASCII\")\n",
    "        nb = hexlify(self.node_ids[1]).decode(\"ASCII\")\n",
    "        return \"ChannelAnnouncement(scid={short_channel_id}, nodes=[{na},{nb}])\".format(\n",
    "            na=na, nb=nb, short_channel_id=self.short_channel_id\n",
    "        )\n",
    "\n",
    "    def __json__(self):\n",
    "        return {\n",
    "            '_type': 'channel_announcement',\n",
    "            'scid': self.short_channel_id,\n",
    "            'features': hexlify(self.features).decode('ASCII'),\n",
    "            'node_id_1': hexlify(self.node_ids[0]).decode('ASCII'),\n",
    "            'node_id_2': hexlify(self.node_ids[1]).decode('ASCII'),\n",
    "            'chain_hash': hexlify(self.chain_hash).decode('ASCII'),\n",
    "        }\n",
    "\n",
    "\n",
    "class ChannelUpdate(object):\n",
    "    def __init__(self):\n",
    "        self.signature = None\n",
    "        self.chain_hash = None\n",
    "        self.num_short_channel_id = None\n",
    "        self.timestamp = None\n",
    "        self.message_flags = None\n",
    "        self.channel_flags = None\n",
    "        self.cltv_expiry_delta = None\n",
    "        self.htlc_minimum_msat = None\n",
    "        self.fee_base_msat = None\n",
    "        self.fee_proportional_millionths = None\n",
    "        self.htlc_maximum_msat = None\n",
    "\n",
    "    def __json__(self):\n",
    "        return {\n",
    "            '_type': 'channel_update',\n",
    "            'scid': self.short_channel_id,\n",
    "            'timestamp': self.timestamp,\n",
    "            'message_flags': hexlify(self.message_flags).decode('ASCII'),\n",
    "            'channel_flags': hexlify(self.channel_flags).decode('ASCII'),\n",
    "            'cltv_expiry_delta': self.cltv_expiry_delta,\n",
    "            'htlc_minimum_msat': self.htlc_minimum_msat,\n",
    "            'fee_base_msat': self.fee_base_msat,\n",
    "            'fee_proportional_millionths': self.fee_proportional_millionths,\n",
    "            'htlc_maximum_msat': self.htlc_maximum_msat,\n",
    "            'chain_hash': hexlify(self.chain_hash).decode('ASCII'),\n",
    "        }\n",
    "\n",
    "    @property\n",
    "    def short_channel_id(self):\n",
    "        return \"{}x{}x{}\".format(\n",
    "            (self.num_short_channel_id >> 40) & 0xFFFFFF,\n",
    "            (self.num_short_channel_id >> 16) & 0xFFFFFF,\n",
    "            (self.num_short_channel_id >> 00) & 0xFF,\n",
    "        )\n",
    "\n",
    "    @property\n",
    "    def direction(self):\n",
    "        (b,) = struct.unpack(\"!B\", self.channel_flags)\n",
    "        return b & 0x01\n",
    "\n",
    "    def serialize(self):\n",
    "        raise ValueError()\n",
    "\n",
    "    def __str__(self):\n",
    "        return \"ChannelUpdate(scid={short_channel_id}, timestamp={timestamp})\".format(\n",
    "            timestamp=self.timestamp, short_channel_id=self.short_channel_id\n",
    "        )\n",
    "\n",
    "    def __eq__(self, other):\n",
    "        return (\n",
    "            self.chain_hash == other.chain_hash\n",
    "            and self.num_short_channel_id == other.num_short_channel_id\n",
    "            and self.timestamp == other.timestamp\n",
    "            and self.message_flags == other.message_flags\n",
    "            and self.channel_flags == other.channel_flags\n",
    "            and self.cltv_expiry_delta == other.cltv_expiry_delta\n",
    "            and self.htlc_minimum_msat == other.htlc_minimum_msat\n",
    "            and self.fee_base_msat == other.fee_base_msat\n",
    "            and self.fee_proportional_millionths == other.fee_proportional_millionths\n",
    "            and self.htlc_maximum_msat == other.htlc_maximum_msat\n",
    "        )\n",
    "\n",
    "\n",
    "class Address(object):\n",
    "    def __init__(self, typ=None, addr=None, port=None):\n",
    "        self.typ = typ\n",
    "        self.addr = addr\n",
    "        self.port = port\n",
    "\n",
    "    def __eq__(self, other):\n",
    "        return (\n",
    "            self.typ == other.typ\n",
    "            and self.addr == other.addr\n",
    "            and self.port == other.port\n",
    "        )\n",
    "\n",
    "    def __len__(self):\n",
    "        l = {\n",
    "            1: 6,\n",
    "            2: 18,\n",
    "            3: 12,\n",
    "            4: 37,\n",
    "        }\n",
    "        return l[self.typ] + 1\n",
    "\n",
    "    def __str__(self):\n",
    "        addr = self.addr\n",
    "        if self.typ == 1:\n",
    "            addr = \".\".join([str(c) for c in addr])\n",
    "\n",
    "        protos = {\n",
    "            1: \"ipv4\",\n",
    "            2: \"ipv6\",\n",
    "            3: \"torv2\",\n",
    "            4: \"torv3\",\n",
    "        }\n",
    "\n",
    "        proto = protos.get(self.typ, 'UNKNOWN')\n",
    "        return f\"{proto}://{addr}:{self.port}\"\n",
    "\n",
    "\n",
    "class NodeAnnouncement(object):\n",
    "    def __init__(self):\n",
    "        self.signature = None\n",
    "        self.features = \"\"\n",
    "        self.timestamp = None\n",
    "        self.node_id = None\n",
    "        self.rgb_color = None\n",
    "        self.alias = None\n",
    "        self.addresses = None\n",
    "\n",
    "    def __str__(self):\n",
    "        return \"NodeAnnouncement(id={hexlify(node_id)}, alias={alias}, color={rgb_color})\".format(\n",
    "            node_id=self.node_id, alias=self.alias, rgb_color=self.rgb_color\n",
    "        )\n",
    "\n",
    "    def __eq__(self, other):\n",
    "        return (\n",
    "            self.features == other.features\n",
    "            and self.timestamp == other.timestamp\n",
    "            and self.node_id == other.node_id\n",
    "            and self.rgb_color == other.rgb_color\n",
    "            and self.alias == other.alias\n",
    "        )\n",
    "\n",
    "    def __json__(self):\n",
    "        return {\n",
    "            '_type': 'node_announcement',\n",
    "            'features': self.features.hex(),\n",
    "            'timestamp': self.timestamp,\n",
    "            'node_id': self.node_id.hex(),\n",
    "            'rgb_color': self.rgb_color.hex(),\n",
    "            'addresses': []  # TODO Add missing addresses\n",
    "        }\n",
    "\n",
    "\n",
    "def parse(b):\n",
    "    if not isinstance(b, io.BytesIO):\n",
    "        b = io.BytesIO(b)\n",
    "    (typ,) = struct.unpack(\"!H\", b.read(2))\n",
    "\n",
    "    parsers = {\n",
    "        256: parse_channel_announcement,\n",
    "        257: parse_node_announcement,\n",
    "        258: parse_channel_update,\n",
    "        3503: parse_ignore,\n",
    "    }\n",
    "\n",
    "    if typ not in parsers:\n",
    "        raise ValueError(\"No parser registered for type {typ}\".format(typ=typ))\n",
    "\n",
    "    return parsers[typ](b)\n",
    "\n",
    "\n",
    "def parse_ignore(b):\n",
    "    return None\n",
    "\n",
    "\n",
    "def parse_channel_announcement(b):\n",
    "    if not isinstance(b, io.BytesIO):\n",
    "        b = io.BytesIO(b)\n",
    "\n",
    "    ca = ChannelAnnouncement()\n",
    "    ca.node_signatures = (b.read(64), b.read(64))\n",
    "    ca.bitcoin_signatures = (b.read(64), b.read(64))\n",
    "    (flen,) = struct.unpack(\"!H\", b.read(2))\n",
    "    ca.features = b.read(flen)\n",
    "    ca.chain_hash = b.read(32)[::-1]\n",
    "    (ca.num_short_channel_id,) = struct.unpack(\"!Q\", b.read(8))\n",
    "    ca.node_ids = (b.read(33), b.read(33))\n",
    "    ca.bitcoin_keys = (b.read(33), b.read(33))\n",
    "    return ca\n",
    "\n",
    "\n",
    "def parse_channel_update(b):\n",
    "    if not isinstance(b, io.BytesIO):\n",
    "        b = io.BytesIO(b)\n",
    "\n",
    "    cu = ChannelUpdate()\n",
    "    cu.signature = b.read(64)\n",
    "    cu.chain_hash = b.read(32)[::-1]\n",
    "    (cu.num_short_channel_id,) = struct.unpack(\"!Q\", b.read(8))\n",
    "    (cu.timestamp,) = struct.unpack(\"!I\", b.read(4))\n",
    "    cu.message_flags = b.read(1)\n",
    "    cu.channel_flags = b.read(1)\n",
    "    (cu.cltv_expiry_delta,) = struct.unpack(\"!H\", b.read(2))\n",
    "    (cu.htlc_minimum_msat,) = struct.unpack(\"!Q\", b.read(8))\n",
    "    (cu.fee_base_msat,) = struct.unpack(\"!I\", b.read(4))\n",
    "    (cu.fee_proportional_millionths,) = struct.unpack(\"!I\", b.read(4))\n",
    "    t = b.read(8)\n",
    "    if len(t) == 8:\n",
    "        (cu.htlc_maximum_msat,) = struct.unpack(\"!Q\", t)\n",
    "    else:\n",
    "        cu.htlc_maximum_msat = None\n",
    "\n",
    "    return cu\n",
    "\n",
    "\n",
    "def parse_address(b):\n",
    "    if not isinstance(b, io.BytesIO):\n",
    "        b = io.BytesIO(b)\n",
    "\n",
    "    t = b.read(1)\n",
    "    if len(t) != 1:\n",
    "        return None\n",
    "\n",
    "    a = Address()\n",
    "    (a.typ,) = struct.unpack(\"!B\", t)\n",
    "\n",
    "    if a.typ == 1:\n",
    "        a.addr = b.read(4)\n",
    "        (a.port,) = struct.unpack(\"!H\", b.read(2))\n",
    "    elif a.typ == 2:\n",
    "        a.addr = b.read(16)\n",
    "        a.addr = '[' + format(ipaddress.IPv6Address(a.addr)) + ']'\n",
    "        (a.port,) = struct.unpack(\"!H\", b.read(2))\n",
    "    elif a.typ == 3:\n",
    "        a.addr = b.read(10)\n",
    "        a.addr = to_base_32(a.addr) + '.onion'\n",
    "        (a.port,) = struct.unpack(\"!H\", b.read(2))\n",
    "    elif a.typ == 4:\n",
    "        a.addr = b.read(35)\n",
    "        a.addr = to_base_32(a.addr) + '.onion'\n",
    "        (a.port,) = struct.unpack(\"!H\", b.read(2))\n",
    "    else:\n",
    "        a.addr = b.getvalue()[1:]\n",
    "        a.port = None\n",
    "    return a\n",
    "\n",
    "# https://github.com/alexbosworth/bolt07/blob/519c94a7837e687bf7478a74779d5ea493a76a44/addresses/encode_base32.js\n",
    "def to_base_32(addr):\n",
    "    alphabet = 'abcdefghijklmnopqrstuvwxyz234567'\n",
    "    byte = 8\n",
    "    lastIndex = 31\n",
    "    word = 5\n",
    "    bits = 0\n",
    "    base32 = ''\n",
    "    value = 0\n",
    "\n",
    "    for char in addr:\n",
    "        bits += byte\n",
    "        value = (value << byte) | char\n",
    "\n",
    "        while bits >= word:\n",
    "            base32 += alphabet[(value >> (bits - word)) & lastIndex]\n",
    "            bits -= word\n",
    "\n",
    "    if bits > 0:\n",
    "        base32 += alphabet[(value << (word - bits)) & lastIndex]\n",
    "    \n",
    "    return base32\n",
    "\n",
    "def parse_node_announcement(b):\n",
    "    if not isinstance(b, io.BytesIO):\n",
    "        b = io.BytesIO(b)\n",
    "\n",
    "    na = NodeAnnouncement()\n",
    "    na.signature = b.read(64)\n",
    "    (flen,) = struct.unpack(\"!H\", b.read(2))\n",
    "    na.features = b.read(flen)\n",
    "    (na.timestamp,) = struct.unpack(\"!I\", b.read(4))\n",
    "    na.node_id = b.read(33)\n",
    "    na.rgb_color = b.read(3)\n",
    "    na.alias = b.read(32)\n",
    "    (alen,) = struct.unpack(\"!H\", b.read(2))\n",
    "    abytes = io.BytesIO(b.read(alen))\n",
    "    na.addresses = []\n",
    "    while True:\n",
    "        addr = parse_address(abytes)\n",
    "        if addr is None:\n",
    "            break\n",
    "        else:\n",
    "            na.addresses.append(addr)\n",
    "\n",
    "    return na\n"
   ]
  },
  {
   "cell_type": "code",
   "execution_count": null,
   "id": "d07b777a",
   "metadata": {},
   "outputs": [],
   "source": [
    "class DatasetStream:\n",
    "    def __init__(self, file_stream, decode=True):\n",
    "        self.stream = file_stream\n",
    "        self.decode = decode\n",
    "\n",
    "        # Read header\n",
    "        header = self.stream.read(4)\n",
    "        assert len(header) == 4\n",
    "        assert header[:3] == b\"GSP\"\n",
    "        assert header[3] == 1\n",
    "\n",
    "    def __iter__(self):\n",
    "        return self\n",
    "\n",
    "    def __next__(self):\n",
    "        pos = self.stream.tell()\n",
    "        length = varint_decode(self.stream)\n",
    "\n",
    "        if length is None:\n",
    "            raise StopIteration()\n",
    "\n",
    "        msg = self.stream.read(length)\n",
    "        if len(msg) != length:\n",
    "            raise ValueError(\n",
    "                \"Error reading dataset at {pos}: incomplete read of {length} bytes, only got {mlen} bytes\".format(\n",
    "                    pos=pos, length=length, mlen=len(msg)\n",
    "                )\n",
    "            )\n",
    "        if not self.decode:\n",
    "            return msg\n",
    "\n",
    "        return parse(msg)\n",
    "\n",
    "\n",
    "\n",
    "class GossipStore:\n",
    "    \"\"\"A gossip_store file allowing streaming of messages.\n",
    "    \"\"\"\n",
    "\n",
    "    def __init__(self, path: Path):\n",
    "        self.path = path\n",
    "\n",
    "    "
   ]
  },
  {
   "cell_type": "code",
   "execution_count": 62,
   "id": "9168be8c",
   "metadata": {},
   "outputs": [
    {
     "name": "stdout",
     "output_type": "stream",
     "text": [
      "(66,)\n"
     ]
    }
   ],
   "source": [
    "with open('gossip-20201014.gsp.bz2', 'rb') as f:\n",
    "    print(struct.unpack(\"!B\", f.read(1)))"
   ]
  },
  {
   "cell_type": "code",
   "execution_count": 60,
   "id": "0ce9b762",
   "metadata": {},
   "outputs": [
    {
     "ename": "SyntaxError",
     "evalue": "invalid syntax (Temp/ipykernel_15700/2842176013.py, line 9)",
     "output_type": "error",
     "traceback": [
      "\u001b[1;36m  File \u001b[1;32m\"C:\\Users\\wyw25\\AppData\\Local\\Temp/ipykernel_15700/2842176013.py\"\u001b[1;36m, line \u001b[1;32m9\u001b[0m\n\u001b[1;33m    if version, > 3:\u001b[0m\n\u001b[1;37m              ^\u001b[0m\n\u001b[1;31mSyntaxError\u001b[0m\u001b[1;31m:\u001b[0m invalid syntax\n"
     ]
    }
   ],
   "source": [
    "        with open('gossip-20201014.gsp.bz2', 'rb') as f:\n",
    "            version, = struct.unpack(\"!B\", f.read(1))\n",
    "            while True:\n",
    "                hdr = f.read(8)\n",
    "                if len(hdr) < 8:\n",
    "                    break\n",
    "\n",
    "                length, crc = struct.unpack(\"!II\", hdr)\n",
    "                if version, > 3:\n",
    "                    f.read(4)  # Throw away the CRC\n",
    "\n",
    "                # deleted = (length & 0x80000000 != 0)\n",
    "                # important = (length & 0x40000000 != 0)\n",
    "                length = length & (~0x80000000) & (~0x40000000)\n",
    "                msg = f.read(length)\n",
    "                typ, = struct.unpack(\"!H\", msg[:2])\n",
    "                if version, <= 3 and typ in [4096, 4097, 4098]:\n",
    "                    msg = msg[4:]\n",
    "\n",
    "    \n"
   ]
  },
  {
   "cell_type": "code",
   "execution_count": null,
   "id": "9fad9989",
   "metadata": {},
   "outputs": [],
   "source": [
    "class DatasetFile(click.File):\n",
    "    def __init__(self, decode=True):\n",
    "        click.File.__init__(self)\n",
    "        self.decode = decode\n",
    "\n",
    "    def convert(self, value, param, ctx):\n",
    "        f = bz2.open(value, \"rb\") if value.endswith(\".bz2\") else open(value, \"rb\")\n",
    "        return DatasetStream(f, self.decode)\n"
   ]
  },
  {
   "cell_type": "code",
   "execution_count": 52,
   "id": "99403750",
   "metadata": {},
   "outputs": [
    {
     "name": "stdout",
     "output_type": "stream",
     "text": [
      "None\n"
     ]
    }
   ],
   "source": [
    "with bz2.open('gossip-20201014.gsp.bz2', 'rb') as f:\n",
    "    content = f.read()\n",
    "    print(varint_decode(f))\n"
   ]
  },
  {
   "cell_type": "code",
   "execution_count": 64,
   "id": "f05a8b35",
   "metadata": {},
   "outputs": [
    {
     "ename": "ValueError",
     "evalue": "No parser registered for type 18259",
     "output_type": "error",
     "traceback": [
      "\u001b[1;31m---------------------------------------------------------------------------\u001b[0m",
      "\u001b[1;31mValueError\u001b[0m                                Traceback (most recent call last)",
      "\u001b[1;32m~\\AppData\\Local\\Temp/ipykernel_15700/3938099800.py\u001b[0m in \u001b[0;36m<module>\u001b[1;34m\u001b[0m\n\u001b[1;32m----> 1\u001b[1;33m \u001b[0mparse\u001b[0m\u001b[1;33m(\u001b[0m\u001b[0mcontent\u001b[0m\u001b[1;33m[\u001b[0m\u001b[1;36m0\u001b[0m\u001b[1;33m:\u001b[0m\u001b[1;36m10\u001b[0m\u001b[1;33m]\u001b[0m\u001b[1;33m)\u001b[0m\u001b[1;33m\u001b[0m\u001b[1;33m\u001b[0m\u001b[0m\n\u001b[0m",
      "\u001b[1;32m~\\AppData\\Local\\Temp/ipykernel_15700/1045372747.py\u001b[0m in \u001b[0;36mparse\u001b[1;34m(b)\u001b[0m\n\u001b[0;32m    206\u001b[0m \u001b[1;33m\u001b[0m\u001b[0m\n\u001b[0;32m    207\u001b[0m     \u001b[1;32mif\u001b[0m \u001b[0mtyp\u001b[0m \u001b[1;32mnot\u001b[0m \u001b[1;32min\u001b[0m \u001b[0mparsers\u001b[0m\u001b[1;33m:\u001b[0m\u001b[1;33m\u001b[0m\u001b[1;33m\u001b[0m\u001b[0m\n\u001b[1;32m--> 208\u001b[1;33m         \u001b[1;32mraise\u001b[0m \u001b[0mValueError\u001b[0m\u001b[1;33m(\u001b[0m\u001b[1;34m\"No parser registered for type {typ}\"\u001b[0m\u001b[1;33m.\u001b[0m\u001b[0mformat\u001b[0m\u001b[1;33m(\u001b[0m\u001b[0mtyp\u001b[0m\u001b[1;33m=\u001b[0m\u001b[0mtyp\u001b[0m\u001b[1;33m)\u001b[0m\u001b[1;33m)\u001b[0m\u001b[1;33m\u001b[0m\u001b[1;33m\u001b[0m\u001b[0m\n\u001b[0m\u001b[0;32m    209\u001b[0m \u001b[1;33m\u001b[0m\u001b[0m\n\u001b[0;32m    210\u001b[0m     \u001b[1;32mreturn\u001b[0m \u001b[0mparsers\u001b[0m\u001b[1;33m[\u001b[0m\u001b[0mtyp\u001b[0m\u001b[1;33m]\u001b[0m\u001b[1;33m(\u001b[0m\u001b[0mb\u001b[0m\u001b[1;33m)\u001b[0m\u001b[1;33m\u001b[0m\u001b[1;33m\u001b[0m\u001b[0m\n",
      "\u001b[1;31mValueError\u001b[0m: No parser registered for type 18259"
     ]
    }
   ],
   "source": [
    "parse(content[0:10])"
   ]
  },
  {
   "cell_type": "code",
   "execution_count": 66,
   "id": "73ef4388",
   "metadata": {},
   "outputs": [
    {
     "data": {
      "text/plain": [
       "'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'"
      ]
     },
     "execution_count": 66,
     "metadata": {},
     "output_type": "execute_result"
    }
   ],
   "source": [
    "hexlify(content[0:1000]).decode(\"ASCII\")"
   ]
  },
  {
   "cell_type": "code",
   "execution_count": 73,
   "id": "1d429632",
   "metadata": {},
   "outputs": [
    {
     "data": {
      "text/plain": [
       "b'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'"
      ]
     },
     "execution_count": 73,
     "metadata": {},
     "output_type": "execute_result"
    }
   ],
   "source": [
    "hexlify(content[0:1000])"
   ]
  },
  {
   "cell_type": "code",
   "execution_count": 68,
   "id": "a7470325",
   "metadata": {},
   "outputs": [
    {
     "ename": "Error",
     "evalue": "Non-hexadecimal digit found",
     "output_type": "error",
     "traceback": [
      "\u001b[1;31m---------------------------------------------------------------------------\u001b[0m",
      "\u001b[1;31mError\u001b[0m                                     Traceback (most recent call last)",
      "\u001b[1;32m~\\AppData\\Local\\Temp/ipykernel_15700/1995325442.py\u001b[0m in \u001b[0;36m<module>\u001b[1;34m\u001b[0m\n\u001b[0;32m      1\u001b[0m \u001b[1;32mfrom\u001b[0m \u001b[0mbinascii\u001b[0m \u001b[1;32mimport\u001b[0m \u001b[0munhexlify\u001b[0m\u001b[1;33m\u001b[0m\u001b[1;33m\u001b[0m\u001b[0m\n\u001b[1;32m----> 2\u001b[1;33m \u001b[0munhexlify\u001b[0m\u001b[1;33m(\u001b[0m\u001b[0mcontent\u001b[0m\u001b[1;33m[\u001b[0m\u001b[1;36m0\u001b[0m\u001b[1;33m:\u001b[0m\u001b[1;36m1000\u001b[0m\u001b[1;33m]\u001b[0m\u001b[1;33m)\u001b[0m\u001b[1;33m\u001b[0m\u001b[1;33m\u001b[0m\u001b[0m\n\u001b[0m",
      "\u001b[1;31mError\u001b[0m: Non-hexadecimal digit found"
     ]
    }
   ],
   "source": [
    "from binascii import unhexlify\n",
    "unhexlify(content[0:1000])"
   ]
  },
  {
   "cell_type": "code",
   "execution_count": 35,
   "id": "e79c0867",
   "metadata": {},
   "outputs": [
    {
     "data": {
      "text/plain": [
       "b'GSP\\x01\\xfd\\x01\\xb0\\x01\\x00\\x88\\x96\\xbd\\xc5\\xa1=y\\xd4\\xfc5\\x91t\\xae\\'\\x0c8\\xd9/w\\xd8\\x06\\xd4y\\x88\\x19\\xe5\\x9bb\\x85{\\xfb\\x00t\\x9c{\\xa9\\x8f\\xe5e\\xa0\\xd8\\xd2\\x7f\\x83\\xba\\xc4\"\\x19\\x16\\xfb\\x9cq\\xd70\\xa3,\\x9a\\n\\xb9h\\x87o\\xba\\xda&\\x18\\x90\\x12tr\\xff\\xb2}\\x82I\\xa3\\x06\\x9b\\xef\\xa4}\\xca\\xf6\\xe5\\xa4$J\\xb5>sE\\xdd\\x98\\xbe@c?\\\\4zY\\xd4\\xb8\\xd0\\xf3\\xc2\\x87F@> \\xb6.5C[\\xdeD\\xbf\\xf4\\xc4\\x00Zr?\\xfa\\x10\\x91t1\\x81\\xf8\\xeb6\\xe4b/\\x08\\x06\\x8a\\xae\\x12\\xf2s\\xa4\\x83u?\\x08\\xc9b\\xf4eJT\\xd5\\xfeH\\xb8\\xacg;\\xc1\\xa05{_\\x08\\xb3A\\xda\\x12n\\xe7h\\xf7\\xcf4d\\xf8\\xd8\\x19\\xc9\\xb1D\\x9f\\xee\\xfd\\xadm\\x12\\xd1\\x7f\\xb6\\x08\\xbd\\xfdA\\x08\\xf8\\xd6\\x00\\x88\\x12\\x02\\x97\\x0c\\xda\\xf0[\\xdf[ a\\xe6Q\\x91\\x16u)\\xa2\\x89/\\xff(\\xf8\\xab\\xf2\\x97e\\xa0\\xffQ\\xf2\\\\\\x9ex\\'\\x9a\\x90\\xa0\\xbd\\xcb\\xb7\\x1e\\x00qJ\\x12bKp\\xd6\\xdf\\xccW\\x00\\x00o\\xe2\\x8c\\n\\xb6\\xf1\\xb3r\\xc1\\xa6\\xa2F\\xaec\\xf7O\\x93\\x1e\\x83e\\xe1Z\\x08\\x9ch\\xd6\\x19\\x00\\x00\\x00\\x00\\x00\\t\\xb7=\\x00\\t\\xa5\\x00\\x00\\x03\\x86N\\xf0%\\xfd\\xe8\\xfbX}\\x98\\x91\\x86\\xcejJ\\x18h\\x95\\xeeD\\xa9&\\xbf\\xc3p\\xe2\\xc3fYz?\\x8f\\x03\\xb3\\x1e[\\xbf,\\xdb\\xe1\\x15\\xb4\\x85\\xa2\\xb4\\x80\\xe7\\n\\x1e\\xf3\\x95\\x1a\\r\\xc6\\xdfK\\x122\\xe0\\xe5o=\\xce\\x18\\xd6\\x03\\x9d\\xe0K\\xa5\\xd3^\\xb2\\xda\\xa4&\\xfd8k\\xef\\xd6\\x81j\\xa5\\xb1$a\\xf0Y\\xa2\\xeai\\x00\\x94rB:\\xe2\\x02N!y\\xa7\\xe8\\x17X\\xdf5\\xe0=\\xbc\\xc3\\x8e^\\xca\\xc5rR\\xb9t\\x05\\xa9ne5J\\x0e`!\\xe8d\\xfd\\x01\\xb0\\x01\\x00d\\x109\\x06\\x1f\\xd0\\x13+g\\x13\\xabf4\\xd2\\xc2\\xbfB\\'\\xfe\\xea\\x07\\xecM\\xd9Kh\\x85\\xb1g\\xa2\\xe9e\\x10\\xfc\\xe2\\x05\\x9e^\\xc9\\xb2\\x8b\\'\\x10\\x05v\\xe2\\xf8\\x19Y\\xafk\\xbaF\\n \\x9d\\x99/\\xcf\\\\\\xc6\\x9f\\x99?\\xff\\xfd?\\x0e\\xc9Qk.-\\x17\\x03g\\x0bP\\x9c\\xbc\\x89C\\x18\\x16[\\xc5\\xed\\x14p\\x0b@\\xcdy\\xd0\\xe0\\xb34!\\xc5zAQ8\\xcesV\\xdeZ\\xa5N\\x95\\xf0\\xfb\\\\\\xb74\\x11\\x0c\\xfaw\\xc3=\\xff\\r\\xe5WQ<C\\xe1\\xfd:i\\n7bR\\x02\\xb1\\xb9\\x99\\xe57\\x0b\\xb0N?W\\xcc\\x9f4-@w\\x88\\xd8\\x01\\xf8\\x82\\xcb\\x19\\xb5w@`k\\xef\\x97\\xb8UzQ\\xdc\\x98\\x1cDd-\\x0e~)\\xa5\\xe8\\xc2\\x82=\\xf82\\xea\\xcc\\xcf\\xf3(F3\\xdf\\xe2\\x90\\xd8\\x9ah3>>\\x89Am\\x02\\xd0\\xa8~0\\x8373\\xb0\\xdeQ\\x83a\\x95\\x9d\\xc8\\xef}\\xddA\\x94\\x04\\x8dS=\\xc4\\xef9\\x88\\x8b\\xb8\\xd8\\xd6@\\xf6\\x11\\t\\x17O2+\\xe3\\xd2\\xc4\\xc1\\xfeQ\\x0c\\xf4\\x00\\x00o\\xe2\\x8c\\n\\xb6\\xf1\\xb3r\\xc1\\xa6\\xa2F\\xaec\\xf7O\\x93\\x1e\\x83e\\xe1Z\\x08\\x9ch\\xd6\\x19\\x00\\x00\\x00\\x00\\x00\\x08y \\x00\\x07a\\x00\\x00\\x024\\xd7\\x0c\\xf6ZN\\x89t\\xd3\\xd4\\x9e#\\xec{\\x97\\x92\\x87\\x7fx?/]\\xfd8\\x82B*\\xad\\xa1\\x8a\\x91l\\x03\\x90\\xb5\\xd4I-\\xc2\\xf51\\x8eR3\\xab,\\xeb\\xf6\\xd4\\x89\\x14\\x88\\x1a3\\xefj\\x9ck\\xcd\\xbbC:\\xd9\\x86\\xd0\\x03\"\\x85\\xd4\\x91\\xb9\\xff\\x82\"\\x8c\\xa04o\\xc9;\\xf7\\xd2\\xee\\x9aqk\\xb3w\\xc6\\x08E\\xb6\\xc7\\x89r\\xa3\\xda\\x9a\\x03\\x00\\x96^\\x16\\x04z:\\x94G\\xb3\\x17\\xacI\\xea\\xb7\\xc0@\\x9a\\x841?a$C\\xba\\xf3o3\\x1a\\xad\\x96\\x93\\xfd\\x01\\xb0\\x01\\x00x\\xdd\\n)\\xdcW\\x8a_\\xde\\x99\\x1b@\\xfb\\xack_\\xcfx\\xfc6\\x88\"\\nP \\xfd\\x89\\xd2N\\xcb\\xb4aG\\x90\\x16\\x1cA\\xd4\\xe7\\xdck>9w\\x8d\\xa0b\\xce\\x92\\xcd\\xe8K?F\\xfc\\xf9\\x0eD\\xa8\\x11\\xec{\\x1f\\x11~eNy\\xcd\\xa6\\xf7\\x8es\\xb7\\xacW\\x92\\x89\\xa8G\\x08\\xeb\\xb0\\x97\\xac\\xdf\\xbbPW\\x7f\\xe1\\x00w\\x89\\xff\\xc0\\x05a\\xa9Q\\xd3\\xef\\xfax>c\\x1c\\rH3\\t\\xd3\\x85q\\xe0d\\xeehv\\xcf\\xbc\\x03t\\xd2\\xb8\\xcc\\xcb7\\xf8\\x04\\n\\xd3|.\\x19bZO\\xb4\\xc0\\xc5\\xfa\\x08\\x8aU\\xaaFs\\x8a\\x05\\x1a\\x8f\\xb7\\x00\\x95\\xd8\\x1f\\xbc\\xf3OZ\\n\\xfc\\xd2\\x02\\xaat>m\\xfd^Ra\\x80\\xb8\\x1d\\x9fX\\xbc.\\xf9\\x83\\xa3\\xceKg\\xcf\\xa8!\\x1a\\x16\\xdcL\\xc0\\xec\\xb0%< \\x0fb\\xbeO\\x9e\\xc1_\\xc8\\x01\\xd7j$l`\\xef\\xda\\xa0\\xfdeX\\xd0\\x9b\\t,\\x1f;\\x99\\xeb\\xc8T\\xd1\\x89\\x8a\\xaf\\x8en\\x05\\x01{q\\x8dhgZB\\x95R\\x8c!\\x81\\xae\\xd1\\x1e?\\xe2\\x9e5\\x00\\x00o\\xe2\\x8c\\n\\xb6\\xf1\\xb3r\\xc1\\xa6\\xa2F\\xaec\\xf7O\\x93\\x1e\\x83e\\xe1Z\\x08\\x9ch\\xd6\\x19\\x00\\x00\\x00\\x00\\x00\\x08\\xa32\\x00\\x07Z\\x00\\x00\\x02\\'U\\xc3\\xffNZ\\x1dq\\xf5s\\xcd\\xa4\\xb3\\x15\\x88\\x7f\\xc0\\n\\x9e\\\\\\x9e\\xa9\\xa8G\\xd99\\xf3\\xe5\\x17\\xe6\\x9ap\\x03\\x90\\xb5\\xd4I-\\xc2\\xf51\\x8eR3\\xab,\\xeb\\xf6\\xd4\\x89\\x14\\x88\\x1a3\\xefj\\x9ck\\xcd\\xbbC:\\xd9\\x86\\xd0\\x03\\x91\\x8c*\"h\\x955\\xc5b\\x99\\x17\\xf1\\xe652\\xf6\\x0egg\\xb6\\xfa\\xce\\x1f\\xe1\\xd0FL\\x94\\x86\\x07\\xdfo\\x03\\xf9}\\xf2>2\\x1dG\\xfc\\x82\\xac\\x80\\x8b\\x18z\\t\\xc7\\\\uwx2\\xd0\\x97FE9\\xee\\xec\\xbe\\xc5\\x02\\xf5\\xfd\\x01\\xb0\\x01\\x00\\x1f3b{d\\xf3\\x19\\xae\\xd1\\xaa\\x1b$f\"\\x82?\\x88\\xb44\\xa2w6Fv\\xf5\\x93n\\xe8\\x8a\\xdas\\xb0-|PQPI\\xe4\\x1c\\xf9\\xd0\\xc5\\x85\\x10\\x02S\\xea\\xfc\\xb6\\xfa(r 7g\\x9f\\x9b\\xae\\x9c\\xf0\\xf5\\xffG\\xea\\xf52\\xd5\\xbd\\x94\\x8a\\x9d\\x14\\xd4\\x8c\\xb8\\x1c\\xd0\\xadi\\xea&\\xb7\\xa5\\xd7\\x97;\\xc6\\xcc`\\x0b\\x9a\\xb0\\xdcM\\x16efr>\\xd5~%\\xf9\\xdfs\\x1c\\xd3\\x19dl\\x19L\\xf7\\xc8\\x87C\\x87|M\\xe5y|\\xc5\\xa4C:\\r\\xc6\\x17^i\\xb0\\xdc\\x97\\xb0\\x07\\x89}!\\x8b\\x84.^\\xf5,o\\xaa\\xb5\\x9a\\xb7*y\\xb6\\xb8\\x92\\xf2\\xf5B:x\\xed\\xc4\\xfa0\\xbbA\\xa3\\xff\\xd3,d\\xecg\\xcc\\x1c\\xd8\"\\xd0\\x1f\\xa8M\\x188g61\\x03\\x90\\xe2\\xb3\\xba\\x03ex\\xdc\\xe6\\x95\\xad\\xcb\\xdbp\\xbb\\x0b\\x9fH\\xad\\x81+\\xbf\\xef\\xcb};G\\x90\\x13&\\x037\\x8f\\xf2:\\x12V>\\xa8)?\\xedx\\x1d\\x1f\\x8e\\xb9\\x08P\\x15%\\x8e\\x0e\\xa66\\n3?l)\\x05;\\xce\\xac\\x9b\\xcd\\x9d\\xff\\x00\\x00o\\xe2\\x8c\\n\\xb6\\xf1\\xb3r\\xc1\\xa6\\xa2F\\xaec\\xf7O\\x93\\x1e\\x83e\\xe1Z\\x08\\x9ch\\xd6\\x19\\x00\\x00\\x00\\x00\\x00\\x08\\xb4\\x05\\x00\\x04\\xd7\\x00\\x00\\x03w\\x19\\xb7\\xaeM\\xe5\\xe3\\xd7\\x11%[\\xd2u\\x85G\\x1c\\x81\\x01\\x97\\x7f]\\x08g\\xc63\\xdfM\\x087\\xe8\\xb6\\x0c\\x03\\x90\\xb5\\xd4I-\\xc2\\xf51\\x8eR3\\xab,\\xeb\\xf6\\xd4\\x89\\x14\\x88\\x1a3\\xefj\\x9ck\\xcd\\xbbC:\\xd9\\x86\\xd0\\x02\\x1d\\x96\\xb1\\xb3G\\x82~\\xe7u\\x8c\\r\\x9a\\x89\\x1b\\x99+2\\xfd\\x1f\\xa0\\xd1\\xcf_\\x05\\xb1{p}\\x19\\xef^\\xf9\\x03\\xe2a\\x80\\x0b\\xab\\x9e\\x90#\\x85\\xa4\\x90{F\\x84}\\x01\\xa2\\xb6\\xd6\\xbex\\xe19\\xb3\\xd2\\xe5z7\\x8f\\x85lv\\xfd\\x01\\xb0\\x01\\x00Of\\xf30\\xa0uz\\xb2T\\x8a\\x04Pp}dK<\\x90(\\xdb\\xc4\\xa0<\\xb5\\xca\\x00C\\xaf\\xd2t\\xb5\\x95jh6\\xea\\xe2|\\x8c\\x82\\xc1\\xf8\\xac\\xf3\\xbc\\xbc\\xf7\\x88\\xc5\\xd0[\\xdc\\r\\x1f\\xa1\\xff;/#g+^\\xba\\x0c4\\xbf\\xe53 \\x89WRa\\xf10^\\x11\\x91\\xc7c\\x17\\x17\\xc8\\x94\\'u\\xca\\xa9H\\xc8\\x12U\\x14\\xa1\\x7f\\x1a8\\xbd\\xf8\\xcd\\xa4E\\xdb\\x186\\xa7\\x813\\xcfa\\xe7\\xb4\\xca\\x88\\x02\\x94\\x12\\xd7\\xb3Q\\xbf\\xa6\\x85<\\x80\\xe3\\x155\\x81l\\xee\\x10\\\\\\x90%eM\"\\xbb\\xdd\\x03j\\xbc\\x1bg\\xa8\\xdb\\x99?\\x1bu\\x87M\\xb2\\xa9D\\x1b\\xe5y\\x96s\\x1cW\\xe0\\xda+\\x9c\\x1c\\x010\\xe2\\x82\\x9er\\',\\xcctIA\\xc7mK\\x94E\\xab\\x1c\\x0c.\\xf9\\xe2\\xf5\\xe8\\xbd2r\\xc5\\xb8\\xb6\\x83\\x9c\\xdc\\xafM\\xce\\x95T\\xa7\\xe2\\xc4`\\xe41\\xcc\\xa1\\xb3\\xe6\\x87\\x81e\\x86\\xfb4\\xbbw\\x12\\x8a\\xe2\\xfa\\x1a2\\xa1(\\xf3\\x9f\\xb8\\x82;\\x02\\xfe\\xb77\\xc1\\x8c\\xbe7!\\xa8\\x95\\xf8\\xdc\\t\\x1f\\xae;\\xcf\\x00\\x00o\\xe2\\x8c\\n\\xb6\\xf1\\xb3r\\xc1\\xa6\\xa2F\\xaec\\xf7O\\x93\\x1e\\x83e\\xe1Z\\x08\\x9ch\\xd6\\x19\\x00\\x00\\x00\\x00\\x00\\x08\\xf8\\x99\\x00\\x04`\\x00\\x00\\x03n\\x15\\x7f\\xf9\\x11\\x8c\\xa02H\\x0fO\\x87>\\xceJ\\xd9\\xc5\\xd0\\xab\\xa2\\x07\\x9a2\\x15\\x80\\x9b\\x13zn$6\\x8a\\x03\\x90\\xb5\\xd4I-\\xc2\\xf51\\x8eR3\\xab,\\xeb\\xf6\\xd4\\x89\\x14\\x88\\x1a3\\xefj\\x9ck\\xcd\\xbbC:\\xd9\\x86\\xd0\\x02\\xa8\\x89m\\xe9A\\xd3\\xd0\\xb9\\x99\\x1e\\xeb\\xfdQ\\xa0\\xb1\\xbc\\x8e\\x90\\xc0`\\xa8\\xe8\\x03\\xe43\\xde\\x84H\\xfb\\x86\\xb8E\\x02\\xbf\\x96\\xb77J_\\x0c\\t\\xd4\\xdd,h\\xc5\\xb1I\\x08W\\xcfx\\xab\\xfa\\x84\\xb6\\xbd.E\\xcd\\x8f=1q\\xc4\\xfd\\x01\\xb0\\x01\\x00ff\\x8a\\xa6\\xab\\xe2\\x92\\x92\\xf1\\x9c\\x1f\\xe3P\\xc4\\x05\\x1a\\xc3\\xa1\\x9a\\xb7iwuyF%\\x0e\\x10\\x1c\\xce4\\t\"\\xd8\\xfd8\\x90\\x83G4qn$\\xf3p\\x1d\\x91\\x01\\x8d\\xfe\\xabx\\x1d&\\x1a\\x80\\xe8)|.\\x98cX[\\xefGY\\x83/\\x02\\x9f\\xa2\\x1e\\x11\\xa9\\x15\\xf7s\\x9a\\xb0\\xfe*i\\xed\\x01\\x0c\\x13\\x02\\xc6\\x8a\\xa9\\xd9\\xfc\\':{h\\xff\\xf2\\xe7\"\\xd6\\xc8\\xc1\\xe2\\x9ce\\x1a\\xa11\\x1ea\\x8e\\xf9\\xcc\\x9f\\xd6\\xaa\\xac\\xb1c4\\xd9\\xc6eTN\\xbc\\x89\\xd0\\x04\\xebA\\xd1\\x10)\\xb4\\xab\\xf4\\x8e\\xea\\xc4A!\\xeaU\\xee\\x00\\xf0>\\x1f(\\x05N\\xed\\x9b\\x892\\x04]@\\xc7*\\x7f\\x05\\n\\xd3\\xa5\\x92\\x8fNj\\xc6\\x0e\\xd8\\xb3Q\\x1c!/\\xe9[\\x01\\xf5kcb\\tV\\xc8[\\xcb\\x876\\xd5\\xf8V\\xba\\xc0?_%Y\\xd0\\xe2\\xba03\\xbaqr\\x17\\x9c\\x08\\xa9\\xcb#\\x05T\\xd6c\\x86\\xaf\\x04(\\xddy|\\x19\\x11Y!(26\\x91{\\xfbT\\xc34y~\\xac\\x80\\x00\\xc7\\xdfN1-J\\xac\\xec\\x87\\x81\\x00\\x00o\\xe2\\x8c\\n\\xb6\\xf1\\xb3r\\xc1\\xa6\\xa2F\\xaec\\xf7O\\x93\\x1e\\x83e\\xe1Z\\x08\\x9ch\\xd6\\x19\\x00\\x00\\x00\\x00\\x00\\t\\xc3\\x1f\\x00\\x08\\xb3\\x00\\x01\\x02\\xf0\\xdb\\xc0\\xf8\\xc3\\xe4~o\\xf2$\\xefZ\\x86\\xf15\\x13KA\\xc7\\xac\\x98\\xd9\\xe0Sk\\xe8\\x0e0\\xc1\\xcf\\xc1\\xa8\\x03\\x90\\xb5\\xd4I-\\xc2\\xf51\\x8eR3\\xab,\\xeb\\xf6\\xd4\\x89\\x14\\x88\\x1a3\\xefj\\x9ck\\xcd\\xbbC:\\xd9\\x86\\xd0\\x03\\x92\\x1b\\x84>\\x91\\x00\\x8c\\x87\\x81\\x9aW\\xc0xR\\x06tf\\xb0\\x1a\\xad\\x10\\x0b\\xfa\\x92\\x8f\\xa6\\x83\\x8d\\x9b3\\xdfi\\x02\\xeaW\\x1c)2#\\x9bR\\xffoJB)\\xb3n\\x9a\\x89\\xf0@AFd\\xb0\\x05\\x1d`\\xea-\\x936\\xa8\\x05\\xfd\\x01\\xb0\\x01\\x00\\xf0\\xde-a\\xe2\\xf0\\x85\\xc5v\\t \\x9d\\xc3>\\xf0\\xd1D\\x88\\xf0\\x9ba\\xda\\x8dp\\x98\\xa8\\x87k\\x1c\\x1cw\\x9eY- \\xce\\x8fvL\\x96\\x04\\xabT\\x92=\\x8b\\xfe\\xc7Up\\x8bJ\\x8c\\xf7\\x9b\\xe4\\x037\\x05u\\x07\\xa3 \\xc4\\x14\\x1eC\\xd1%\\xd0\\xebU\\x97T\\xa3\\xff\\xb5\\x8ba[\\xa3\\x94\\xcb\\ri\\x93\\xba[\\xe1\\xa6\\xbd\\x1b)<\\xab\\xaf I\\xd1C|\\n\\xc1\\xb2o\\x83G\\x86\\x8e\\xbf\\x93\\x82\\xebNl\\xdf\\x9c\\xa1\\x8d\\xdd\\xcbV\\xf7\\xf3U4Z\\xe1\\xf1n\\x94$[@\\xfc\\x9aAMY\\x1c[\\xaf.b\\xcd\\xbc\\x89AC\\x13Q\\x84~\\x15P\\xc7V\\x81\\xf1\\x1a\\x15\\xdc\\x04_A\\xb1MO\\t\\xdf,\\x83\\x03{R\\xaf\\x10\\xe7\\xc9\\x80\\xd7\\xc8\\x88\\xde4\\xbaJ\\x8a~\\xd4\\xf38\\xc4\\x8drRs\\xfa\\x0b\\x18\\xa9/\\xcd\\x0b\\xee|\\x02\\xac\\xa1\\x8d\\xfc$\\x9b}\\xa4\\xe0\\xa9\\x1d\\xdb\\x8d\\x1fLQ\\xe9W\\x99D\\x0c\\x0cc\\xae\\xc6\\x1e\\xde\\xddQ\\xa0\\x1f~c\\xc3\\xd5vP\\x88X\\x91\\xd4o\\xa1\\'\\x9b\\xfdp\\x17\\x86\\x00\\x00o\\xe2\\x8c\\n\\xb6\\xf1\\xb3r\\xc1\\xa6\\xa2F\\xaec\\xf7O\\x93\\x1e\\x83e\\xe1Z\\x08\\x9ch\\xd6\\x19\\x00\\x00\\x00\\x00\\x00\\t\\xa7Z\\x00\\x02\\xda\\x00\\x01\\x03\\tKc\\xa5\\xec\\xe2\\xc3c\\xab\\x85\\x99R\\x01\\x7f\\x95\\xbe\\xc7\\xbd\\x9eiu\\xf0\\xc8\\x15/\\x9e\\xff\\x83\\xd0\\xb0E\\xc2\\x03,\\xc4T\\x1b%\\xe8n9\\xa7\\xd4P\\xa9y\\xc1\\xa9\\xad\\xbe(x\\xdf:\\x93\\xfc\\xb5\\x9c\\x96\\xc7\\x00\\xbf\\xe2j\\xa3\\x02%\\xa0\\xfcS(\\xc9YD\\xa9A\\xccL\\x8e\\xab\\xb5\\xc1MPf\\xe6T\\xe4\\xe4\\\\\\x9f)~\\xa1Z,\\xfd\\xbc\\x03\\x011\\xd9\\xd2kY(Q\\x05H\\x90_\\x95\\x7fC\\'\\xe4\\x01\\x0eV\\xd4\\x80)\\xf5\\x01h\\xbd\\x83n\\x8d\\xd3\\xce\\xfd\\x01\\xb0\\x01\\x00\\x00\\x86Q\\x1c\\xf6l\\x9a\\x9a\\x0f\\x13@\\x81>\\x1b\\xca\\x1bl\\xa6\\x01\\xc9\\xe8\\x10\\xd84\\xf2?i7\\xc4\\xed\\xbe\\xc20\\xc5\\xa8\\xe2sM(\\x1d\\xd2J\\xf7B\\xc5|p\\xc4\\x97>}?\\xc5:\\'&\\xdd\\xb5\\x00\\xcf\\xc6\\xae\\xdf\\x93\\xcf\\xe0\\x91\\xcf\\xbf\\xa4\\xb4\\xe1\\xec8\\xaf\\xc0\\xaa\\'\\xd3c\\xab\\xc7\\xd8,\\x9czF\\x11\\x10\\xd5\\x1eO\\xb4l\\xa3\\xc9\\td\\xbe\\xd8\\x94\\x8d[I\\xc1\\x06B<\\x12\\xce;4$\\xa8D\\xe7\\x08\\xf5B;1\\xb0!\\xad\\xc8\\xba\\xc7D\\x88\\xc6G\\xdb\\\\A\\xfc7s\\x11V\\x15\\xa3\\xcc\\xec\\xc3w\\x10\\xe5Ve\\xb2B3\\x8a\\xce\\xc8\\xf8y\\xd5\\xf7|M(\\x05\\xa2\\xf5wJ\\x9c\\xe7\\xb0\\xbch\\xf3\\xcd\\x9e\\x06\\t\\xffj=\\x1c4\\xc8\\x93\\x85\\x04\\xe7\\x87\\nM7\\x00\\x93#\\x1e\\xdf\\x93\\xf7-\\x9aRZ\\x9e\\xe0?\\xa2\\xbf\\x0c$\\x06\\x01\\xe6\\x1a\\x1e\\x9aO\\xe2`M\\x19\\x1c\\xbc\\x89\\xe1d\\xbd>Nl_\\x0c-\\xd2\\x93\\xf9\\xd1rh\\x92\\n\\xaa\\xc8[\\x88;\\xc1\\x92R(\\xc4S\\x15\\x9b\\xd9\\xce\\xd1\\x00\\x00o\\xe2\\x8c\\n\\xb6\\xf1\\xb3r\\xc1\\xa6\\xa2F\\xaec\\xf7O\\x93\\x1e\\x83e\\xe1Z\\x08\\x9ch\\xd6\\x19\\x00\\x00\\x00\\x00\\x00\\t\\xa6\\x1d\\x00\\x04C\\x00\\x00\\x03\\xbftA\\x84$3\\xa3\\x04\\xa1\\x02z\\xbf\\xb7_9\\x9c\\xfc\\xf6/u3\\x9f\\x15\\xb6\\xc2|$\\xd6\\x91\\x00\\xeeP\\x03\\xdbIZ{\\xad` F\\x1fN\\xca!\\xa8\\x15\\xfd\\x93\\xdf\\xac\\x8dw\\xa3\\xfcd\\x1d7Ya\\xc3@\\x03\\xcf\\x86\\x03\\xbe\\\\/qy\\xb8\\xac`\\x1d\\xed\\x82[JT\\xc8\\xa2\\xe9\\xea\\xd5?\\x0b\\x8e_[\\x0f\\xec\\xda\\x89$\\xa8\\x931\\x02\\x12+{\\x17\\xab\\xadj\\xc5\\x1b*\\x8e1\\xb8*dx\\x8dUx\\x0bzmg\\x04\\x0f\\x04@\\\\\\x9c`\\x9b8\\xfd\\x01\\xb0\\x01\\x00UZc\\x80`\\xf1\\x8dw\\x1e\\xbc\"|\\xa5\\x0e\\xe7\\x02\\x03\\x12\\xba\\x13q\\xbb\\x8c\\xc2\\x06\\xff\\xb8\\x86\\xbb\\x99\\x9a\\x1a\\x1a\\xcc\\xeaw-\\x92j\\xebq\\xdd\\xf0\\x87\\xfeEU\\xb9\\x9ccE \\x9e5\\xd1\\\\\\x11M\\xc0\\xf8?\\xef\\xc4i\\xdb\\xd6\\xdd\\xdb93?\\xa2\\x13n3\\x81\\x80D\\xad\\x95\\xa0\\xd1\\x98.\\x80q\\x1c\\xfd\\x86\\xdc\\x88\\x01N\\xb8\\xa4\\xba:a\\x9cR\\xdc\\x9a|\\x14\\x94\\xc3\\xe9\\xad5\\xdc\\xbf\\x92\\xbaC\\xe1\\xa5\\xaf0\\xeb5]\\xcf\\xbb|\\x15\\xc1\\xf6\\xf2\\xaa\\x91\\xd1\\x05\\xbd\\xbe.\\x8c\\x8f\\xa7\\xb8 e\\xea2\\xc3dj\\xb8\\xf4T\\x0f\\x8d\\xcb_\\x8e\\x14$.*\\x0c\\x83*G\\xdbmU\\xb0\\xec?\\x14\\t\\xe8\\xc4\\xcb\\xb5rsEuG0\\xb1\\x16\\xae\\xed\\xfe5\\xc5\\x95\\xfePj23\\x91\\xc0\\xae\\xb3\\x15\\xe9,\\x0e\\xd2=\\xd5\\xbeN\\xe7&\\x97\\xe8\\xb45o\\xc1{ \\x0c{`\\x19J\\xfd-P=\\xd9\\x15\\xd6\\x8f\\x13\\n}\\xe8\\x8cP\\xf5\\xca<f-\\xe6\\xf2\\xe4\\xc6\\xf5]\\x1fD\\xd6\\x02U\\x90?\\xc4\\xa9Z\\x00\\x00o\\xe2\\x8c\\n\\xb6\\xf1\\xb3r\\xc1\\xa6\\xa2F\\xaec\\xf7O\\x93\\x1e\\x83e\\xe1Z\\x08\\x9ch\\xd6\\x19\\x00\\x00\\x00\\x00\\x00\\t\\xc3\\xeb\\x00\\x02\\x90\\x00\\x01\\x02\\x18\\xcd\\xcd\\x90\\xe6\\xdc\\xc9\\x04\\xd8\\xe9\\xa0\\xf9\\x1aI\\xc3r\\x12\\x06\\xb7\\xdeN\\xfb.l|\\x03\\xf7^x\\xc9\\xe3\\xb6\\x03\\x0b\\xde>\\xe2&\\xb7\\xcfEg\\x03\\x81\\x19v\\xe4$\\x1a\\x92\\x9d\\x11\\xe5\\xfc\\x05I\\xe9\\xa1\\xc6\\xd1\\n\\x8e#\\xa78\\x02\\x03\\x86\\xa5\\x1bl\\xdaI\\xd2\\x1eG\\x97\\xd7\\x93?\\x7f\\x18\\x0c\\xfa\\xe2h:B\\x8b\\xeb]#\\xdd\\xdfE\\n\\x1fG\\x03\\xbb\\xb4\\x1f\\x14o\\rz\\x8e\\xf4\\xeao\\x80\\xf0\\xb7\\xd3-;\\xe2\\xb52B\\x81\\xf8=\\x0c\\x96\\x05\\x7fU\\x9b\\x03\\xd1\\xfd\\x01\\xb0\\x01\\x00\"$\\xa1\\xbb.\\x8e3;`\\xb3\\xde`3\\xb1 \\x83N\\x11\\xf1\\xc8\\xbb\\xb5g\\x1eQ6\\x0e\\x97eI\\xf0\\x8f#:\\xe1\\xe3\\xc5)q*^\\x8d\\xab\\xd4\\xb8\\x0c\\xd9\\x92\\xf5-\\xf0\\x8c\\xf8j\\xa3\\xbd\\xd5-\\x90\\xa7\\xda\\xc3\\x03JvO\\x84J\\x1f@\\x0fv\\xdf\\x87\\x0e[\\x94\\xd0T\\x97U\\x12k6\\x8a\\xbd\\xd4t_o\\xe2\\xccF\\xa9\\x12\\x1a\\x1ex\\t\\x14n\\xbe\\x8f\\x07\\xe8\\xe4\\xe1\\r\\xa8\\x82\\xcf1\\x02}\\x91(\\x0e8I\\xadW\\xe5\\xa3{\\xb0d\\x9f\\xa1\\x02|\\xffmu\\xa1\\x1aH7\\xca\\x90w\\x8dA?}\\xce\\xcc\\xcb\\xf0G!\\x9e \\x02\\x9f9\\xddC\\xc3e\\x97a\\xe5?\\xd4\\x14\\x1a\\x04R\\xa8\\xb8cbZ\\xfa`J\\x1dH\\xd2\\xb9y\\xecf\\x8d\\xc9(\\xf8\\x83?\\xc6\\xdew\\xcc\\x98\\xca3\\x8b\\x00\\xf1\\xe4u\\xc5\\xfcU\\xbc\\xcf\\x9d\\x00\\xda\\xddL\\xaay\\x1epN\\x17\\xe0\\xbb6\\x94\\x82\\x9e/y\\x9d\\x99ML\\xdb\\x8eW\\x1d\\xfb\\xc7_\\x16\\xee\\xc2\\n\\x80\\xb4\\x15\\x9a\\x0c{ga\\xdb.`g\\xdb\\x82\\x1e\\xca\\x00\\x00o\\xe2\\x8c\\n\\xb6\\xf1\\xb3r\\xc1\\xa6\\xa2F\\xaec\\xf7O\\x93\\x1e\\x83e\\xe1Z\\x08\\x9ch\\xd6\\x19\\x00\\x00\\x00\\x00\\x00\\t\\x83\\x0c\\x00\\n\\xc2\\x00\\x00\\x03u{\\x800,\\x8d\\xfe8\\xa1\\'\\xc2Rp\\x0e\\xc3\\x05.Qh\\xa7\\xeck\\xa1\\x83\\xcd\\xab*\\xc7\\xad\\xad9\\x10\\x03\\x88\\x11t\\xde\\xbeU\\x02H\\xd7\\xdd\\xfe\"W\\xe5\\x07\\xc4\\xbb\\x15G\\x8a\\x00\\xc0\\x1boV\\xf7\\x8f\\x8a\\x04\\xe1\\x19\\x91\\x02\\xe7\\xfe\\x9d=;\\xba\\xdf\\xf7\\nJ\\xd1\\x83\\x82\\x07\\xccZ\\xfd\\xd1rm\\xb9f\\x85\\t\\xfe\\xd5\\xfc\\x82\\xa7s;\\xb0\\x02\\xca\\\\\\xeeM#r\\rD\\xab\\x9et\\xc6\\n\\xaeS\\x16\\xed\\xfc\\x7f\\x88q\\xab|\\xbe\\xd0\\x9cn[\\xa7\\x1d\\xee\\xfe\\xfd\\x01\\xb0\\x01\\x00\\x91jr&\\xb1T:S\\xac\\xa5\\'p\\x9c\\xc4\\x15F\\x04\\xb6\\x03\\xbeXV\\x87\\x81\\x04\\xd8\\xa7!P\\xd15Sy \\xe5Lb\\xdd\\r\\xe1\\x00\\xe4\\xf1\\x82\\x18\\x17m*\\xac\\xa2\\xb4\\x86\\xf4M\\xd0\\x11\\xfb\\xd6l\\x19\\x87\\x88\\x03]8\\xdf\\xb6\\xa6\\x0c\\xaf\\xb3\\xe9jQ\\xd2\\xa2\\x1d\\x1b\\xeb\\xf4}\\x99\\xd3\\x079\\xb5\\xa2z\\x05(ce\\xbb\\x07\\x93\\x01t\\xbd\\x97\\xf5Y\\x13\\xfa\\x81\\xb7O\\x16n\\xc3\\x91\\xf91iO\\x1e)\\x95\\x95\\x80\\xcb7\\x82E\\x94\\'>\\x13a\\xc4\\x8e\\xd5\\xc3r`fH\\x86\\xd5\\x03&\\x8b\\xd1\\xfflb\\xca\\xdb\\xab\\xe4\\x93\\xb6\\xe9\\x8f\\xddR1\\x8d\\xd3\\x98\\x861\\x83R\\x9c\\x0e\\xa1\\xf2Z\\x08\\x1a\\xf8?\\x8a\\xbe\\x03\\xf0\\xde_\\xf2z\\x96\\x86\\xdd\\xd67\\r\\'\\xfb8\\xfc\\xe2\\xfck\\xde\\x82&\\x15?:\\x84\\x1e\\xbe\\xddKg\\x15\\x95\\xaf\\xf6\\xe4J\\x00\\x8d\\xcbT\\xb1;\\xcb\\xe8a\\x15\\x98\\xbcJ\\t\\xa88}\\xbf\\x96\\x1f\\xfb\\xf5\\xc1c4Lt\\xffXZ\\xb5\\xd5|x\\xaa\\x14\\xd8\\x93\\xce;\\xad:\\x06\\x96A\\x00\\x00o\\xe2\\x8c\\n\\xb6\\xf1\\xb3r\\xc1\\xa6\\xa2F\\xaec\\xf7O\\x93\\x1e\\x83e\\xe1Z\\x08\\x9ch\\xd6\\x19\\x00\\x00\\x00\\x00\\x00\\t\\x83D\\x00\\x07\\x07\\x00\\x00\\x02\\xb9[\\xf2\\x83l\\xae\\'C\\x92O\\xbc\\x05\\x88\\xd5\\x8a\\xe5\\xa7G\\xb5\\xcfInw\\x1f\\x9dV\\t\\xbb;\\xef\\x90y\\x03u{\\x800,\\x8d\\xfe8\\xa1\\'\\xc2Rp\\x0e\\xc3\\x05.Qh\\xa7\\xeck\\xa1\\x83\\xcd\\xab*\\xc7\\xad\\xad9\\x10\\x02\\x15\\xc9\\xdf\\x14s\\xe5\\x05_\\xd0\\x1b\\x8c\\x8d!\\xce\\xef>@X\\xab\\xe4\\xa1R\\x98N\\x8b\\xf0\\xe0\\xd6\\xe4J\\xa2;\\x02\\x0c\\xe44\\xbb\\xd3\\xd6,[\\xda\\xdd\\xa5\\x1d\\xb0\\x99\\x9e%q8g/\\xf3\\x97\\xc8\\x11p\\x00\\x03\\x0b0!!\\x1c\\xfd\\x01\\xb0\\x01\\x00\\xb1\\xa0\\xcd\\x87Cx\\xd0\\x05_\\x14\\xf0\\xcd\\xe2\\xa7\\xaf\\xbc\\x19\\xe5\\xe41X\\\\\\xde\\xc03\\xdfv\\xca}\\x81\\x1e\\xb2\\x19\\xe2\\xe4u\\xdf\\xdf\\x19?.m\\x9e\\xe0\\x91\\xf9\\xea\\x9eK*\\xc1\\xe7\\xf2\\x8b\\xf8\\xca4\\xf2j\\x13\\xdb\\r\\x04\\xc9A\\xd6?\\x19\\x13\\x10\\x91\\xac\\xf5\\x1e\\xc6X\\xd6\\xcb\\xa0\\xc0\\xd5x\\x9e\\xbbbu\\xa2\\xe3r\\x9c-5\\xec\\xd6\\x9c\\x88\\t\\x9d\\xde&1\\t51\\x00\\xde>\\xe5TAwoi\\xf8\\xfc<c\\xa4\\xe9\\xa6FS(Y\\xeaB*\\x0b+\\x16\\xcb\\x9a\\xaf6\\xfc\\xc1\\x92l\\xe2\\xd4\\xad\\x19N\\x8d\\x9bb\\xcf##\\x11;\\xa8\\xcdXZ\\x19\\xb8\\xcdy\\xd4cd\\x86\\x00\\x1a\\xd4\\x9d6\\x816\\x03b\\xd1\\xd1\\x0f\\x8714\\xc9\\x08\\x07\\x80\\x91JO\\xa1%\\x90\\xdf`\\x93]\\xef$\\x18L0\\x1f)\\xdc_\\xca\\xa6\\xea\\xb8\\xca'"
      ]
     },
     "execution_count": 35,
     "metadata": {},
     "output_type": "execute_result"
    }
   ],
   "source": [
    "content[0:5000]"
   ]
  },
  {
   "cell_type": "code",
   "execution_count": 39,
   "id": "cd62c55c",
   "metadata": {},
   "outputs": [
    {
     "data": {
      "text/plain": [
       "1339792490"
      ]
     },
     "execution_count": 39,
     "metadata": {},
     "output_type": "execute_result"
    }
   ],
   "source": [
    "len(content)"
   ]
  },
  {
   "cell_type": "code",
   "execution_count": 72,
   "id": "a3136bbd",
   "metadata": {},
   "outputs": [
    {
     "data": {
      "text/plain": [
       "83"
      ]
     },
     "execution_count": 72,
     "metadata": {},
     "output_type": "execute_result"
    }
   ],
   "source": [
    "content[1]"
   ]
  },
  {
   "cell_type": "code",
   "execution_count": 21,
   "id": "7e167f86",
   "metadata": {},
   "outputs": [
    {
     "name": "stdout",
     "output_type": "stream",
     "text": [
      "<class 'bytes'>\n"
     ]
    }
   ],
   "source": [
    "print(type(content))"
   ]
  },
  {
   "cell_type": "code",
   "execution_count": 22,
   "id": "d8983c8a",
   "metadata": {},
   "outputs": [
    {
     "name": "stdout",
     "output_type": "stream",
     "text": [
      "71\n",
      "83\n",
      "80\n",
      "1\n",
      "253\n",
      "1\n",
      "176\n",
      "1\n",
      "0\n",
      "136\n"
     ]
    }
   ],
   "source": [
    "for i in content[0:10]:\n",
    "    print(i)"
   ]
  },
  {
   "cell_type": "code",
   "execution_count": 19,
   "id": "391e5d51",
   "metadata": {},
   "outputs": [
    {
     "ename": "ValueError",
     "evalue": "invalid literal for int() with base 10: b'GSP\\x01\\xfd\\x01\\xb0\\x01\\x00\\x88'",
     "output_type": "error",
     "traceback": [
      "\u001b[1;31m---------------------------------------------------------------------------\u001b[0m",
      "\u001b[1;31mValueError\u001b[0m                                Traceback (most recent call last)",
      "\u001b[1;32m~\\AppData\\Local\\Temp/ipykernel_15700/3310987846.py\u001b[0m in \u001b[0;36m<module>\u001b[1;34m\u001b[0m\n\u001b[1;32m----> 1\u001b[1;33m \u001b[0mint\u001b[0m\u001b[1;33m(\u001b[0m\u001b[0mcontent\u001b[0m\u001b[1;33m[\u001b[0m\u001b[1;36m0\u001b[0m\u001b[1;33m:\u001b[0m\u001b[1;36m10\u001b[0m\u001b[1;33m]\u001b[0m\u001b[1;33m)\u001b[0m\u001b[1;33m\u001b[0m\u001b[1;33m\u001b[0m\u001b[0m\n\u001b[0m",
      "\u001b[1;31mValueError\u001b[0m: invalid literal for int() with base 10: b'GSP\\x01\\xfd\\x01\\xb0\\x01\\x00\\x88'"
     ]
    }
   ],
   "source": [
    "int(content[0:10])"
   ]
  },
  {
   "cell_type": "code",
   "execution_count": null,
   "id": "2c6c5864",
   "metadata": {},
   "outputs": [],
   "source": []
  },
  {
   "cell_type": "code",
   "execution_count": null,
   "id": "9b160c80",
   "metadata": {},
   "outputs": [],
   "source": []
  },
  {
   "cell_type": "code",
   "execution_count": null,
   "id": "17334819",
   "metadata": {},
   "outputs": [],
   "source": [
    "from pyln.proto.primitives import varint_decode\n",
    "import bz2\n",
    "\n",
    "def read_dataset(filename: str):\n",
    "    with bz2.open(filename, 'rb') as f:\n",
    "        header = f.read(4)\n",
    "        print(header[3])\n",
    "        assert(header[:3] == b'GSP' and header[3] == 1)\n",
    "        while True:\n",
    "            length = varint_decode(f)\n",
    "            msg = f.read(length)\n",
    "            if len(msg) != length:\n",
    "                raise ValueError(f\"Incomplete message read from {filename}\")\n",
    "\n",
    "            yield msg"
   ]
  },
  {
   "cell_type": "code",
   "execution_count": 12,
   "id": "9c7f1b2a",
   "metadata": {},
   "outputs": [],
   "source": [
    "str(content)"
   ]
  },
  {
   "cell_type": "code",
   "execution_count": 6,
   "id": "ecabc661",
   "metadata": {},
   "outputs": [],
   "source": [
    "print(content)"
   ]
  },
  {
   "cell_type": "code",
   "execution_count": null,
   "id": "3f5b311e",
   "metadata": {},
   "outputs": [],
   "source": []
  }
 ],
 "metadata": {
  "kernelspec": {
   "display_name": "Python 3 (ipykernel)",
   "language": "python",
   "name": "python3"
  },
  "language_info": {
   "codemirror_mode": {
    "name": "ipython",
    "version": 3
   },
   "file_extension": ".py",
   "mimetype": "text/x-python",
   "name": "python",
   "nbconvert_exporter": "python",
   "pygments_lexer": "ipython3",
   "version": "3.9.7"
  }
 },
 "nbformat": 4,
 "nbformat_minor": 5
}
