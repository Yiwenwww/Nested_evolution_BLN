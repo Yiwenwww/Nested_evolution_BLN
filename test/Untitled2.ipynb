{
 "cells": [
  {
   "cell_type": "code",
   "execution_count": 2,
   "id": "0aad7eba",
   "metadata": {},
   "outputs": [],
   "source": [
    "from pyln.proto.primitives import varint_decode\n",
    "import bz2\n",
    "from binascii import hexlify"
   ]
  },
  {
   "cell_type": "code",
   "execution_count": 4,
   "id": "2e87a08b",
   "metadata": {},
   "outputs": [],
   "source": [
    "class CompactSize:\n",
    "    @staticmethod\n",
    "    def decode(data):\n",
    "        if data[0] < 0xfd:\n",
    "            return data[0], 1\n",
    "        elif data[0] == 0xfd:\n",
    "            return int.from_bytes(data[1:3], byteorder='little'), 3\n",
    "        elif data[0] == 0xfe:\n",
    "            return int.from_bytes(data[1:5], byteorder='little'), 5\n",
    "        elif data[0] == 0xff:\n",
    "            return int.from_bytes(data[1:9], byteorder='little'), 9\n",
    "\n",
    "def decode_custom_file_format(file_path):\n",
    "    with open(file_path, 'rb') as file:\n",
    "        header = file.read(4)\n",
    "        if header[:3] != b'GSP':\n",
    "            raise ValueError(\"Invalid file format: Header prefix doesn't match 'GSP'\")\n",
    "\n",
    "        version = header[3]\n",
    "        if version != 0x01:\n",
    "            raise ValueError(f\"Unsupported version: {version}\")\n",
    "\n",
    "        messages = []\n",
    "        while True:\n",
    "            length_data = file.read(1)\n",
    "            if not length_data:\n",
    "                break\n",
    "            \n",
    "            length, length_bytes = CompactSize.decode(length_data)\n",
    "            message_data = file.read(length)\n",
    "            messages.append(message_data)\n",
    "\n",
    "    return messages\n",
    "\n"
   ]
  },
  {
   "cell_type": "code",
   "execution_count": 5,
   "id": "2e6f45b2",
   "metadata": {},
   "outputs": [
    {
     "name": "stdout",
     "output_type": "stream",
     "text": [
      "All messages saved to all_messages.txt\n"
     ]
    }
   ],
   "source": [
    "file_path = 'gossip-20220823.gsp'\n",
    "decoded_messages = decode_custom_file_format(file_path)\n",
    "\n",
    "# Save all decoded messages into a single text file\n",
    "with open('all_messages.txt', 'wb') as txt_file:\n",
    "    for index, message in enumerate(decoded_messages):\n",
    "        txt_file.write(message)\n",
    "        txt_file.write(b'\\n\\n')  # Adding a separator between messages\n",
    "\n",
    "print(\"All messages saved to all_messages.txt\")"
   ]
  },
  {
   "cell_type": "code",
   "execution_count": null,
   "id": "d16ee22f",
   "metadata": {},
   "outputs": [],
   "source": [
    "for index, message in enumerate(decoded_messages):\n",
    "    print(f\"Message {index + 1}: {message}\")"
   ]
  },
  {
   "cell_type": "code",
   "execution_count": 6,
   "id": "ed03cde1",
   "metadata": {},
   "outputs": [
    {
     "name": "stdout",
     "output_type": "stream",
     "text": [
      "Message 4: b'\\xdb\\xa6\\xb2\\xe8\\x9c\\xbf\\x83\\x86\\x91\\x00\\x00\\x00BleskomatDecentruck\\x00\\x00\\x00\\x00\\x00\\x00\\x00\\x00\\x00\\x00\\x00\\x00\\x00\\x00-\\x04\\xcf\\x0f\\x0bCA\\xcc\\xbb\\xd7\\x0c\\xae\\xebQ\\xddN%*\\xcd\\xda_V\\x05\\xd7\\xfd\\x8a\\xdf\\x9dY\\x9b\\x1a\\xf7\\x8e\\x87aW\\x03&\\x08\\x01U\\xd8\\xca/&\\x07'\n"
     ]
    }
   ],
   "source": [
    "print(f\"Message {3 + 1}: {message}\")"
   ]
  },
  {
   "cell_type": "code",
   "execution_count": 20,
   "id": "9bc167b8",
   "metadata": {},
   "outputs": [
    {
     "data": {
      "text/plain": [
       "'96bdc5a13d79d4fc359174ae270c38d92f77d806d4798819e59b62857bfb00749c7ba98fe565a0d8d27f83bac4221916fb9c71d730a32c9a0ab968876fbada261890127472ffb27d8249a3069befa47dcaf6e5a4244ab53e7345dd98be40633f5c347a59d4b8d0f3c28746403e20b62e35435bde44bff4c4005a723ffa1091743181f8eb36e4622f'"
      ]
     },
     "execution_count": 20,
     "metadata": {},
     "output_type": "execute_result"
    }
   ],
   "source": [
    "hexlify(decoded_messages[3]).decode(\"ASCII\")"
   ]
  },
  {
   "cell_type": "code",
   "execution_count": null,
   "id": "adaab466",
   "metadata": {},
   "outputs": [],
   "source": [
    "decoded_messages[0]"
   ]
  },
  {
   "cell_type": "code",
   "execution_count": null,
   "id": "a9f48659",
   "metadata": {},
   "outputs": [],
   "source": [
    "decoded_messages[1]"
   ]
  },
  {
   "cell_type": "code",
   "execution_count": null,
   "id": "2807cb8e",
   "metadata": {},
   "outputs": [],
   "source": [
    "decoded_messages[2]"
   ]
  },
  {
   "cell_type": "code",
   "execution_count": null,
   "id": "26b349d5",
   "metadata": {},
   "outputs": [],
   "source": []
  },
  {
   "cell_type": "code",
   "execution_count": 21,
   "id": "e097cf52",
   "metadata": {},
   "outputs": [
    {
     "name": "stdout",
     "output_type": "stream",
     "text": [
      "b''\n",
      "b'\\xb0'\n",
      "b'\\x00'\n",
      "b'\\x96\\xbd\\xc5\\xa1=y\\xd4\\xfc5\\x91t\\xae\\'\\x0c8\\xd9/w\\xd8\\x06\\xd4y\\x88\\x19\\xe5\\x9bb\\x85{\\xfb\\x00t\\x9c{\\xa9\\x8f\\xe5e\\xa0\\xd8\\xd2\\x7f\\x83\\xba\\xc4\"\\x19\\x16\\xfb\\x9cq\\xd70\\xa3,\\x9a\\n\\xb9h\\x87o\\xba\\xda&\\x18\\x90\\x12tr\\xff\\xb2}\\x82I\\xa3\\x06\\x9b\\xef\\xa4}\\xca\\xf6\\xe5\\xa4$J\\xb5>sE\\xdd\\x98\\xbe@c?\\\\4zY\\xd4\\xb8\\xd0\\xf3\\xc2\\x87F@> \\xb6.5C[\\xdeD\\xbf\\xf4\\xc4\\x00Zr?\\xfa\\x10\\x91t1\\x81\\xf8\\xeb6\\xe4b/'\n",
      "b'\\x06\\x8a\\xae\\x12\\xf2s\\xa4\\x83'\n",
      "b\"?\\x08\\xc9b\\xf4eJT\\xd5\\xfeH\\xb8\\xacg;\\xc1\\xa05{_\\x08\\xb3A\\xda\\x12n\\xe7h\\xf7\\xcf4d\\xf8\\xd8\\x19\\xc9\\xb1D\\x9f\\xee\\xfd\\xadm\\x12\\xd1\\x7f\\xb6\\x08\\xbd\\xfdA\\x08\\xf8\\xd6\\x00\\x88\\x12\\x02\\x97\\x0c\\xda\\xf0[\\xdf[ a\\xe6Q\\x91\\x16u)\\xa2\\x89/\\xff(\\xf8\\xab\\xf2\\x97e\\xa0\\xffQ\\xf2\\\\\\x9ex'\\x9a\\x90\\xa0\\xbd\\xcb\\xb7\\x1e\\x00qJ\\x12bKp\\xd6\\xdf\\xccW\\x00\\x00o\\xe2\\x8c\\n\\xb6\\xf1\"\n",
      "b'r\\xc1\\xa6\\xa2F\\xaec\\xf7O\\x93\\x1e\\x83e\\xe1Z\\x08\\x9ch\\xd6\\x19\\x00\\x00\\x00\\x00\\x00\\t\\xb7=\\x00\\t\\xa5\\x00\\x00\\x03\\x86N\\xf0%\\xfd\\xe8\\xfbX}\\x98\\x91\\x86\\xcejJ\\x18h\\x95\\xeeD\\xa9&\\xbf\\xc3p\\xe2\\xc3fYz?\\x8f\\x03\\xb3\\x1e[\\xbf,\\xdb\\xe1\\x15\\xb4\\x85\\xa2\\xb4\\x80\\xe7\\n\\x1e\\xf3\\x95\\x1a\\r\\xc6\\xdfK\\x122\\xe0\\xe5o=\\xce\\x18\\xd6\\x03\\x9d\\xe0K\\xa5\\xd3^\\xb2\\xda\\xa4&\\xfd8k\\xef\\xd6\\x81j\\xa5\\xb1$a\\xf0Y\\xa2\\xeai\\x00\\x94rB:\\xe2\\x02N!y\\xa7\\xe8\\x17X\\xdf5\\xe0=\\xbc\\xc3\\x8e^\\xca\\xc5rR\\xb9t\\x05\\xa9ne5J\\x0e`!\\xe8d\\xfd\\x01\\xb0\\x01\\x002R\\x12\\x878\\xdc\\x0b\\xc0['\n",
      "b'{\\xf1\\x1e\\xc3\\x94[yL\\xfb\\xfd'\n",
      "b'\\xe2.\\t\\x1cr\\xbe\\x9f\\xf5\\x94\\x02\\xc9\\x13G\\xb1R\\\\\\x98!\\xacL\\x83x\\x9fO\\xf61\\x11r4oY]G\\xfc`\\xa1\\xc6\\xf0\\xccR\\x99\\x94\\xa41>)\\xb4\\xb0\\xfeU\\xd5\\xf5d\\xd6a07\\x11-\\xa7\\xd11\\xc74\\x1f\\x15\\xc3\\x8c\\xb2\\xa8\\xf7ZQf@\\rG\\xcbM\\xe6F\\x17\\xe7'\n",
      "b'\\xba5\\xbc\\x1e\\x99W\\xe1:\\xc1\\x0c\\x98\\xe44\\x94\\xd5U\\xdb\\xd5\\x90=\\x9a\\xee\\x9dW\\xfd\\xee\\x88\\x08\\x1e\\r;,\\x0b\\xae\\xe4\\xf9V\\xbe\\x83\\xce\\x12*Q\\x19\\xc6\\x1a&0(\\xda\\x18\\x0bD\\xb6\\x92,\\xa8\\xc2\\xc2R\\xa3\\x1b\\xad\\xee\\xae\\x86\\xec\\x1b\\xaa\\xca\\xc0\\xcc/\\x0c\\x83u\\xb7\\x01\\xcb-\\x86a[\\xde|\\xec\\xc8\\xaf\\xc2\\xe1\\t\\xb4\\xd9\\xfeL\\xb0\\x7f\\x11\\x14\\xbd\\x05\\xbe\\x93\\x82\\x9a\\x98\\x89*\\xe9\\xa3\\xfb\\xb1h\\x80\\xb62\\xfe\\x02\\x18}\\xf2F\\xa4?E\\xebT\\xf8\\x8c:\\x1d\\x07\\xd1+\\xf7\\x11\\x88A^x`P\\xa9\\x8f\\xe0\\x80T\\xfaBoY\\x00\\x00o\\xe2\\x8c\\n\\xb6\\xf1\\xb3r\\xc1\\xa6\\xa2F\\xaec\\xf7O\\x93\\x1e\\x83e\\xe1Z\\x08\\x9ch\\xd6\\x19\\x00\\x00\\x00\\x00\\x00\\tJ5\\x00\\x03\\xcb\\x00\\x01\\x02\\x16\\x07\\xcf\\xce\\x19\\xa4\\xc5\\xe7\\xe6\\xe78f=\\xfa\\xfb\\xbb\\xac&.O\\xf7l,\\x9b0\\xdb\\xee\\xfc5\\xc0'\n",
      "b'C\\x03\\x8a\\xe1\\x97\\x82'\n",
      "b'\\x0f\\xfds#Rs5daJ\\x9f\\x7f\\x1d\\xcd\\xa0%;\\x9d\"(\\x9c\\xa9\\xef\\xe0f6\\x8b\\x02)\\rS\\x19\\xae\\xb8\\xdc\\xfd\\x0e[\\xa6\\xdcZ\\x03\\xac#\\xf8\\x91\\x1b\\xbe\\xe2\\xe1\\x01\\xe9bDk\\x19\\xde\\xb4H{\\x02>5\\xe7\\x07\\x94\\x17\\tN\\xc3+\\xa5\\x89\\xab\\x98\\x13\\x11\\x7fw9\\r\\x987.l^\\xb8\\xb0\\x8bo\\x81\\xe6\\xf3\\xfd\\x01\\xb0\\x01\\x00q\\xfegvT\\x16\\x17\\xb4!\\xcb\\xe0\\xd8\\t\\x96\\xa5\\xc2\\xfa\\x1a}\\xc4~\\x1b;\\x05\\nz)\\xea\\xf9z\\x8d\"F6~}E\\xe1\\x1c\\xe5#\\xcae\\x88\\xef'\n",
      "b'\\x83x\\xb6\\x14\\xea\\xf6\\x19\\xa7\\x19W\\xa7\\xc3\\xf0@ \\x16\\xfcN;\\x8b(\\xe3y<*L\\xb6\\xb4#\\xce\\xa8\\x01?\\xeaa\\x11\\xd5\\xbd\\x90azOs1k\\xdd.\\xd3k\\rP\\xe4%k\\xfb@|\\xfe\\xdd\\x8e\\x01;w\\xa70\\xc6q\\x0fnQ\\x0fl\\xfcY98\\xfa\\xe7\\xebU&\\xb8)`\\x08\\xbb\\x9b\\xd9g\\xfd\\xef\\xec\\xcaH\\xbe\\x17\\xc9\\xab\\xbc\\x8e\\x0eo\\x05\\x1f\\xca\\xa2\\x96\\xf1\\x98\\xdf4O}\\xf0% +\\xad\\x9cP\\x85\\xe8\\xc3mn\\x8f\\xb6\\xc8\\x0f\\xaa'\n",
      "b'\\x12\\xdd\\xd7^\\x1e\\xc2\\xb34@8yk\\x04\\x04\\x9b\\x97\\xcb\\xaf\\xd9pna=\\xe9\\x99\\xb2\\x87\\x8b2\\xfax\\x0cudZ\\xe3\\x14\\xf2\\xa86N\\x1f'\n",
      "b'\\x1f\\xcf\\x92T:\\xf1\\xb2\\xda%\\x8e\\xb2>\\xed\\x9a<\\xea)\\xc1\\xf6\\x88\\x9d\\xae'\n",
      "b':\\xc24Vi\\xcf\\x83?a\\xe4\\x15u\\x93\\x00\\x00o\\xe2\\x8c\\n\\xb6\\xf1\\xb3r\\xc1\\xa6\\xa2F\\xaec\\xf7O\\x93\\x1e\\x83e\\xe1Z\\x08\\x9ch\\xd6\\x19\\x00\\x00\\x00\\x00\\x00\\x08b\\xbb\\x00\\t\\x01\\x00\\x00\\x03-K\\xae\\xbe\\xbf\\xde\\xabz.\\xce\\xf2\\xfb\\xe1\\t\\xcb\\xef\\x10\\xde\\x95\\xf0Z\\xa5@\\x90\\xfd\\xb6\\x87x\\x95G\\xdb\\xf5\\x03CJ9\\xcd\\x9aS|\\x85/\\xc8\\xfbrE@\\x86\\xd7&\\xf9\\x11\\x1e\\x9fs\\x0c\\xefI\\x85\\xc3\\x9c\\x11\\xfa\\xe9D\\x03\\xf9\\xd2\\x935F\\xc5\\x8d*c?V\\xc0q\\xe7L\\x1e\\xce\\xb3\\xb8$3F\\xe7\\xf3O\\xc7\\x84\\x1fB\\xfb=t\\x03\\xa9\\x1cs\\xa4\\xa8_\\x96\\xa0\\x18\\x9e\\xfa\\xc6l\\x10\\xb1\\x8a\\xee\\x84\\xc9o+\\x02\\x1d\\x83\\xf86\\xcb\\x0bma\\xc3m\\xfd\\x01\\xb0\\x01\\x00\\x13\\x92'\n",
      "b'y>\\xb6\\xc9\\x9aJ\"\\xd6\\x08\\x1f\\xebw{\\x0c\\x91\\xd28\\x83\\x15\\xeeD\\xd4\\x82b\\x86\\xb5\\x80ItOP\\xa6\\xb6(\\x0bg\\xee\\xeb\\xe4\\xc4a\\x8f\\xd2\\x90\\x10\\xd4\\'\\xebN\\x17\\xb7c\\x8d\\xf1\\xb8\\xc2fG\\x02\\xd0\\xc7\\x0b\\xbc\\x0cNq\\xb34\\xee\\xc9\\x81H\\x80\\x08BN\\xd0\\x97\\x06\\xce\\x8dP84\\x8a\\xe6\\xa02=\\xf6Q\\xd7eL\\x02\\x17\\x82\\x15@m\\x1c\\x9bRvi4\\x1f#\\xb8\"\\xb9\\xdc$\\xa5!@E'\n",
      "b'\\x9d\\xb3\\xa9\\x937\\\\\\x88\\xa7\\x95\\xf2\\xf4\\xfd\\xf1&\\x8d\\xac\\xa1\\x00Y\\xd8\\x14\\xa2\\xd9\\xdb\\xc0\\x93\\x7fP\\x01baT\\x8fJ\\x13\\x12\\xa4M\\xcex\\x9b\\x08/\\xd1\\xbe\\xe3\\xe0\\x11*E[\\xcaW\\x83\\x1a\\xbb\\x04\\x97\\xbcI\\xb3\\xd1O\\xc2d\\x1b\\x01!\\x1b?&\\xa7}r\\xdbh\\xf4Oh\\xe4\\x1d\\xd3\\xd0h\\xaf4\\xd2U\\x99-7\\xff\\xc4\\xb1s\\xc6\\xe7\\xdd\\x96S~V\\xa4\\x18\\xebD\\xf6%\\xbf\\xaa\\xba\\xab\\x0e\\xe9\\x812\\xa6\\x99\\xeaQ\\xc8\\xf0].\\n\\xba\\xa8\\xd24\\xe85\\x90\\x07\\x93w\\x00\\x00o\\xe2\\x8c\\n\\xb6\\xf1\\xb3r\\xc1\\xa6\\xa2F\\xaec\\xf7O\\x93\\x1e\\x83'\n",
      "b'\\xe1Z\\x08\\x9ch\\xd6\\x19\\x00\\x00\\x00\\x00\\x00\\x08\\x975\\x00\\x07`\\x00\\x01\\x03,\\x9b\\xab{\\xf5\\xc3\\xb1z\\xd21\\xc6\\x171X\\x90\\x86\\x12\\'\\xa8\\x02\\xb4\"\\xc6$\"\\xcf\\x03\\xbfO\\x08\\x9a\\x0c\\x03CJ9\\xcd\\x9aS|\\x85/\\xc8\\xfbrE@\\x86\\xd7&\\xf9\\x11\\x1e\\x9fs\\x0c\\xefI\\x85\\xc3\\x9c\\x11\\xfa\\xe9D\\x03yZ\\xc2\\x9b \\xfc\\xa4\\x1c~\\x04\\x1f>V~'\n",
      "b'c\\x9f\\x0cb\\x03'\n",
      "b'\\x16\\x87\\xb5\\xfc\\xe2>\\xad\\xa6Q\\x13U\\x02\\xd310\\xe2W\\\\`\\xc6\\x04xB2\\xa8g\\x89\\x82\\x8b\\x85\\x97\\xe9ds\\xb7\\xf5:X\\xdb\\'\\x10\\xbb|\\xbe\\xfd\\x01\\xb0\\x01\\x00\\x1d\\xa4\\xb2STsU\\xc72\\xd5\\xa5\\xf0\\xbcP\\xf0\\xe0\\x10y\\x16\\x86.aa$\\xbae\\xa0\\xc4$W6r\\x08q\\x18\\x12\\x13\\xd5\\x912\\xcf\\x11\\xf7\\xf8\\xc8\\xe2\\xc7i\\xa2\\xf2|X\\\\]\\xd1\\xde\\x1fy\\x9a\\x9b\\xffTG\\x87\\xde\\xc3\\xd9\\xff\\xcdv\"\\n2'\n",
      "b'8\\xe3\\xc8\\x8dVuz\\xe6\\x81\\xbdWb\\xd3\\xe8\\xc3SjZ\\xb5\\xb4]\\xafE&+E\\xfc\\xf7\\xd4Cl l\\xc7\\xb4\\xf75$\\xa1\\xdb\\xa77\\xa6\\xec\\xd0\\xd4\\xbe>\\x0fJ*\\xbf\\xd1\\xb3\\x99\\xbf\\xbb\\xff\\x02V\\x93\\xc3Q\\xdfcdj\\x13d\\x8be\\xb3r\\x8dzv\\x1a\\xa1\\xefP\\xfe\\xdb\\xac\\x92(\\xa5\\x03\\x1av\\xec*3\\x9eO\\xc6\\xf25\\x03B\\x1e\\x7f\\x91\\x15\\xbf:\\x112+#U\\x99r\\xc5\\xcc;v\\x9d\\x16;}\\x97\\xc0c\\xfb\\xc9 \\xb3 \\x10\\xff.\\xb2\\xce\\xa3\\xa4\\x85\\xbb~\\x9c\\xfc\\nf\\xf9cU\\x0c\\xa4hQ\\xb3\\x01\\xb5\\x1c\\xc9!\\xeeG\\x8a\\xf6?\\xf4\\x13r\\xad\\xbc\\x0cf\\xa7\\xf4\\xd7\\x9dS\\xe7\\xb5\\xaa'\n",
      "b'I\\x96\\xd8\\x9bF\\x11\\x00\\x00o\\xe2\\x8c\\n\\xb6\\xf1\\xb3r\\xc1\\xa6\\xa2F\\xaec\\xf7O\\x93\\x1e\\x83e\\xe1Z\\x08\\x9ch\\xd6\\x19\\x00\\x00\\x00\\x00\\x00\\t\\x96a\\x00\\x06?\\x00\\x00\\x03\\x1ex,\\x02\\xd1\\xc8\\x07\\xa7\\xe8\\xfb\\x18\\xa19\\x10\\x9cr\\x13\\xbe\\xe6\\x10\\x80\\xf5\\x99\\xd4;\\x8e\\x7f\\x97!C\\x86\\xce\\x03\\xbftA\\x84$3\\xa3\\x04\\xa1\\x02z\\xbf\\xb7_9\\x9c\\xfc\\xf6/'\n",
      "b\"3\\x9f\\x15\\xb6\\xc2|$\\xd6\\x91\\x00\\xeeP\\x02\\x82\\xbd|\\xb3MZ\\xad\\xed\\x1f\\x87\\x0c\\xa3\\xae\\x81\\xe0s\\x84_^\\x99\\xd3.o:\\xe0\\x85D\\x99\\x87\\x03\\xdf>\\x03\\xba\\x9c\\xadu\\xf8u\\x96\\xbd\\xf7\\x02^\\x16]g\\xb2\\t\\xa6\\r\\n\\xaa\\x89=}_ /\\xea\\xf7\\xc1\\x12\\xe5\\xe0\\xfd\\x01\\xb0\\x01\\x00:\\xa6\\x87\\xc1\\xd7\\x8c\\xa3\\xd6\\xa0j\\x03-\\xaf\\x04\\xfe'\\xb1J\\xa0\\x85Xe\\xf6\\xfdB\\xc9\\xe4\\x9f\\xd6\\xf1\\xb6\\xc5\\x1b[\"\n",
      "b'\\x08\\xb1\\xe5u&\\xe9\\xee\\xbb\\x0c\\x8b\\xee\\xd7\\x03\\xacGg%\\xad?\\xcb\\xb0/\\xbbcF\\xcd\\xde58B\\xd2\\xa45\\x99\\x08\\xb7\\xae0&o\\x12%/\\x91\\x81=\\xcf\\x08\\xc8\\xfc\\xf0\\xe2\\x9b\\xe16\\x03\\x1b\\xea`\\xf3'\n",
      "b'@\"|\\r\\xd0H\\xb7\\xc1G\\xa6`G,\\xc0\\xe7\\xd6\\xf5\\xb4\\x10\\xbf[\\r\\x89g\\x91\\'\\x1b\\x9e\\x87\\xbd\\xabm_\\xb0y\\xd1\\xa0\\xf8\\x9d\\xbf\\x87(\\x8b\\x9c4#\\xf9\\xfa{\\x80B\\x9d\\xde\\xf0@>X\\xcb\\xc5\\xaf\\x11!!U\\n'\n",
      "b\"TZVg\\xd86\\x9f\\xec\\xd5,\\x9b\\x85\\xb5\\x9f\\xdb$L\\x01V\\x96\\xbd\\x11(\\xf7\\xdb\\x1c\\x97os\\x9a'3\\x06\\x97Gm\\xfb_\\xff\\x95E\\xf0.\\x8b\\x94\\xfc\\x01\\x8b\\x88\\rmM\\x00\\xf8\\x91\\xbe\\xbaV\\xe0\\x891\\x92\\x01\\xb9\\xads\\xc66\\x90,*\\xbf\\x89\\xa1\\n=/^\\xd6\\xa8\\xf2\\xc4W%\\x8d*\\xa4jUo2\\x8ad\\xd1\\x00\\x00o\\xe2\\x8c\\n\\xb6\\xf1\\xb3r\\xc1\\xa6\\xa2F\\xaec\\xf7O\\x93\\x1e\\x83e\\xe1Z\\x08\\x9ch\\xd6\\x19\\x00\\x00\\x00\\x00\\x00\\t\\xb9\\xec\\x00\\x03&\\x00\\x01\\x02g\\xf3\\xa6\\x0c\\xe8\\xca\\x93\\xa2\\x14*\\x86\\x81\\\\ \\xfd\\x00\\xfeL\\x01\\xd4\\xf8\\xe5%\\xc3\\x8b\\xae?mXS\\xcb4\\x03u{\\x800,\\x8d\\xfe8\\xa1'\\xc2Rp\\x0e\\xc3\\x05.Qh\\xa7\\xeck\\xa1\\x83\\xcd\\xab*\\xc7\\xad\\xad9\\x10\\x03\\xc7\\x91\\x1b\\xa5\\xfc\\x95\\xca\\x0c\\xa9\\x8c\\xc1\\x98\\xc1#\\x94L(\\xbf\\x06\"\n",
      "b'BA%\\xa2w\\xc9Y\\x06\\x94\\xbb\\xb3\\x98\\x02\\x1c\\xa3\\xe1\\\\\\x08Q\\x9dM\\xd6\\x01\\xa1\\xea\\x93\\xe9\\xb7\\xf8)\\x88=\\x7f\\xcf\\x9f8H\\xc9XB\\xb6\\xcao o\\xfd\\x01\\xb0\\x01\\x00\\x91}\\xa3\\xb3\\x10\\xa18i\\xe4\\x9c\\\\\\xde\\xd6:\\xbf\\x1a\\x83\\xc1|\\xc3\\x0c\\xbf\\xaa\\xf4`\\xa0\\xcf|\\x89k\\xcbG\\x02|\\x845\\xd2\\x81q_\\x9f8\\xbb\\x03q\\xfb\\xafk{N)=\\xfe\\xd3\\xa3K\\xe3\\x98\\xae\\xb9\\xecR\\xc8\\x17\\xa1\\xac'\n",
      "b'\\xa5\\xacH\\x88\\x88\\xb1\\xcfi\\nV1\\xbf'\n",
      "b'\\xb4J\\xa9\\xff1\\xd5\\x14\\x87y,\\xb8\\xbc\\xc8\\x18\\x07\\x8aNHRP\\x15\\xd7\\xbd\\x92\\xe7\\xc4\\x8d*\\x89\\x07\\x9d\\x0f\\xba\\x1f\\x1a\\xbc0\\xf8'\n"
     ]
    },
    {
     "ename": "KeyboardInterrupt",
     "evalue": "",
     "output_type": "error",
     "traceback": [
      "\u001b[1;31m---------------------------------------------------------------------------\u001b[0m",
      "\u001b[1;31mKeyboardInterrupt\u001b[0m                         Traceback (most recent call last)",
      "\u001b[1;32m~\\AppData\\Local\\Temp/ipykernel_29452/3309024144.py\u001b[0m in \u001b[0;36m<module>\u001b[1;34m\u001b[0m\n\u001b[0;32m      1\u001b[0m \u001b[1;32mfor\u001b[0m \u001b[0mi\u001b[0m \u001b[1;32min\u001b[0m \u001b[0mrange\u001b[0m\u001b[1;33m(\u001b[0m\u001b[1;36m100\u001b[0m\u001b[1;33m)\u001b[0m\u001b[1;33m:\u001b[0m\u001b[1;33m\u001b[0m\u001b[1;33m\u001b[0m\u001b[0m\n\u001b[1;32m----> 2\u001b[1;33m     \u001b[0mprint\u001b[0m\u001b[1;33m(\u001b[0m\u001b[0mdecoded_messages\u001b[0m\u001b[1;33m[\u001b[0m\u001b[0mi\u001b[0m\u001b[1;33m]\u001b[0m\u001b[1;33m)\u001b[0m\u001b[1;33m\u001b[0m\u001b[1;33m\u001b[0m\u001b[0m\n\u001b[0m",
      "\u001b[1;32m~\\anaconda3\\lib\\site-packages\\ipykernel\\iostream.py\u001b[0m in \u001b[0;36mwrite\u001b[1;34m(self, string)\u001b[0m\n\u001b[0;32m    527\u001b[0m             \u001b[0mis_child\u001b[0m \u001b[1;33m=\u001b[0m \u001b[1;33m(\u001b[0m\u001b[1;32mnot\u001b[0m \u001b[0mself\u001b[0m\u001b[1;33m.\u001b[0m\u001b[0m_is_master_process\u001b[0m\u001b[1;33m(\u001b[0m\u001b[1;33m)\u001b[0m\u001b[1;33m)\u001b[0m\u001b[1;33m\u001b[0m\u001b[1;33m\u001b[0m\u001b[0m\n\u001b[0;32m    528\u001b[0m             \u001b[1;31m# only touch the buffer in the IO thread to avoid races\u001b[0m\u001b[1;33m\u001b[0m\u001b[1;33m\u001b[0m\u001b[0m\n\u001b[1;32m--> 529\u001b[1;33m             \u001b[0mself\u001b[0m\u001b[1;33m.\u001b[0m\u001b[0mpub_thread\u001b[0m\u001b[1;33m.\u001b[0m\u001b[0mschedule\u001b[0m\u001b[1;33m(\u001b[0m\u001b[1;32mlambda\u001b[0m\u001b[1;33m:\u001b[0m \u001b[0mself\u001b[0m\u001b[1;33m.\u001b[0m\u001b[0m_buffer\u001b[0m\u001b[1;33m.\u001b[0m\u001b[0mwrite\u001b[0m\u001b[1;33m(\u001b[0m\u001b[0mstring\u001b[0m\u001b[1;33m)\u001b[0m\u001b[1;33m)\u001b[0m\u001b[1;33m\u001b[0m\u001b[1;33m\u001b[0m\u001b[0m\n\u001b[0m\u001b[0;32m    530\u001b[0m             \u001b[1;32mif\u001b[0m \u001b[0mis_child\u001b[0m\u001b[1;33m:\u001b[0m\u001b[1;33m\u001b[0m\u001b[1;33m\u001b[0m\u001b[0m\n\u001b[0;32m    531\u001b[0m                 \u001b[1;31m# mp.Pool cannot be trusted to flush promptly (or ever),\u001b[0m\u001b[1;33m\u001b[0m\u001b[1;33m\u001b[0m\u001b[0m\n",
      "\u001b[1;32m~\\anaconda3\\lib\\site-packages\\ipykernel\\iostream.py\u001b[0m in \u001b[0;36mschedule\u001b[1;34m(self, f)\u001b[0m\n\u001b[0;32m    212\u001b[0m             \u001b[0mself\u001b[0m\u001b[1;33m.\u001b[0m\u001b[0m_events\u001b[0m\u001b[1;33m.\u001b[0m\u001b[0mappend\u001b[0m\u001b[1;33m(\u001b[0m\u001b[0mf\u001b[0m\u001b[1;33m)\u001b[0m\u001b[1;33m\u001b[0m\u001b[1;33m\u001b[0m\u001b[0m\n\u001b[0;32m    213\u001b[0m             \u001b[1;31m# wake event thread (message content is ignored)\u001b[0m\u001b[1;33m\u001b[0m\u001b[1;33m\u001b[0m\u001b[0m\n\u001b[1;32m--> 214\u001b[1;33m             \u001b[0mself\u001b[0m\u001b[1;33m.\u001b[0m\u001b[0m_event_pipe\u001b[0m\u001b[1;33m.\u001b[0m\u001b[0msend\u001b[0m\u001b[1;33m(\u001b[0m\u001b[1;34mb''\u001b[0m\u001b[1;33m)\u001b[0m\u001b[1;33m\u001b[0m\u001b[1;33m\u001b[0m\u001b[0m\n\u001b[0m\u001b[0;32m    215\u001b[0m         \u001b[1;32melse\u001b[0m\u001b[1;33m:\u001b[0m\u001b[1;33m\u001b[0m\u001b[1;33m\u001b[0m\u001b[0m\n\u001b[0;32m    216\u001b[0m             \u001b[0mf\u001b[0m\u001b[1;33m(\u001b[0m\u001b[1;33m)\u001b[0m\u001b[1;33m\u001b[0m\u001b[1;33m\u001b[0m\u001b[0m\n",
      "\u001b[1;32m~\\anaconda3\\lib\\site-packages\\zmq\\sugar\\socket.py\u001b[0m in \u001b[0;36msend\u001b[1;34m(self, data, flags, copy, track, routing_id, group)\u001b[0m\n\u001b[0;32m    539\u001b[0m                 )\n\u001b[0;32m    540\u001b[0m             \u001b[0mdata\u001b[0m\u001b[1;33m.\u001b[0m\u001b[0mgroup\u001b[0m \u001b[1;33m=\u001b[0m \u001b[0mgroup\u001b[0m\u001b[1;33m\u001b[0m\u001b[1;33m\u001b[0m\u001b[0m\n\u001b[1;32m--> 541\u001b[1;33m         \u001b[1;32mreturn\u001b[0m \u001b[0msuper\u001b[0m\u001b[1;33m(\u001b[0m\u001b[0mSocket\u001b[0m\u001b[1;33m,\u001b[0m \u001b[0mself\u001b[0m\u001b[1;33m)\u001b[0m\u001b[1;33m.\u001b[0m\u001b[0msend\u001b[0m\u001b[1;33m(\u001b[0m\u001b[0mdata\u001b[0m\u001b[1;33m,\u001b[0m \u001b[0mflags\u001b[0m\u001b[1;33m=\u001b[0m\u001b[0mflags\u001b[0m\u001b[1;33m,\u001b[0m \u001b[0mcopy\u001b[0m\u001b[1;33m=\u001b[0m\u001b[0mcopy\u001b[0m\u001b[1;33m,\u001b[0m \u001b[0mtrack\u001b[0m\u001b[1;33m=\u001b[0m\u001b[0mtrack\u001b[0m\u001b[1;33m)\u001b[0m\u001b[1;33m\u001b[0m\u001b[1;33m\u001b[0m\u001b[0m\n\u001b[0m\u001b[0;32m    542\u001b[0m \u001b[1;33m\u001b[0m\u001b[0m\n\u001b[0;32m    543\u001b[0m     \u001b[1;32mdef\u001b[0m \u001b[0msend_multipart\u001b[0m\u001b[1;33m(\u001b[0m\u001b[0mself\u001b[0m\u001b[1;33m,\u001b[0m \u001b[0mmsg_parts\u001b[0m\u001b[1;33m,\u001b[0m \u001b[0mflags\u001b[0m\u001b[1;33m=\u001b[0m\u001b[1;36m0\u001b[0m\u001b[1;33m,\u001b[0m \u001b[0mcopy\u001b[0m\u001b[1;33m=\u001b[0m\u001b[1;32mTrue\u001b[0m\u001b[1;33m,\u001b[0m \u001b[0mtrack\u001b[0m\u001b[1;33m=\u001b[0m\u001b[1;32mFalse\u001b[0m\u001b[1;33m,\u001b[0m \u001b[1;33m**\u001b[0m\u001b[0mkwargs\u001b[0m\u001b[1;33m)\u001b[0m\u001b[1;33m:\u001b[0m\u001b[1;33m\u001b[0m\u001b[1;33m\u001b[0m\u001b[0m\n",
      "\u001b[1;32mzmq/backend/cython/socket.pyx\u001b[0m in \u001b[0;36mzmq.backend.cython.socket.Socket.send\u001b[1;34m()\u001b[0m\n",
      "\u001b[1;32mzmq/backend/cython/socket.pyx\u001b[0m in \u001b[0;36mzmq.backend.cython.socket.Socket.send\u001b[1;34m()\u001b[0m\n",
      "\u001b[1;32mzmq/backend/cython/socket.pyx\u001b[0m in \u001b[0;36mzmq.backend.cython.socket._send_copy\u001b[1;34m()\u001b[0m\n",
      "\u001b[1;32m~\\anaconda3\\lib\\site-packages\\zmq\\backend\\cython\\checkrc.pxd\u001b[0m in \u001b[0;36mzmq.backend.cython.checkrc._check_rc\u001b[1;34m()\u001b[0m\n",
      "\u001b[1;31mKeyboardInterrupt\u001b[0m: "
     ]
    }
   ],
   "source": [
    "for i in range(100):\n",
    "    print(decoded_messages[i])"
   ]
  },
  {
   "cell_type": "code",
   "execution_count": null,
   "id": "b54904b1",
   "metadata": {},
   "outputs": [],
   "source": []
  },
  {
   "cell_type": "code",
   "execution_count": 22,
   "id": "8c752821",
   "metadata": {},
   "outputs": [
    {
     "ename": "Error",
     "evalue": "Odd-length string",
     "output_type": "error",
     "traceback": [
      "\u001b[1;31m---------------------------------------------------------------------------\u001b[0m",
      "\u001b[1;31mError\u001b[0m                                     Traceback (most recent call last)",
      "\u001b[1;32m~\\AppData\\Local\\Temp/ipykernel_29452/2534547590.py\u001b[0m in \u001b[0;36m<module>\u001b[1;34m\u001b[0m\n\u001b[0;32m     15\u001b[0m \u001b[1;33m\u001b[0m\u001b[0m\n\u001b[0;32m     16\u001b[0m \u001b[1;32mfor\u001b[0m \u001b[0mhex_string\u001b[0m \u001b[1;32min\u001b[0m \u001b[0mhex_strings\u001b[0m\u001b[1;33m:\u001b[0m\u001b[1;33m\u001b[0m\u001b[1;33m\u001b[0m\u001b[0m\n\u001b[1;32m---> 17\u001b[1;33m     \u001b[0mdecoded_data\u001b[0m \u001b[1;33m=\u001b[0m \u001b[0mbinascii\u001b[0m\u001b[1;33m.\u001b[0m\u001b[0munhexlify\u001b[0m\u001b[1;33m(\u001b[0m\u001b[0mhex_string\u001b[0m\u001b[1;33m)\u001b[0m\u001b[1;33m\u001b[0m\u001b[1;33m\u001b[0m\u001b[0m\n\u001b[0m\u001b[0;32m     18\u001b[0m     \u001b[0mdecoded_message\u001b[0m \u001b[1;33m=\u001b[0m \u001b[0mdecode_message\u001b[0m\u001b[1;33m(\u001b[0m\u001b[0mdecoded_data\u001b[0m\u001b[1;33m)\u001b[0m\u001b[1;33m\u001b[0m\u001b[1;33m\u001b[0m\u001b[0m\n\u001b[0;32m     19\u001b[0m     \u001b[0mdecoded_messages\u001b[0m\u001b[1;33m.\u001b[0m\u001b[0mappend\u001b[0m\u001b[1;33m(\u001b[0m\u001b[0mdecoded_message\u001b[0m\u001b[1;33m)\u001b[0m\u001b[1;33m\u001b[0m\u001b[1;33m\u001b[0m\u001b[0m\n",
      "\u001b[1;31mError\u001b[0m: Odd-length string"
     ]
    }
   ],
   "source": [
    "import binascii\n",
    "import io\n",
    "\n",
    "def decode_message(data):\n",
    "    return data.decode('utf-8')\n",
    "\n",
    "hex_strings = [\n",
    "    b'\\xb0',\n",
    "    b'\\x00',\n",
    "    b'\\x96\\xbd\\xc5\\xa1=y\\xd4\\xfc5\\x91t\\xae\\'\\x0c8\\xd9/w\\xd8\\x06\\xd4y\\x88\\x19\\xe5\\x9bb\\x85{\\xfb\\x00t\\x9c{\\xa9\\x8f\\xe5e\\xa0\\xd8\\xd2\\x7f\\x83\\xba\\xc4\"\\x19\\x16\\xfb\\x9cq\\xd70\\xa3,\\x9a\\n\\xb9h\\x87o\\xba\\xda&\\x18\\x90\\x12tr\\xff\\xb2}\\x82I\\xa3\\x06\\x9b\\xef\\xa4}\\xca\\xf6\\xe5\\xa4$J\\xb5>sE\\xdd\\x98\\xbe@c?\\\\4zY\\xd4\\xb8\\xd0\\xf3\\xc2\\x87F@> \\xb6.5C[\\xdeD\\xbf\\xf4\\xc4\\x00Zr?\\xfa\\x10\\x91t1\\x81\\xf8\\xeb6\\xe4b/',\n",
    "    # ... (other hexadecimal strings)\n",
    "]\n",
    "\n",
    "decoded_messages = []\n",
    "\n",
    "for hex_string in hex_strings:\n",
    "    decoded_data = binascii.unhexlify(hex_string)\n",
    "    decoded_message = decode_message(decoded_data)\n",
    "    decoded_messages.append(decoded_message)\n",
    "\n",
    "for i, message in enumerate(decoded_messages):\n",
    "    print(f\"Decoded Message {i + 1}: {message}\")"
   ]
  },
  {
   "cell_type": "code",
   "execution_count": null,
   "id": "e82ef5b7",
   "metadata": {},
   "outputs": [],
   "source": []
  }
 ],
 "metadata": {
  "kernelspec": {
   "display_name": "Python 3 (ipykernel)",
   "language": "python",
   "name": "python3"
  },
  "language_info": {
   "codemirror_mode": {
    "name": "ipython",
    "version": 3
   },
   "file_extension": ".py",
   "mimetype": "text/x-python",
   "name": "python",
   "nbconvert_exporter": "python",
   "pygments_lexer": "ipython3",
   "version": "3.9.7"
  }
 },
 "nbformat": 4,
 "nbformat_minor": 5
}
