{
 "cells": [
  {
   "cell_type": "code",
   "execution_count": 1,
   "id": "291ea8d9",
   "metadata": {},
   "outputs": [
    {
     "name": "stderr",
     "output_type": "stream",
     "text": [
      "C:\\Users\\wyw25\\AppData\\Local\\Temp/ipykernel_11344/254710273.py:6: DeprecationWarning: This package has been superseded by the `leidenalg` package and will no longer be maintained. Please upgrade to the `leidenalg` package.\n",
      "  import louvain\n"
     ]
    }
   ],
   "source": [
    "import networkx as nx\n",
    "from matplotlib import pyplot, patches\n",
    "from scipy import io\n",
    "import numpy as np\n",
    "from collections import defaultdict\n",
    "import louvain\n",
    "import pickle\n",
    "from tqdm import tqdm\n",
    "import matplotlib.ticker as ticker\n",
    "import matplotlib.pyplot as plt "
   ]
  },
  {
   "cell_type": "code",
   "execution_count": 2,
   "id": "6d3c0e80",
   "metadata": {},
   "outputs": [],
   "source": [
    "def Prob_links(Mat,alpha):\n",
    "    N=len(Mat)\n",
    "    incr_m=Mat\n",
    "    decay_m=[[0] * N for row in range(N)]\n",
    "    # degree for each mode \n",
    "    Degree=np.sum(Mat, axis=0)\n",
    "   \n",
    "\n",
    "    for i in range(N):\n",
    "        Value={}\n",
    "        Decline={}\n",
    "        for j in range(i+1,N):  # the node i with j\n",
    "            if Mat[i][j]==0:  # no link\n",
    "                Value[j]=Degree[j] # degree is the value     \n",
    "                    \n",
    "            if Mat[i][j]==1:  # with link\n",
    "                Decline[j]=Degree[j] # degree is the value\n",
    "                \n",
    "    #    print(Value)\n",
    "        max_keys=0\n",
    "        max_value=0\n",
    "        if len(Value) >0:\n",
    "            max_value = max(Value.values())  # maximum value\n",
    "            max_keys = [k for k, v in Value.items() if v == max_value]    # maximun keys    \n",
    "    #    print(max_keys)\n",
    "        # count the number of maxium keys for divider\n",
    "        if max_keys != 0:\n",
    "            for k in max_keys:\n",
    "                incr_m[i][k]=  alpha/len(max_keys)\n",
    "                incr_m[k][i]=  alpha/len(max_keys)\n",
    "          \n",
    "                \n",
    "        min_keys=0\n",
    "        min_value=0\n",
    "        if len(Decline) >0:\n",
    "            min_value = min(Decline.values())  # min value\n",
    "            min_keys = [k for k, v in Decline.items() if v == min_value]    # min keys    \n",
    "            \n",
    "        if min_keys != 0:\n",
    "            for k in min_keys:\n",
    "                decay_m[i][k]=  (1-alpha)/len(min_keys)\n",
    "                decay_m[k][i]= (1- alpha)/len(min_keys)         \n",
    "                            \n",
    "        \n",
    "    return  incr_m, decay_m\n",
    "\n",
    "        "
   ]
  },
  {
   "cell_type": "code",
   "execution_count": 3,
   "id": "8c125820",
   "metadata": {},
   "outputs": [],
   "source": [
    "def CreatMat(incr_m,decay_m):\n",
    "    B=np.random.rand(*np.array(incr_m).shape)\n",
    "    B_symm = (B + B.T)/2\n",
    "    adjacency_add = B_symm  <= np.array(incr_m) # adjacency[ii, jj] is True with probability P[ii, jj]\n",
    "    adjacency_de = B_symm  <= np.array(decay_m) # adjacency[ii, jj] is True with probability P[ii, jj]\n",
    "    \n",
    "    New_Mat=adjacency_add*1-adjacency_de*1\n",
    "    \n",
    "    \n",
    "    N=len(New_Mat)\n",
    "    ADD_Mat1=np.c_[New_Mat, np.zeros(N) ]       \n",
    "    ADD_Mat = np.vstack([ADD_Mat1,np.zeros(N+1)])\n",
    "  #  print(ADD_Mat)\n",
    "    return ADD_Mat.tolist()\n",
    "    "
   ]
  },
  {
   "cell_type": "code",
   "execution_count": 4,
   "id": "66410de6",
   "metadata": {},
   "outputs": [],
   "source": [
    "def Make_stable(Mat,n,alpha):\n",
    "    for i in tqdm(range(n)):\n",
    "        incr_m,decay_m=Prob_links(Mat,alpha)\n",
    "        Mat=CreatMat(incr_m,decay_m)\n",
    "            \n",
    "    return Mat\n",
    "    "
   ]
  },
  {
   "cell_type": "code",
   "execution_count": 5,
   "id": "ebac81cd",
   "metadata": {},
   "outputs": [],
   "source": [
    "def Make_Ori_Mat(N):\n",
    "    MATRIX=np.random.rand(N,N)\n",
    "    np.fill_diagonal(MATRIX, 0)\n",
    "    bollmat = 0.5  <= MATRIX\n",
    "    nummat=1*bollmat\n",
    "    randmat=np.minimum( nummat, nummat.transpose() )\n",
    "    \n",
    "    return randmat.tolist()\n",
    "    "
   ]
  },
  {
   "cell_type": "code",
   "execution_count": 6,
   "id": "9ef9dfec",
   "metadata": {},
   "outputs": [],
   "source": [
    "def draw_adjacency_matrix(G, node_order=None, partitions=[], colors=[]):\n",
    "    \"\"\"\n",
    "    - G is a netorkx graph\n",
    "    - node_order (optional) is a list of nodes, where each node in G\n",
    "          appears exactly once\n",
    "    - partitions is a list of node lists, where each node in G appears\n",
    "          in exactly one node list\n",
    "    - colors is a list of strings indicating what color each\n",
    "          partition should be\n",
    "    If partitions is specified, the same number of colors needs to be\n",
    "    specified.\n",
    "    \"\"\"\n",
    "    adjacency_matrix = nx.to_numpy_matrix(G, dtype=np.bool, nodelist=node_order)\n",
    "\n",
    "    #Plot adjacency matrix in toned-down black and white\n",
    "    fig = pyplot.figure(figsize=(5, 5)) # in inches\n",
    "    pyplot.imshow(adjacency_matrix,\n",
    "                  cmap=\"Greys\",\n",
    "                  interpolation=\"none\")\n",
    "    \n",
    "    # The rest is just if you have sorted nodes by a partition and want to\n",
    "    # highlight the module boundaries\n",
    "    assert len(partitions) == len(colors)\n",
    "    ax = pyplot.gca()\n",
    "    for partition, color in zip(partitions, colors):\n",
    "        current_idx = 0\n",
    "        for module in partition:\n",
    "            ax.add_patch(patches.Rectangle((current_idx, current_idx),\n",
    "                                          len(module), # Width\n",
    "                                          len(module), # Height\n",
    "                                          facecolor=\"none\",\n",
    "                                          edgecolor=color,\n",
    "                                          linewidth=\"1\"))\n",
    "            current_idx += len(module)"
   ]
  },
  {
   "cell_type": "code",
   "execution_count": 10,
   "id": "3cdd3f5c",
   "metadata": {},
   "outputs": [],
   "source": [
    "Mat=Make_Ori_Mat(10)"
   ]
  },
  {
   "cell_type": "code",
   "execution_count": 11,
   "id": "5728b042",
   "metadata": {},
   "outputs": [],
   "source": [
    "G=nx.from_numpy_matrix(np.array(Mat))"
   ]
  },
  {
   "cell_type": "code",
   "execution_count": 12,
   "id": "f83c7667",
   "metadata": {},
   "outputs": [
    {
     "name": "stderr",
     "output_type": "stream",
     "text": [
      "C:\\Users\\wyw25\\AppData\\Local\\Temp/ipykernel_11344/3589230769.py:13: DeprecationWarning: `np.bool` is a deprecated alias for the builtin `bool`. To silence this warning, use `bool` by itself. Doing this will not modify any behavior and is safe. If you specifically wanted the numpy scalar type, use `np.bool_` here.\n",
      "Deprecated in NumPy 1.20; for more details and guidance: https://numpy.org/devdocs/release/1.20.0-notes.html#deprecations\n",
      "  adjacency_matrix = nx.to_numpy_matrix(G, dtype=np.bool, nodelist=node_order)\n"
     ]
    },
    {
     "data": {
      "image/png": "[encoded data removed]",
      "text/plain": [
       "<Figure size 360x360 with 1 Axes>"
      ]
     },
     "metadata": {
      "needs_background": "light"
     },
     "output_type": "display_data"
    }
   ],
   "source": [
    "degreeofday=dict(G.degree)\n",
    "degreeofday_new={k: v for k, v in sorted(degreeofday.items(), key=lambda item: item[1], reverse=True)}\n",
    "nodenewlist=list(degreeofday_new.keys())\n",
    "draw_adjacency_matrix(G,nodenewlist)"
   ]
  },
  {
   "cell_type": "code",
   "execution_count": 16,
   "id": "fc160b72",
   "metadata": {
    "scrolled": true
   },
   "outputs": [
    {
     "name": "stderr",
     "output_type": "stream",
     "text": [
      "100%|████████████████████████████████████████████████████████████████████████████████████████████████████████████████████████████████████████████████████████████████| 1000/1000 [02:44<00:00,  6.07it/s]\n"
     ]
    }
   ],
   "source": [
    "mmmm=Make_stable(Mat,1000,0.50)"
   ]
  },
  {
   "cell_type": "code",
   "execution_count": 17,
   "id": "dc9f1b08",
   "metadata": {},
   "outputs": [],
   "source": [
    "G=nx.from_numpy_matrix(np.array(mmmm))"
   ]
  },
  {
   "cell_type": "code",
   "execution_count": 18,
   "id": "8e6e1a22",
   "metadata": {},
   "outputs": [
    {
     "name": "stderr",
     "output_type": "stream",
     "text": [
      "C:\\Users\\wyw25\\AppData\\Local\\Temp/ipykernel_11344/3589230769.py:13: DeprecationWarning: `np.bool` is a deprecated alias for the builtin `bool`. To silence this warning, use `bool` by itself. Doing this will not modify any behavior and is safe. If you specifically wanted the numpy scalar type, use `np.bool_` here.\n",
      "Deprecated in NumPy 1.20; for more details and guidance: https://numpy.org/devdocs/release/1.20.0-notes.html#deprecations\n",
      "  adjacency_matrix = nx.to_numpy_matrix(G, dtype=np.bool, nodelist=node_order)\n"
     ]
    },
    {
     "data": {
      "image/png": "[encoded data removed]",
      "text/plain": [
       "<Figure size 360x360 with 1 Axes>"
      ]
     },
     "metadata": {
      "needs_background": "light"
     },
     "output_type": "display_data"
    }
   ],
   "source": [
    "degreeofday=dict(G.degree)\n",
    "degreeofday_new={k: v for k, v in sorted(degreeofday.items(), key=lambda item: item[1], reverse=True)}\n",
    "nodenewlist=list(degreeofday_new.keys())\n",
    "draw_adjacency_matrix(G,nodenewlist)"
   ]
  },
  {
   "cell_type": "code",
   "execution_count": null,
   "id": "51006ad2",
   "metadata": {},
   "outputs": [],
   "source": []
  },
  {
   "cell_type": "code",
   "execution_count": null,
   "id": "051f7dba",
   "metadata": {},
   "outputs": [],
   "source": []
  },
  {
   "cell_type": "code",
   "execution_count": null,
   "id": "baf1bd13",
   "metadata": {},
   "outputs": [],
   "source": []
  },
  {
   "cell_type": "code",
   "execution_count": null,
   "id": "2909382c",
   "metadata": {},
   "outputs": [],
   "source": []
  },
  {
   "cell_type": "code",
   "execution_count": null,
   "id": "377cc16f",
   "metadata": {},
   "outputs": [],
   "source": []
  },
  {
   "cell_type": "code",
   "execution_count": 129,
   "id": "524ab4df",
   "metadata": {},
   "outputs": [
    {
     "data": {
      "image/png": "[encoded data removed]",
      "text/plain": [
       "<Figure size 432x288 with 1 Axes>"
      ]
     },
     "metadata": {},
     "output_type": "display_data"
    }
   ],
   "source": [
    "nodes = range(6)\n",
    "edges = {}\n",
    "for i in range(6):\n",
    "    for j in range(6):\n",
    "        if np.random.random() < m[i, j]:\n",
    "            edges[(i, j)] = round(m[i, j], 2)\n",
    "\n",
    "G = nx.Graph()\n",
    "G.add_nodes_from(nodes)\n",
    "G.add_edges_from(edges)\n",
    "pos = nx.spring_layout(G)\n",
    "nx.draw(G, pos)\n",
    "nx.draw_networkx_edge_labels(G, pos, edge_labels=edges)\n",
    "plt.show()\n",
    "    "
   ]
  },
  {
   "cell_type": "code",
   "execution_count": null,
   "id": "622051ae",
   "metadata": {},
   "outputs": [],
   "source": [
    "import numpy as np\n",
    "\n",
    "N = 100\n",
    "b = np.random.random_integers(-2000,2000,size=(N,N))\n",
    "b_symm = (b + b.T)/2"
   ]
  },
  {
   "cell_type": "code",
   "execution_count": 134,
   "id": "7fef20b2",
   "metadata": {},
   "outputs": [],
   "source": [
    "B=np.random.rand(*np.array(A).shape)\n",
    "B_symm = (B + B.T)/2\n",
    "adjacency = B_symm  <= np.array(A) # adjacency[ii, jj] is True with probability P[ii, jj]"
   ]
  },
  {
   "cell_type": "code",
   "execution_count": null,
   "id": "82a136d5",
   "metadata": {},
   "outputs": [],
   "source": []
  },
  {
   "cell_type": "code",
   "execution_count": 135,
   "id": "cf03bccf",
   "metadata": {},
   "outputs": [
    {
     "data": {
      "text/plain": [
       "array([[False,  True,  True, False, False, False],\n",
       "       [ True, False,  True, False,  True,  True],\n",
       "       [ True,  True, False,  True,  True,  True],\n",
       "       [False, False,  True, False, False, False],\n",
       "       [False,  True,  True, False, False, False],\n",
       "       [False,  True,  True, False, False, False]])"
      ]
     },
     "execution_count": 135,
     "metadata": {},
     "output_type": "execute_result"
    }
   ],
   "source": [
    "adjacency"
   ]
  },
  {
   "cell_type": "code",
   "execution_count": null,
   "id": "3f2cb82a",
   "metadata": {},
   "outputs": [],
   "source": []
  }
 ],
 "metadata": {
  "kernelspec": {
   "display_name": "Python 3 (ipykernel)",
   "language": "python",
   "name": "python3"
  },
  "language_info": {
   "codemirror_mode": {
    "name": "ipython",
    "version": 3
   },
   "file_extension": ".py",
   "mimetype": "text/x-python",
   "name": "python",
   "nbconvert_exporter": "python",
   "pygments_lexer": "ipython3",
   "version": "3.9.7"
  }
 },
 "nbformat": 4,
 "nbformat_minor": 5
}
