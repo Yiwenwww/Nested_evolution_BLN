{
 "cells": [
  {
   "cell_type": "code",
   "execution_count": 1,
   "id": "68eca49a",
   "metadata": {},
   "outputs": [
    {
     "name": "stderr",
     "output_type": "stream",
     "text": [
      "C:\\Users\\wyw25\\anaconda3\\lib\\site-packages\\scipy\\__init__.py:146: UserWarning: A NumPy version >=1.16.5 and <1.23.0 is required for this version of SciPy (detected version 1.26.2\n",
      "  warnings.warn(f\"A NumPy version >={np_minversion} and <{np_maxversion}\"\n",
      "C:\\Users\\wyw25\\AppData\\Local\\Temp/ipykernel_13436/254710273.py:6: DeprecationWarning: This package has been superseded by the `leidenalg` package and will no longer be maintained. Please upgrade to the `leidenalg` package.\n",
      "  import louvain\n"
     ]
    }
   ],
   "source": [
    "import networkx as nx\n",
    "from matplotlib import pyplot, patches\n",
    "from scipy import io\n",
    "import numpy as np\n",
    "from collections import defaultdict\n",
    "import louvain\n",
    "import pickle\n",
    "from tqdm import tqdm\n",
    "import matplotlib.ticker as ticker\n",
    "import matplotlib.pyplot as plt "
   ]
  },
  {
   "cell_type": "code",
   "execution_count": 184,
   "id": "d9cb02c6",
   "metadata": {},
   "outputs": [],
   "source": [
    "Mat=[[0,1,1,0,0,0],\n",
    "    [1,0,1,0,1,1],\n",
    "    [1,1,0,1,1,0],\n",
    "    [0,0,1,0,0,0],\n",
    "    [0,1,1,0,0,0],\n",
    "    [0,1,0,0,0,0]]"
   ]
  },
  {
   "cell_type": "code",
   "execution_count": 116,
   "id": "3b8a2361",
   "metadata": {},
   "outputs": [
    {
     "data": {
      "text/plain": [
       "array([2, 4, 4, 1, 2, 1])"
      ]
     },
     "execution_count": 116,
     "metadata": {},
     "output_type": "execute_result"
    }
   ],
   "source": [
    "np.sum(Mat, axis=0)"
   ]
  },
  {
   "cell_type": "code",
   "execution_count": 3,
   "id": "1b992b1f",
   "metadata": {},
   "outputs": [],
   "source": [
    "def Prob_links(Mat,alpha):\n",
    "    N=len(Mat)\n",
    "    incr_m=Mat\n",
    "    decay_m=[[0] * N for row in range(N)]\n",
    "    # degree for each mode \n",
    "    Degree=np.sum(Mat, axis=0)\n",
    "   \n",
    "\n",
    "    for i in range(N):\n",
    "        Value={}\n",
    "        Decline={}\n",
    "        for j in range(i+1,N):  # the node i with j\n",
    "            if Mat[i][j]==0:  # no link\n",
    "                Value[j]=Degree[j] # degree is the value     \n",
    "                    \n",
    "            if Mat[i][j]==1:  # with link\n",
    "                Decline[j]=Degree[j] # degree is the value\n",
    "                \n",
    "    #    print(Value)\n",
    "        max_keys=0\n",
    "        max_value=0\n",
    "        if len(Value) >0:\n",
    "            max_value = max(Value.values())  # maximum value\n",
    "            max_keys = [k for k, v in Value.items() if v == max_value]    # maximun keys    \n",
    "    #    print(max_keys)\n",
    "        # count the number of maxium keys for divider\n",
    "        if max_keys != 0:\n",
    "            for k in max_keys:\n",
    "                incr_m[i][k]=  alpha/len(max_keys)\n",
    "                incr_m[k][i]=  alpha/len(max_keys)\n",
    "          \n",
    "                \n",
    "        min_keys=0\n",
    "        min_value=0\n",
    "        if len(Decline) >0:\n",
    "            min_value = min(Decline.values())  # min value\n",
    "            min_keys = [k for k, v in Decline.items() if v == min_value]    # min keys    \n",
    "            \n",
    "        if min_keys != 0:\n",
    "            for k in min_keys:\n",
    "                decay_m[i][k]=  (1-alpha)/len(min_keys)\n",
    "                decay_m[k][i]= (1- alpha)/len(min_keys)         \n",
    "                            \n",
    "        \n",
    "    return  incr_m, decay_m\n",
    "\n",
    "        "
   ]
  },
  {
   "cell_type": "code",
   "execution_count": 4,
   "id": "75ff4ee6",
   "metadata": {},
   "outputs": [],
   "source": [
    "def CreatMat(incr_m,decay_m):\n",
    "    B=np.random.rand(*np.array(incr_m).shape)\n",
    "    B_symm = (B + B.T)/2\n",
    "    adjacency_add = B_symm  <= np.array(incr_m) # adjacency[ii, jj] is True with probability P[ii, jj]\n",
    "    adjacency_de = B_symm  <= np.array(decay_m) # adjacency[ii, jj] is True with probability P[ii, jj]\n",
    "    \n",
    "    New_Mat=adjacency_add*1-adjacency_de*1\n",
    "       \n",
    "    \n",
    " #   print(New_Mat)\n",
    "    return New_Mat.tolist()\n",
    "    "
   ]
  },
  {
   "cell_type": "code",
   "execution_count": 5,
   "id": "922d096a",
   "metadata": {},
   "outputs": [],
   "source": [
    "def Make_stable(Mat,n,alpha):\n",
    "    for i in tqdm(range(n)):\n",
    "        incr_m,decay_m=Prob_links(Mat,alpha)\n",
    "        Mat=CreatMat(incr_m,decay_m)\n",
    "            \n",
    "    return Mat\n",
    "    "
   ]
  },
  {
   "cell_type": "code",
   "execution_count": 6,
   "id": "31873aa9",
   "metadata": {},
   "outputs": [],
   "source": [
    "def Make_Ori_Mat(N):\n",
    "    MATRIX=np.random.rand(N,N)\n",
    "    np.fill_diagonal(MATRIX, 0)\n",
    "    bollmat = 0.5  <= MATRIX\n",
    "    nummat=1*bollmat\n",
    "    randmat=np.minimum( nummat, nummat.transpose() )\n",
    "    \n",
    "    return randmat.tolist()\n",
    "    "
   ]
  },
  {
   "cell_type": "code",
   "execution_count": 10,
   "id": "31291158",
   "metadata": {},
   "outputs": [],
   "source": [
    "def draw_adjacency_matrix(G, node_order=None, partitions=[], colors=[]):\n",
    "    \"\"\"\n",
    "    - G is a netorkx graph\n",
    "    - node_order (optional) is a list of nodes, where each node in G\n",
    "          appears exactly once\n",
    "    - partitions is a list of node lists, where each node in G appears\n",
    "          in exactly one node list\n",
    "    - colors is a list of strings indicating what color each\n",
    "          partition should be\n",
    "    If partitions is specified, the same number of colors needs to be\n",
    "    specified.\n",
    "    \"\"\"\n",
    "    adjacency_matrix = nx.to_numpy_matrix(G, dtype=bool, nodelist=node_order)\n",
    "\n",
    "    #Plot adjacency matrix in toned-down black and white\n",
    "    fig = pyplot.figure(figsize=(5, 5)) # in inches\n",
    "    pyplot.imshow(adjacency_matrix,\n",
    "                  cmap=\"Greys\",\n",
    "                  interpolation=\"none\")\n",
    "    \n",
    "    # The rest is just if you have sorted nodes by a partition and want to\n",
    "    # highlight the module boundaries\n",
    "    assert len(partitions) == len(colors)\n",
    "    ax = pyplot.gca()\n",
    "    for partition, color in zip(partitions, colors):\n",
    "        current_idx = 0\n",
    "        for module in partition:\n",
    "            ax.add_patch(patches.Rectangle((current_idx, current_idx),\n",
    "                                          len(module), # Width\n",
    "                                          len(module), # Height\n",
    "                                          facecolor=\"none\",\n",
    "                                          edgecolor=color,\n",
    "                                          linewidth=\"1\"))\n",
    "            current_idx += len(module)"
   ]
  },
  {
   "cell_type": "code",
   "execution_count": null,
   "id": "b6ef7620",
   "metadata": {},
   "outputs": [],
   "source": []
  },
  {
   "cell_type": "code",
   "execution_count": null,
   "id": "4ad7ec13",
   "metadata": {},
   "outputs": [],
   "source": []
  },
  {
   "cell_type": "code",
   "execution_count": 35,
   "id": "4a42d1c5",
   "metadata": {},
   "outputs": [],
   "source": [
    "Mat=Make_Ori_Mat(150)"
   ]
  },
  {
   "cell_type": "code",
   "execution_count": 36,
   "id": "442ebf5a",
   "metadata": {
    "scrolled": false
   },
   "outputs": [
    {
     "data": {
      "image/png": "[encoded data removed]",
      "text/plain": [
       "<Figure size 360x360 with 1 Axes>"
      ]
     },
     "metadata": {
      "needs_background": "light"
     },
     "output_type": "display_data"
    }
   ],
   "source": [
    "G=nx.from_numpy_matrix(np.array(Mat))\n",
    "degreeofday=dict(G.degree)\n",
    "degreeofday_new={k: v for k, v in sorted(degreeofday.items(), key=lambda item: item[1], reverse=True)}\n",
    "nodenewlist=list(degreeofday_new.keys())\n",
    "draw_adjacency_matrix(G,nodenewlist)"
   ]
  },
  {
   "cell_type": "code",
   "execution_count": null,
   "id": "387bbeaf",
   "metadata": {},
   "outputs": [],
   "source": []
  },
  {
   "cell_type": "code",
   "execution_count": 346,
   "id": "d5da588f",
   "metadata": {},
   "outputs": [],
   "source": [
    "Mat=[[0,1,1,0,0,0],\n",
    "    [1,0,1,0,1,1],\n",
    "    [1,1,0,1,1,0],\n",
    "    [0,0,1,0,0,0],\n",
    "    [0,1,1,0,0,0],\n",
    "    [0,1,0,0,0,0]]"
   ]
  },
  {
   "cell_type": "code",
   "execution_count": 37,
   "id": "2824fd21",
   "metadata": {
    "scrolled": true
   },
   "outputs": [
    {
     "name": "stderr",
     "output_type": "stream",
     "text": [
      "100%|██████████████████████████████████████████████████████████████████████████████| 1000/1000 [00:12<00:00, 83.28it/s]\n"
     ]
    }
   ],
   "source": [
    "mmmm=Make_stable(Mat,1000,0.4)"
   ]
  },
  {
   "cell_type": "code",
   "execution_count": 38,
   "id": "96700d2b",
   "metadata": {},
   "outputs": [
    {
     "data": {
      "image/png": "[encoded data removed]",
      "text/plain": [
       "<Figure size 360x360 with 1 Axes>"
      ]
     },
     "metadata": {
      "needs_background": "light"
     },
     "output_type": "display_data"
    }
   ],
   "source": [
    "G=nx.from_numpy_matrix(np.array(mmmm))\n",
    "degreeofday=dict(G.degree)\n",
    "degreeofday_new={k: v for k, v in sorted(degreeofday.items(), key=lambda item: item[1], reverse=True)}\n",
    "nodenewlist=list(degreeofday_new.keys())\n",
    "draw_adjacency_matrix(G,nodenewlist)"
   ]
  },
  {
   "cell_type": "code",
   "execution_count": 39,
   "id": "f03bb7c6",
   "metadata": {},
   "outputs": [
    {
     "data": {
      "text/plain": [
       "0.23272153945979449"
      ]
     },
     "execution_count": 39,
     "metadata": {},
     "output_type": "execute_result"
    }
   ],
   "source": [
    "NODF(np.array(mmmm))"
   ]
  },
  {
   "cell_type": "code",
   "execution_count": 40,
   "id": "86256ad3",
   "metadata": {},
   "outputs": [
    {
     "name": "stderr",
     "output_type": "stream",
     "text": [
      "100%|██████████████████████████████████████████████████████████████████████████████| 1000/1000 [00:12<00:00, 81.50it/s]\n"
     ]
    },
    {
     "data": {
      "text/plain": [
       "0.34874529978616414"
      ]
     },
     "execution_count": 40,
     "metadata": {},
     "output_type": "execute_result"
    },
    {
     "data": {
      "image/png": "[encoded data removed]",
      "text/plain": [
       "<Figure size 360x360 with 1 Axes>"
      ]
     },
     "metadata": {
      "needs_background": "light"
     },
     "output_type": "display_data"
    }
   ],
   "source": [
    "mmmm=Make_stable(Mat,1000,0.45)\n",
    "G=nx.from_numpy_matrix(np.array(mmmm))\n",
    "degreeofday=dict(G.degree)\n",
    "degreeofday_new={k: v for k, v in sorted(degreeofday.items(), key=lambda item: item[1], reverse=True)}\n",
    "nodenewlist=list(degreeofday_new.keys())\n",
    "draw_adjacency_matrix(G,nodenewlist)\n",
    "NODF(np.array(mmmm))"
   ]
  },
  {
   "cell_type": "code",
   "execution_count": 41,
   "id": "10ea3c6a",
   "metadata": {},
   "outputs": [
    {
     "name": "stderr",
     "output_type": "stream",
     "text": [
      "100%|██████████████████████████████████████████████████████████████████████████████| 1000/1000 [00:11<00:00, 86.51it/s]\n"
     ]
    },
    {
     "data": {
      "text/plain": [
       "0.2841074685940458"
      ]
     },
     "execution_count": 41,
     "metadata": {},
     "output_type": "execute_result"
    },
    {
     "data": {
      "image/png": "[encoded data removed]",
      "text/plain": [
       "<Figure size 360x360 with 1 Axes>"
      ]
     },
     "metadata": {
      "needs_background": "light"
     },
     "output_type": "display_data"
    }
   ],
   "source": [
    "mmmm=Make_stable(Mat,1000,0.48)\n",
    "G=nx.from_numpy_matrix(np.array(mmmm))\n",
    "degreeofday=dict(G.degree)\n",
    "degreeofday_new={k: v for k, v in sorted(degreeofday.items(), key=lambda item: item[1], reverse=True)}\n",
    "nodenewlist=list(degreeofday_new.keys())\n",
    "draw_adjacency_matrix(G,nodenewlist)\n",
    "NODF(np.array(mmmm))"
   ]
  },
  {
   "cell_type": "code",
   "execution_count": 42,
   "id": "a0ec5a36",
   "metadata": {},
   "outputs": [
    {
     "name": "stderr",
     "output_type": "stream",
     "text": [
      "100%|██████████████████████████████████████████████████████████████████████████████| 1000/1000 [00:13<00:00, 76.52it/s]\n"
     ]
    },
    {
     "data": {
      "text/plain": [
       "0.43800362701829604"
      ]
     },
     "execution_count": 42,
     "metadata": {},
     "output_type": "execute_result"
    },
    {
     "data": {
      "image/png": "[encoded data removed]",
      "text/plain": [
       "<Figure size 360x360 with 1 Axes>"
      ]
     },
     "metadata": {
      "needs_background": "light"
     },
     "output_type": "display_data"
    }
   ],
   "source": [
    "mmmm=Make_stable(Mat,1000,0.5)\n",
    "G=nx.from_numpy_matrix(np.array(mmmm))\n",
    "degreeofday=dict(G.degree)\n",
    "degreeofday_new={k: v for k, v in sorted(degreeofday.items(), key=lambda item: item[1], reverse=True)}\n",
    "nodenewlist=list(degreeofday_new.keys())\n",
    "draw_adjacency_matrix(G,nodenewlist)\n",
    "NODF(np.array(mmmm))"
   ]
  },
  {
   "cell_type": "code",
   "execution_count": 43,
   "id": "a19900cc",
   "metadata": {},
   "outputs": [
    {
     "name": "stderr",
     "output_type": "stream",
     "text": [
      "100%|██████████████████████████████████████████████████████████████████████████████| 1000/1000 [00:12<00:00, 78.97it/s]\n"
     ]
    },
    {
     "data": {
      "text/plain": [
       "0.5300414601043417"
      ]
     },
     "execution_count": 43,
     "metadata": {},
     "output_type": "execute_result"
    },
    {
     "data": {
      "image/png": "[encoded data removed]",
      "text/plain": [
       "<Figure size 360x360 with 1 Axes>"
      ]
     },
     "metadata": {
      "needs_background": "light"
     },
     "output_type": "display_data"
    }
   ],
   "source": [
    "mmmm=Make_stable(Mat,1000,0.6)\n",
    "G=nx.from_numpy_matrix(np.array(mmmm))\n",
    "degreeofday=dict(G.degree)\n",
    "degreeofday_new={k: v for k, v in sorted(degreeofday.items(), key=lambda item: item[1], reverse=True)}\n",
    "nodenewlist=list(degreeofday_new.keys())\n",
    "draw_adjacency_matrix(G,nodenewlist)\n",
    "NODF(np.array(mmmm))"
   ]
  },
  {
   "cell_type": "code",
   "execution_count": 44,
   "id": "bc8aba44",
   "metadata": {},
   "outputs": [
    {
     "name": "stderr",
     "output_type": "stream",
     "text": [
      "100%|██████████████████████████████████████████████████████████████████████████████| 1000/1000 [00:13<00:00, 75.46it/s]\n"
     ]
    },
    {
     "data": {
      "text/plain": [
       "0.10461333817038516"
      ]
     },
     "execution_count": 44,
     "metadata": {},
     "output_type": "execute_result"
    },
    {
     "data": {
      "image/png": "[encoded data removed]",
      "text/plain": [
       "<Figure size 360x360 with 1 Axes>"
      ]
     },
     "metadata": {
      "needs_background": "light"
     },
     "output_type": "display_data"
    }
   ],
   "source": [
    "mmmm=Make_stable(Mat,1000,0.8)\n",
    "G=nx.from_numpy_matrix(np.array(mmmm))\n",
    "degreeofday=dict(G.degree)\n",
    "degreeofday_new={k: v for k, v in sorted(degreeofday.items(), key=lambda item: item[1], reverse=True)}\n",
    "nodenewlist=list(degreeofday_new.keys())\n",
    "draw_adjacency_matrix(G,nodenewlist)\n",
    "NODF(np.array(mmmm))"
   ]
  },
  {
   "cell_type": "code",
   "execution_count": null,
   "id": "6fc2ae02",
   "metadata": {},
   "outputs": [],
   "source": []
  },
  {
   "cell_type": "code",
   "execution_count": null,
   "id": "b9ef2b32",
   "metadata": {},
   "outputs": [],
   "source": []
  },
  {
   "cell_type": "code",
   "execution_count": null,
   "id": "86c36255",
   "metadata": {},
   "outputs": [],
   "source": []
  },
  {
   "cell_type": "code",
   "execution_count": 494,
   "id": "569081de",
   "metadata": {},
   "outputs": [],
   "source": [
    "import csv\n",
    "\n",
    "with open(\"mat1000_04.csv\", \"w\", newline=\"\") as f:\n",
    "    writer = csv.writer(f)\n",
    "    writer.writerows(mmmm)"
   ]
  },
  {
   "cell_type": "code",
   "execution_count": null,
   "id": "35d3dd09",
   "metadata": {},
   "outputs": [],
   "source": []
  },
  {
   "cell_type": "code",
   "execution_count": 495,
   "id": "8622ff7b",
   "metadata": {},
   "outputs": [
    {
     "name": "stderr",
     "output_type": "stream",
     "text": [
      "100%|███████████████████████████████████████████████████████████████████████| 100000/100000 [14:07:28<00:00,  1.97it/s]\n"
     ]
    }
   ],
   "source": [
    "mmmm48=Make_stable(Mat,100000,0.48)"
   ]
  },
  {
   "cell_type": "code",
   "execution_count": 496,
   "id": "a5fcecba",
   "metadata": {},
   "outputs": [
    {
     "name": "stderr",
     "output_type": "stream",
     "text": [
      "C:\\Users\\wyw25\\AppData\\Local\\Temp/ipykernel_91228/3589230769.py:13: DeprecationWarning: `np.bool` is a deprecated alias for the builtin `bool`. To silence this warning, use `bool` by itself. Doing this will not modify any behavior and is safe. If you specifically wanted the numpy scalar type, use `np.bool_` here.\n",
      "Deprecated in NumPy 1.20; for more details and guidance: https://numpy.org/devdocs/release/1.20.0-notes.html#deprecations\n",
      "  adjacency_matrix = nx.to_numpy_matrix(G, dtype=np.bool, nodelist=node_order)\n"
     ]
    },
    {
     "data": {
      "image/png": "[encoded data removed]",
      "text/plain": [
       "<Figure size 360x360 with 1 Axes>"
      ]
     },
     "metadata": {
      "needs_background": "light"
     },
     "output_type": "display_data"
    }
   ],
   "source": [
    "G=nx.from_numpy_matrix(np.array(mmmm48))\n",
    "degreeofday=dict(G.degree)\n",
    "degreeofday_new={k: v for k, v in sorted(degreeofday.items(), key=lambda item: item[1], reverse=True)}\n",
    "nodenewlist=list(degreeofday_new.keys())\n",
    "draw_adjacency_matrix(G,nodenewlist)"
   ]
  },
  {
   "cell_type": "code",
   "execution_count": 497,
   "id": "8438f869",
   "metadata": {},
   "outputs": [],
   "source": [
    "with open(\"mat1000_48.csv\", \"w\", newline=\"\") as f:\n",
    "    writer = csv.writer(f)\n",
    "    writer.writerows(mmmm48)"
   ]
  },
  {
   "cell_type": "code",
   "execution_count": 498,
   "id": "4ea214e2",
   "metadata": {},
   "outputs": [
    {
     "name": "stderr",
     "output_type": "stream",
     "text": [
      "100%|███████████████████████████████████████████████████████████████████████| 100000/100000 [14:01:01<00:00,  1.98it/s]\n"
     ]
    }
   ],
   "source": [
    "mmmm495=Make_stable(Mat,100000,0.495)"
   ]
  },
  {
   "cell_type": "code",
   "execution_count": 499,
   "id": "2dfe25ee",
   "metadata": {},
   "outputs": [
    {
     "name": "stderr",
     "output_type": "stream",
     "text": [
      "C:\\Users\\wyw25\\AppData\\Local\\Temp/ipykernel_91228/3589230769.py:13: DeprecationWarning: `np.bool` is a deprecated alias for the builtin `bool`. To silence this warning, use `bool` by itself. Doing this will not modify any behavior and is safe. If you specifically wanted the numpy scalar type, use `np.bool_` here.\n",
      "Deprecated in NumPy 1.20; for more details and guidance: https://numpy.org/devdocs/release/1.20.0-notes.html#deprecations\n",
      "  adjacency_matrix = nx.to_numpy_matrix(G, dtype=np.bool, nodelist=node_order)\n"
     ]
    },
    {
     "data": {
      "image/png": "[encoded data removed]",
      "text/plain": [
       "<Figure size 360x360 with 1 Axes>"
      ]
     },
     "metadata": {
      "needs_background": "light"
     },
     "output_type": "display_data"
    }
   ],
   "source": [
    "G=nx.from_numpy_matrix(np.array(mmmm495))\n",
    "degreeofday=dict(G.degree)\n",
    "degreeofday_new={k: v for k, v in sorted(degreeofday.items(), key=lambda item: item[1], reverse=True)}\n",
    "nodenewlist=list(degreeofday_new.keys())\n",
    "draw_adjacency_matrix(G,nodenewlist)"
   ]
  },
  {
   "cell_type": "code",
   "execution_count": 500,
   "id": "af327dfd",
   "metadata": {},
   "outputs": [],
   "source": [
    "with open(\"mat1000_495.csv\", \"w\", newline=\"\") as f:\n",
    "    writer = csv.writer(f)\n",
    "    writer.writerows(mmmm495)"
   ]
  },
  {
   "cell_type": "code",
   "execution_count": 501,
   "id": "d83ac4b6",
   "metadata": {},
   "outputs": [
    {
     "name": "stderr",
     "output_type": "stream",
     "text": [
      "100%|███████████████████████████████████████████████████████████████████████| 100000/100000 [14:25:29<00:00,  1.93it/s]\n"
     ]
    }
   ],
   "source": [
    "mmmm495=Make_stable(Mat,100000,0.5)"
   ]
  },
  {
   "cell_type": "code",
   "execution_count": 503,
   "id": "d063b7f1",
   "metadata": {},
   "outputs": [
    {
     "name": "stderr",
     "output_type": "stream",
     "text": [
      "C:\\Users\\wyw25\\AppData\\Local\\Temp/ipykernel_91228/3589230769.py:13: DeprecationWarning: `np.bool` is a deprecated alias for the builtin `bool`. To silence this warning, use `bool` by itself. Doing this will not modify any behavior and is safe. If you specifically wanted the numpy scalar type, use `np.bool_` here.\n",
      "Deprecated in NumPy 1.20; for more details and guidance: https://numpy.org/devdocs/release/1.20.0-notes.html#deprecations\n",
      "  adjacency_matrix = nx.to_numpy_matrix(G, dtype=np.bool, nodelist=node_order)\n"
     ]
    },
    {
     "data": {
      "image/png": "[encoded data removed]",
      "text/plain": [
       "<Figure size 360x360 with 1 Axes>"
      ]
     },
     "metadata": {
      "needs_background": "light"
     },
     "output_type": "display_data"
    }
   ],
   "source": [
    "G=nx.from_numpy_matrix(np.array(mmmm495))\n",
    "degreeofday=dict(G.degree)\n",
    "degreeofday_new={k: v for k, v in sorted(degreeofday.items(), key=lambda item: item[1], reverse=True)}\n",
    "nodenewlist=list(degreeofday_new.keys())\n",
    "draw_adjacency_matrix(G,nodenewlist)"
   ]
  },
  {
   "cell_type": "code",
   "execution_count": null,
   "id": "a41a702f",
   "metadata": {},
   "outputs": [],
   "source": [
    "with open(\"mat1000_5.csv\", \"w\", newline=\"\") as f:\n",
    "    writer = csv.writer(f)\n",
    "    writer.writerows(mmmm5)"
   ]
  },
  {
   "cell_type": "code",
   "execution_count": 504,
   "id": "500b8e9e",
   "metadata": {},
   "outputs": [
    {
     "name": "stderr",
     "output_type": "stream",
     "text": [
      "100%|███████████████████████████████████████████████████████████████████████| 200000/200000 [27:00:52<00:00,  2.06it/s]\n"
     ]
    }
   ],
   "source": [
    "mmmm50=Make_stable(mmmm495,200000,0.5)"
   ]
  },
  {
   "cell_type": "code",
   "execution_count": 505,
   "id": "3f01db08",
   "metadata": {},
   "outputs": [
    {
     "name": "stderr",
     "output_type": "stream",
     "text": [
      "C:\\Users\\wyw25\\AppData\\Local\\Temp/ipykernel_91228/3589230769.py:13: DeprecationWarning: `np.bool` is a deprecated alias for the builtin `bool`. To silence this warning, use `bool` by itself. Doing this will not modify any behavior and is safe. If you specifically wanted the numpy scalar type, use `np.bool_` here.\n",
      "Deprecated in NumPy 1.20; for more details and guidance: https://numpy.org/devdocs/release/1.20.0-notes.html#deprecations\n",
      "  adjacency_matrix = nx.to_numpy_matrix(G, dtype=np.bool, nodelist=node_order)\n"
     ]
    },
    {
     "data": {
      "image/png": "[encoded data removed]",
      "text/plain": [
       "<Figure size 360x360 with 1 Axes>"
      ]
     },
     "metadata": {
      "needs_background": "light"
     },
     "output_type": "display_data"
    }
   ],
   "source": [
    "G=nx.from_numpy_matrix(np.array(mmmm50))\n",
    "degreeofday=dict(G.degree)\n",
    "degreeofday_new={k: v for k, v in sorted(degreeofday.items(), key=lambda item: item[1], reverse=True)}\n",
    "nodenewlist=list(degreeofday_new.keys())\n",
    "draw_adjacency_matrix(G,nodenewlist)"
   ]
  },
  {
   "cell_type": "code",
   "execution_count": null,
   "id": "aad4d75a",
   "metadata": {},
   "outputs": [],
   "source": []
  },
  {
   "cell_type": "code",
   "execution_count": null,
   "id": "dce24046",
   "metadata": {},
   "outputs": [],
   "source": []
  },
  {
   "cell_type": "code",
   "execution_count": 129,
   "id": "85dc9864",
   "metadata": {},
   "outputs": [
    {
     "data": {
      "image/png": "[encoded data removed]",
      "text/plain": [
       "<Figure size 432x288 with 1 Axes>"
      ]
     },
     "metadata": {},
     "output_type": "display_data"
    }
   ],
   "source": [
    "nodes = range(6)\n",
    "edges = {}\n",
    "for i in range(6):\n",
    "    for j in range(6):\n",
    "        if np.random.random() < m[i, j]:\n",
    "            edges[(i, j)] = round(m[i, j], 2)\n",
    "\n",
    "G = nx.Graph()\n",
    "G.add_nodes_from(nodes)\n",
    "G.add_edges_from(edges)\n",
    "pos = nx.spring_layout(G)\n",
    "nx.draw(G, pos)\n",
    "nx.draw_networkx_edge_labels(G, pos, edge_labels=edges)\n",
    "plt.show()\n",
    "    "
   ]
  },
  {
   "cell_type": "code",
   "execution_count": null,
   "id": "e2a6e469",
   "metadata": {},
   "outputs": [],
   "source": [
    "import numpy as np\n",
    "\n",
    "N = 100\n",
    "b = np.random.random_integers(-2000,2000,size=(N,N))\n",
    "b_symm = (b + b.T)/2"
   ]
  },
  {
   "cell_type": "code",
   "execution_count": 134,
   "id": "044bdc52",
   "metadata": {},
   "outputs": [],
   "source": [
    "B=np.random.rand(*np.array(A).shape)\n",
    "B_symm = (B + B.T)/2\n",
    "adjacency = B_symm  <= np.array(A) # adjacency[ii, jj] is True with probability P[ii, jj]"
   ]
  },
  {
   "cell_type": "code",
   "execution_count": null,
   "id": "5dc0f054",
   "metadata": {},
   "outputs": [],
   "source": []
  },
  {
   "cell_type": "code",
   "execution_count": 135,
   "id": "0557e437",
   "metadata": {},
   "outputs": [
    {
     "data": {
      "text/plain": [
       "array([[False,  True,  True, False, False, False],\n",
       "       [ True, False,  True, False,  True,  True],\n",
       "       [ True,  True, False,  True,  True,  True],\n",
       "       [False, False,  True, False, False, False],\n",
       "       [False,  True,  True, False, False, False],\n",
       "       [False,  True,  True, False, False, False]])"
      ]
     },
     "execution_count": 135,
     "metadata": {},
     "output_type": "execute_result"
    }
   ],
   "source": [
    "adjacency"
   ]
  },
  {
   "cell_type": "code",
   "execution_count": null,
   "id": "1de53da4",
   "metadata": {},
   "outputs": [],
   "source": []
  }
 ],
 "metadata": {
  "kernelspec": {
   "display_name": "Python 3 (ipykernel)",
   "language": "python",
   "name": "python3"
  },
  "language_info": {
   "codemirror_mode": {
    "name": "ipython",
    "version": 3
   },
   "file_extension": ".py",
   "mimetype": "text/x-python",
   "name": "python",
   "nbconvert_exporter": "python",
   "pygments_lexer": "ipython3",
   "version": "3.9.7"
  }
 },
 "nbformat": 4,
 "nbformat_minor": 5
}
